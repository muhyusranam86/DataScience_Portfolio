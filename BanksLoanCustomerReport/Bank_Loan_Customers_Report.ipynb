{
  "cells": [
    {
      "cell_type": "markdown",
      "metadata": {
        "id": "suTVnvzg9T4u"
      },
      "source": [
        "# Menganalisis Risiko Gagal Bayar Peminjam\n",
        "\n",
        "Tugas Anda adalah menyiapkan laporan untuk divisi kredit suatu bank. Anda akan mencari tahu pengaruh status perkawinan seorang nasabah dan jumlah anak yang dimilikinya terhadap probabilitas gagal bayar dalam pelunasan pinjaman. Pihak bank sudah memiliki beberapa data mengenai kelayakan kredit nasabah.\n",
        "\n",
        "Laporan Anda akan dipertimbangkan pada saat membuat **penilaian kredit** untuk calon nasabah. **Penilaian kredit** digunakan untuk mengevaluasi kemampuan calon peminjam untuk melunasi pinjaman mereka.\n",
        "\n",
        "Dalam *notebook* ini, Anda dapat menemukan petunjuk dan instruksi singkat serta arahan untuk berfikir. Jangan abaikan petunjuk tersebut karena mereka dirancang untuk membekali Anda dengan struktur pengerjaan proyek dan akan membantu Anda menganalisis apa yang sedang Anda lakukan secara mendalam. Sebaliknya, buatlah agar laporan ini terlihat seolah-olah dikirimkan oleh Anda kepada rekan satu tim Anda untuk menunjukkan temuan Anda - mereka tidak perlu tahu bahwa Anda mendapatkan bantuan eksternal dari kami! Untuk membantu Anda, kami menempatkan semua petunjuk yang harus Anda hapus dalam tanda kurung siku.\n",
        "\n",
        "Sebelum Anda masuk ke dalam analisis data Anda, jelaskan tujuan proyek dan hipotesis yang akan Anda uji."
      ]
    },
    {
      "cell_type": "markdown",
      "metadata": {
        "id": "mKrYlZJa9T4v"
      },
      "source": [
        "## Buka *file* data dan baca informasi umumnya.\n",
        "\n",
        "[Mulailah dengan mengimpor *library* dan memuat datanya. Anda mungkin akan menyadari bahwa Anda memerlukan *library* tambahan saat Anda telah mengerjakan proyek ini, dan itu merupakan hal yang normal. Hanya saja, pastikan untuk memperbarui bagian ini jika dibutuhkan.]"
      ]
    },
    {
      "cell_type": "code",
      "execution_count": null,
      "metadata": {
        "id": "ISAN_z6J9T4w"
      },
      "outputs": [],
      "source": [
        "# Muat semua *library*\n",
        "import pandas as pd\n",
        "import numpy as np\n",
        "import seaborn as sns\n",
        "import matplotlib.pyplot as plt\n",
        "import warnings\n",
        "warnings.filterwarnings('ignore')\n",
        "\n",
        "# Muat datanya\n",
        "df = pd.read_csv('/datasets/credit_scoring_eng.csv')\n"
      ]
    },
    {
      "cell_type": "markdown",
      "metadata": {
        "id": "2yGl3Olb9T4x"
      },
      "source": [
        "## Soal 1. Eksplorasi data\n",
        "\n",
        "**Deskripsi Data**\n",
        "- `children` - jumlah anak dalam keluarga\n",
        "- `days_employed` - pengalaman kerja nasabah dalam hari\n",
        "- `dob_years` - usia nasabah dalam tahun\n",
        "- `education` - tingkat pendidikan nasabah\n",
        "- `education_id` - pengidentifikasi untuk tingkat pendidikan nasabah\n",
        "- `family_status` - pengidentifikasi untuk status perkawinan nasabah\n",
        "- `family_status_id` - tanda pengenal status perkawinan\n",
        "- `gender` - jenis kelamin nasabah\n",
        "- `income_type` - jenis pekerjaan\n",
        "- `debt` - apakah nasabah memiliki hutang pembayaran pinjaman\n",
        "- `total_income` - pendapatan bulanan\n",
        "- `purpose` - tujuan mendapatkan pinjaman\n",
        "\n",
        "Sekarang saatnya mengeksplor data kita. Anda perlu melihat berapa banyak kolom dan baris yang dimiliki oleh data, serta mencermati beberapa baris data untuk memeriksa potensi masalah dengan data."
      ]
    },
    {
      "cell_type": "code",
      "execution_count": null,
      "metadata": {
        "id": "lfvtDeAS9T4y",
        "outputId": "537bd1f4-2e20-41dd-89e7-a7a0a0249636"
      },
      "outputs": [
        {
          "data": {
            "text/plain": [
              "(21525, 12)"
            ]
          },
          "execution_count": 2,
          "metadata": {},
          "output_type": "execute_result"
        }
      ],
      "source": [
        "# Mari kita lihat berapa banyak baris dan kolom yang dimiliki oleh dataset kita\n",
        "df.shape\n"
      ]
    },
    {
      "cell_type": "code",
      "execution_count": null,
      "metadata": {
        "scrolled": true,
        "id": "1l78Ftea9T4z",
        "outputId": "4cfc9437-7749-48bc-f45c-2ffad6b44fd2"
      },
      "outputs": [
        {
          "data": {
            "text/html": [
              "<div>\n",
              "<style scoped>\n",
              "    .dataframe tbody tr th:only-of-type {\n",
              "        vertical-align: middle;\n",
              "    }\n",
              "\n",
              "    .dataframe tbody tr th {\n",
              "        vertical-align: top;\n",
              "    }\n",
              "\n",
              "    .dataframe thead th {\n",
              "        text-align: right;\n",
              "    }\n",
              "</style>\n",
              "<table border=\"1\" class=\"dataframe\">\n",
              "  <thead>\n",
              "    <tr style=\"text-align: right;\">\n",
              "      <th></th>\n",
              "      <th>children</th>\n",
              "      <th>days_employed</th>\n",
              "      <th>dob_years</th>\n",
              "      <th>education</th>\n",
              "      <th>education_id</th>\n",
              "      <th>family_status</th>\n",
              "      <th>family_status_id</th>\n",
              "      <th>gender</th>\n",
              "      <th>income_type</th>\n",
              "      <th>debt</th>\n",
              "      <th>total_income</th>\n",
              "      <th>purpose</th>\n",
              "    </tr>\n",
              "  </thead>\n",
              "  <tbody>\n",
              "    <tr>\n",
              "      <th>0</th>\n",
              "      <td>1</td>\n",
              "      <td>-8437.673028</td>\n",
              "      <td>42</td>\n",
              "      <td>bachelor's degree</td>\n",
              "      <td>0</td>\n",
              "      <td>married</td>\n",
              "      <td>0</td>\n",
              "      <td>F</td>\n",
              "      <td>employee</td>\n",
              "      <td>0</td>\n",
              "      <td>40620.102</td>\n",
              "      <td>purchase of the house</td>\n",
              "    </tr>\n",
              "    <tr>\n",
              "      <th>1</th>\n",
              "      <td>1</td>\n",
              "      <td>-4024.803754</td>\n",
              "      <td>36</td>\n",
              "      <td>secondary education</td>\n",
              "      <td>1</td>\n",
              "      <td>married</td>\n",
              "      <td>0</td>\n",
              "      <td>F</td>\n",
              "      <td>employee</td>\n",
              "      <td>0</td>\n",
              "      <td>17932.802</td>\n",
              "      <td>car purchase</td>\n",
              "    </tr>\n",
              "    <tr>\n",
              "      <th>2</th>\n",
              "      <td>0</td>\n",
              "      <td>-5623.422610</td>\n",
              "      <td>33</td>\n",
              "      <td>Secondary Education</td>\n",
              "      <td>1</td>\n",
              "      <td>married</td>\n",
              "      <td>0</td>\n",
              "      <td>M</td>\n",
              "      <td>employee</td>\n",
              "      <td>0</td>\n",
              "      <td>23341.752</td>\n",
              "      <td>purchase of the house</td>\n",
              "    </tr>\n",
              "    <tr>\n",
              "      <th>3</th>\n",
              "      <td>3</td>\n",
              "      <td>-4124.747207</td>\n",
              "      <td>32</td>\n",
              "      <td>secondary education</td>\n",
              "      <td>1</td>\n",
              "      <td>married</td>\n",
              "      <td>0</td>\n",
              "      <td>M</td>\n",
              "      <td>employee</td>\n",
              "      <td>0</td>\n",
              "      <td>42820.568</td>\n",
              "      <td>supplementary education</td>\n",
              "    </tr>\n",
              "    <tr>\n",
              "      <th>4</th>\n",
              "      <td>0</td>\n",
              "      <td>340266.072047</td>\n",
              "      <td>53</td>\n",
              "      <td>secondary education</td>\n",
              "      <td>1</td>\n",
              "      <td>civil partnership</td>\n",
              "      <td>1</td>\n",
              "      <td>F</td>\n",
              "      <td>retiree</td>\n",
              "      <td>0</td>\n",
              "      <td>25378.572</td>\n",
              "      <td>to have a wedding</td>\n",
              "    </tr>\n",
              "  </tbody>\n",
              "</table>\n",
              "</div>"
            ],
            "text/plain": [
              "   children  days_employed  dob_years            education  education_id  \\\n",
              "0         1   -8437.673028         42    bachelor's degree             0   \n",
              "1         1   -4024.803754         36  secondary education             1   \n",
              "2         0   -5623.422610         33  Secondary Education             1   \n",
              "3         3   -4124.747207         32  secondary education             1   \n",
              "4         0  340266.072047         53  secondary education             1   \n",
              "\n",
              "       family_status  family_status_id gender income_type  debt  total_income  \\\n",
              "0            married                 0      F    employee     0     40620.102   \n",
              "1            married                 0      F    employee     0     17932.802   \n",
              "2            married                 0      M    employee     0     23341.752   \n",
              "3            married                 0      M    employee     0     42820.568   \n",
              "4  civil partnership                 1      F     retiree     0     25378.572   \n",
              "\n",
              "                   purpose  \n",
              "0    purchase of the house  \n",
              "1             car purchase  \n",
              "2    purchase of the house  \n",
              "3  supplementary education  \n",
              "4        to have a wedding  "
            ]
          },
          "execution_count": 3,
          "metadata": {},
          "output_type": "execute_result"
        }
      ],
      "source": [
        "# Mari tampilkan N baris pertama\n",
        "df.head()\n"
      ]
    },
    {
      "cell_type": "markdown",
      "metadata": {
        "id": "g6Ipm6nz9T40"
      },
      "source": [
        "Jelaskan apa yang Anda lihat dan perhatikan dalam sampel data yang Anda tampilkan. Apakah terdapat masalah yang mungkin memerlukan penyelidikan dan perubahan lebih lanjut?"
      ]
    },
    {
      "cell_type": "markdown",
      "metadata": {
        "id": "8zdhSwb49T40"
      },
      "source": [
        "Terdapat nilai negatif pada kolom (days_employed) akan diubah menjadi nilai positif\n",
        "terdapat data yang terduplikasi pada kolom (education) akan disamakan semua data dengan metode lowercase"
      ]
    },
    {
      "cell_type": "code",
      "execution_count": null,
      "metadata": {
        "scrolled": false,
        "id": "hhkDWb1G9T40",
        "outputId": "fabb7fb0-c35b-45b2-ba2f-ae9751bfde8b"
      },
      "outputs": [
        {
          "name": "stdout",
          "output_type": "stream",
          "text": [
            "<class 'pandas.core.frame.DataFrame'>\n",
            "RangeIndex: 21525 entries, 0 to 21524\n",
            "Data columns (total 12 columns):\n",
            " #   Column            Non-Null Count  Dtype  \n",
            "---  ------            --------------  -----  \n",
            " 0   children          21525 non-null  int64  \n",
            " 1   days_employed     19351 non-null  float64\n",
            " 2   dob_years         21525 non-null  int64  \n",
            " 3   education         21525 non-null  object \n",
            " 4   education_id      21525 non-null  int64  \n",
            " 5   family_status     21525 non-null  object \n",
            " 6   family_status_id  21525 non-null  int64  \n",
            " 7   gender            21525 non-null  object \n",
            " 8   income_type       21525 non-null  object \n",
            " 9   debt              21525 non-null  int64  \n",
            " 10  total_income      19351 non-null  float64\n",
            " 11  purpose           21525 non-null  object \n",
            "dtypes: float64(2), int64(5), object(5)\n",
            "memory usage: 2.0+ MB\n"
          ]
        }
      ],
      "source": [
        "# Dapatkan informasi data\n",
        "df.info()\n"
      ]
    },
    {
      "cell_type": "markdown",
      "metadata": {
        "id": "xc0TqFnE9T40"
      },
      "source": [
        "Apakah terdapat nilai yang hilang di semua kolom atau hanya di beberapa kolom? Jelaskan secara singkat apa yang Anda amati dalam 1-2 kalimat."
      ]
    },
    {
      "cell_type": "markdown",
      "metadata": {
        "id": "0Lw6w2sq9T41"
      },
      "source": [
        "Ya terdapat nilai yang hilang dari 2 kolom (days_employed) dan (total_income) "
      ]
    },
    {
      "cell_type": "code",
      "execution_count": null,
      "metadata": {
        "scrolled": true,
        "id": "pPfPehXS9T41",
        "outputId": "763a992f-5742-4887-c946-af28fc98f410"
      },
      "outputs": [
        {
          "data": {
            "text/html": [
              "<div>\n",
              "<style scoped>\n",
              "    .dataframe tbody tr th:only-of-type {\n",
              "        vertical-align: middle;\n",
              "    }\n",
              "\n",
              "    .dataframe tbody tr th {\n",
              "        vertical-align: top;\n",
              "    }\n",
              "\n",
              "    .dataframe thead th {\n",
              "        text-align: right;\n",
              "    }\n",
              "</style>\n",
              "<table border=\"1\" class=\"dataframe\">\n",
              "  <thead>\n",
              "    <tr style=\"text-align: right;\">\n",
              "      <th></th>\n",
              "      <th>children</th>\n",
              "      <th>days_employed</th>\n",
              "      <th>dob_years</th>\n",
              "      <th>education</th>\n",
              "      <th>education_id</th>\n",
              "      <th>family_status</th>\n",
              "      <th>family_status_id</th>\n",
              "      <th>gender</th>\n",
              "      <th>income_type</th>\n",
              "      <th>debt</th>\n",
              "      <th>total_income</th>\n",
              "      <th>purpose</th>\n",
              "    </tr>\n",
              "  </thead>\n",
              "  <tbody>\n",
              "    <tr>\n",
              "      <th>12</th>\n",
              "      <td>0</td>\n",
              "      <td>NaN</td>\n",
              "      <td>65</td>\n",
              "      <td>secondary education</td>\n",
              "      <td>1</td>\n",
              "      <td>civil partnership</td>\n",
              "      <td>1</td>\n",
              "      <td>M</td>\n",
              "      <td>retiree</td>\n",
              "      <td>0</td>\n",
              "      <td>NaN</td>\n",
              "      <td>to have a wedding</td>\n",
              "    </tr>\n",
              "    <tr>\n",
              "      <th>26</th>\n",
              "      <td>0</td>\n",
              "      <td>NaN</td>\n",
              "      <td>41</td>\n",
              "      <td>secondary education</td>\n",
              "      <td>1</td>\n",
              "      <td>married</td>\n",
              "      <td>0</td>\n",
              "      <td>M</td>\n",
              "      <td>civil servant</td>\n",
              "      <td>0</td>\n",
              "      <td>NaN</td>\n",
              "      <td>education</td>\n",
              "    </tr>\n",
              "    <tr>\n",
              "      <th>29</th>\n",
              "      <td>0</td>\n",
              "      <td>NaN</td>\n",
              "      <td>63</td>\n",
              "      <td>secondary education</td>\n",
              "      <td>1</td>\n",
              "      <td>unmarried</td>\n",
              "      <td>4</td>\n",
              "      <td>F</td>\n",
              "      <td>retiree</td>\n",
              "      <td>0</td>\n",
              "      <td>NaN</td>\n",
              "      <td>building a real estate</td>\n",
              "    </tr>\n",
              "    <tr>\n",
              "      <th>41</th>\n",
              "      <td>0</td>\n",
              "      <td>NaN</td>\n",
              "      <td>50</td>\n",
              "      <td>secondary education</td>\n",
              "      <td>1</td>\n",
              "      <td>married</td>\n",
              "      <td>0</td>\n",
              "      <td>F</td>\n",
              "      <td>civil servant</td>\n",
              "      <td>0</td>\n",
              "      <td>NaN</td>\n",
              "      <td>second-hand car purchase</td>\n",
              "    </tr>\n",
              "    <tr>\n",
              "      <th>55</th>\n",
              "      <td>0</td>\n",
              "      <td>NaN</td>\n",
              "      <td>54</td>\n",
              "      <td>secondary education</td>\n",
              "      <td>1</td>\n",
              "      <td>civil partnership</td>\n",
              "      <td>1</td>\n",
              "      <td>F</td>\n",
              "      <td>retiree</td>\n",
              "      <td>1</td>\n",
              "      <td>NaN</td>\n",
              "      <td>to have a wedding</td>\n",
              "    </tr>\n",
              "    <tr>\n",
              "      <th>...</th>\n",
              "      <td>...</td>\n",
              "      <td>...</td>\n",
              "      <td>...</td>\n",
              "      <td>...</td>\n",
              "      <td>...</td>\n",
              "      <td>...</td>\n",
              "      <td>...</td>\n",
              "      <td>...</td>\n",
              "      <td>...</td>\n",
              "      <td>...</td>\n",
              "      <td>...</td>\n",
              "      <td>...</td>\n",
              "    </tr>\n",
              "    <tr>\n",
              "      <th>21489</th>\n",
              "      <td>2</td>\n",
              "      <td>NaN</td>\n",
              "      <td>47</td>\n",
              "      <td>Secondary Education</td>\n",
              "      <td>1</td>\n",
              "      <td>married</td>\n",
              "      <td>0</td>\n",
              "      <td>M</td>\n",
              "      <td>business</td>\n",
              "      <td>0</td>\n",
              "      <td>NaN</td>\n",
              "      <td>purchase of a car</td>\n",
              "    </tr>\n",
              "    <tr>\n",
              "      <th>21495</th>\n",
              "      <td>1</td>\n",
              "      <td>NaN</td>\n",
              "      <td>50</td>\n",
              "      <td>secondary education</td>\n",
              "      <td>1</td>\n",
              "      <td>civil partnership</td>\n",
              "      <td>1</td>\n",
              "      <td>F</td>\n",
              "      <td>employee</td>\n",
              "      <td>0</td>\n",
              "      <td>NaN</td>\n",
              "      <td>wedding ceremony</td>\n",
              "    </tr>\n",
              "    <tr>\n",
              "      <th>21497</th>\n",
              "      <td>0</td>\n",
              "      <td>NaN</td>\n",
              "      <td>48</td>\n",
              "      <td>BACHELOR'S DEGREE</td>\n",
              "      <td>0</td>\n",
              "      <td>married</td>\n",
              "      <td>0</td>\n",
              "      <td>F</td>\n",
              "      <td>business</td>\n",
              "      <td>0</td>\n",
              "      <td>NaN</td>\n",
              "      <td>building a property</td>\n",
              "    </tr>\n",
              "    <tr>\n",
              "      <th>21502</th>\n",
              "      <td>1</td>\n",
              "      <td>NaN</td>\n",
              "      <td>42</td>\n",
              "      <td>secondary education</td>\n",
              "      <td>1</td>\n",
              "      <td>married</td>\n",
              "      <td>0</td>\n",
              "      <td>F</td>\n",
              "      <td>employee</td>\n",
              "      <td>0</td>\n",
              "      <td>NaN</td>\n",
              "      <td>building a real estate</td>\n",
              "    </tr>\n",
              "    <tr>\n",
              "      <th>21510</th>\n",
              "      <td>2</td>\n",
              "      <td>NaN</td>\n",
              "      <td>28</td>\n",
              "      <td>secondary education</td>\n",
              "      <td>1</td>\n",
              "      <td>married</td>\n",
              "      <td>0</td>\n",
              "      <td>F</td>\n",
              "      <td>employee</td>\n",
              "      <td>0</td>\n",
              "      <td>NaN</td>\n",
              "      <td>car purchase</td>\n",
              "    </tr>\n",
              "  </tbody>\n",
              "</table>\n",
              "<p>2174 rows × 12 columns</p>\n",
              "</div>"
            ],
            "text/plain": [
              "       children  days_employed  dob_years            education  education_id  \\\n",
              "12            0            NaN         65  secondary education             1   \n",
              "26            0            NaN         41  secondary education             1   \n",
              "29            0            NaN         63  secondary education             1   \n",
              "41            0            NaN         50  secondary education             1   \n",
              "55            0            NaN         54  secondary education             1   \n",
              "...         ...            ...        ...                  ...           ...   \n",
              "21489         2            NaN         47  Secondary Education             1   \n",
              "21495         1            NaN         50  secondary education             1   \n",
              "21497         0            NaN         48    BACHELOR'S DEGREE             0   \n",
              "21502         1            NaN         42  secondary education             1   \n",
              "21510         2            NaN         28  secondary education             1   \n",
              "\n",
              "           family_status  family_status_id gender    income_type  debt  \\\n",
              "12     civil partnership                 1      M        retiree     0   \n",
              "26               married                 0      M  civil servant     0   \n",
              "29             unmarried                 4      F        retiree     0   \n",
              "41               married                 0      F  civil servant     0   \n",
              "55     civil partnership                 1      F        retiree     1   \n",
              "...                  ...               ...    ...            ...   ...   \n",
              "21489            married                 0      M       business     0   \n",
              "21495  civil partnership                 1      F       employee     0   \n",
              "21497            married                 0      F       business     0   \n",
              "21502            married                 0      F       employee     0   \n",
              "21510            married                 0      F       employee     0   \n",
              "\n",
              "       total_income                   purpose  \n",
              "12              NaN         to have a wedding  \n",
              "26              NaN                 education  \n",
              "29              NaN    building a real estate  \n",
              "41              NaN  second-hand car purchase  \n",
              "55              NaN         to have a wedding  \n",
              "...             ...                       ...  \n",
              "21489           NaN         purchase of a car  \n",
              "21495           NaN          wedding ceremony  \n",
              "21497           NaN       building a property  \n",
              "21502           NaN    building a real estate  \n",
              "21510           NaN              car purchase  \n",
              "\n",
              "[2174 rows x 12 columns]"
            ]
          },
          "execution_count": 5,
          "metadata": {},
          "output_type": "execute_result"
        }
      ],
      "source": [
        "# Mari kita lihat tabel yang difilter dengan nilai yang hilang di kolom pertama yang mengandung data yang hilang\n",
        "df.loc[df['days_employed'].isna()]\n"
      ]
    },
    {
      "cell_type": "markdown",
      "metadata": {
        "id": "ZtB7LBvk9T41"
      },
      "source": [
        "[Apakah nilai yang hilang tampak simetris? Apakah kita yakin dengan asumsi ini? Jelaskan pendapat Anda secara singkat di bagian ini. Anda mungkin ingin melakukan penyelidikan lebih lanjut, dan menghitung nilai yang hilang di semua baris dengan nilai yang hilang untuk memastikan bahwa sampel yang hilang memiliki ukuran yang sama.]"
      ]
    },
    {
      "cell_type": "markdown",
      "metadata": {
        "id": "7IWNvr9j9T41"
      },
      "source": [
        "Nilai yang hilang simetris pada 2 kolom (days_employed) dan (total_income), untuk mengetahui dan memastikan bahwa data yang hilang memiliki ukuran yang sama menggunakan metode isna()"
      ]
    },
    {
      "cell_type": "code",
      "execution_count": null,
      "metadata": {
        "id": "Qv6va1gz9T42",
        "outputId": "9af1f201-5be5-49e5-c538-30159ddba093"
      },
      "outputs": [
        {
          "data": {
            "text/plain": [
              "children               0\n",
              "days_employed       2174\n",
              "dob_years              0\n",
              "education              0\n",
              "education_id           0\n",
              "family_status          0\n",
              "family_status_id       0\n",
              "gender                 0\n",
              "income_type            0\n",
              "debt                   0\n",
              "total_income        2174\n",
              "purpose                0\n",
              "dtype: int64"
            ]
          },
          "execution_count": 6,
          "metadata": {},
          "output_type": "execute_result"
        }
      ],
      "source": [
        "# Mari kita terapkan beberapa kondisi untuk memfilter data dan melihat jumlah baris dalam tabel yang telah difilter.\n",
        "df.isna().sum()\n"
      ]
    },
    {
      "cell_type": "code",
      "execution_count": null,
      "metadata": {
        "id": "I1XIWjTN9T42",
        "outputId": "9c90e7d4-86fd-46db-e8b1-d89255e33aa9"
      },
      "outputs": [
        {
          "data": {
            "text/plain": [
              "children             0.0\n",
              "days_employed       10.1\n",
              "dob_years            0.0\n",
              "education            0.0\n",
              "education_id         0.0\n",
              "family_status        0.0\n",
              "family_status_id     0.0\n",
              "gender               0.0\n",
              "income_type          0.0\n",
              "debt                 0.0\n",
              "total_income        10.1\n",
              "purpose              0.0\n",
              "dtype: float64"
            ]
          },
          "execution_count": 7,
          "metadata": {},
          "output_type": "execute_result"
        }
      ],
      "source": [
        "round(df.isna().sum() / len(df) * 100,2)"
      ]
    },
    {
      "cell_type": "markdown",
      "metadata": {
        "id": "7Z8J-HyV9T42"
      },
      "source": [
        "**Kesimpulan sementara**\n",
        "\n",
        "Apakah jumlah baris dalam tabel yang telah difilter sesuai dengan jumlah nilai yang hilang? Kesimpulan apa yang bisa kita buat dari hal ini?\n",
        "\n",
        "Hitung persentase nilai yang hilang jika dibandingkan dengan keseluruhan *dataset*. Apakah nilai yang hilang merupakan bagian data yang cukup besar? Jika demikian, Anda sebaiknya perlu mengisi nilai yang hilang. Untuk melakukannya, pertama-tama kita harus mempertimbangkan apakah data yang hilang bisa jadi disebabkan oleh karakteristik nasabah tertentu, seperti jenis pekerjaan atau yang lainnya. Anda harus memutuskan karakteristik mana yang menurut *Anda* mungkin merupakan penyebabnya. Kedua, kita harus memeriksa apakah ada ketergantungan nilai yang hilang pada nilai indikator lain dengan kolom-kolom yang mengidentifikasikan karakteristik tertentu nasabah.\n",
        "\n",
        "Jelaskan langkah Anda selanjutnya dan bagaimana hubungannya dengan kesimpulan yang Anda buat sejauh ini."
      ]
    },
    {
      "cell_type": "markdown",
      "metadata": {
        "id": "RpM7AbgN9T42"
      },
      "source": [
        "-Ya, Jumlah baris dalam tabel yang hilang sudah sesuai\n",
        "-Persentase data yang hilang dari 2 kolom yaitu 10%\n",
        "-Langkah selanjutnya yaitu, mengisi nilai yang hilang (days_employed) dan (total_income), kemudian menyamakan kategori dari kolom (education)"
      ]
    },
    {
      "cell_type": "code",
      "execution_count": null,
      "metadata": {
        "id": "C9I4RL259T43",
        "outputId": "62e59a22-fad7-488d-d488-b4fbb692f704"
      },
      "outputs": [
        {
          "data": {
            "text/plain": [
              "(2174, 12)"
            ]
          },
          "execution_count": 8,
          "metadata": {},
          "output_type": "execute_result"
        }
      ],
      "source": [
        "# Mari kita periksa nasabah yang tidak memiliki data tentang karakteristik yang teridentifikasi dan kolom dengan nilai yang hilang\n",
        "df_nan = df[(df['days_employed'].isna()) | (df['total_income'].isna())].reset_index(drop=True)\n",
        "df_nan.shape"
      ]
    },
    {
      "cell_type": "code",
      "execution_count": null,
      "metadata": {
        "id": "x3nx3Ocq9T43",
        "outputId": "de524fc9-f742-4264-b6b1-bb20677737b0"
      },
      "outputs": [
        {
          "data": {
            "text/plain": [
              " 0     0.661914\n",
              " 1     0.218491\n",
              " 2     0.093836\n",
              " 3     0.016559\n",
              " 20    0.004140\n",
              " 4     0.003220\n",
              "-1     0.001380\n",
              " 5     0.000460\n",
              "Name: children, dtype: float64"
            ]
          },
          "execution_count": 9,
          "metadata": {},
          "output_type": "execute_result"
        }
      ],
      "source": [
        "# Periksalah distribusinya\n",
        "df_nan['children'].value_counts(normalize=True)\n"
      ]
    },
    {
      "cell_type": "code",
      "execution_count": null,
      "metadata": {
        "id": "EDms6aSw9T43",
        "outputId": "4a7fef8f-ad82-4084-9742-5adb00fb2af1"
      },
      "outputs": [
        {
          "data": {
            "text/plain": [
              "married              0.568997\n",
              "civil partnership    0.203312\n",
              "unmarried            0.132475\n",
              "divorced             0.051518\n",
              "widow / widower      0.043698\n",
              "Name: family_status, dtype: float64"
            ]
          },
          "execution_count": 10,
          "metadata": {},
          "output_type": "execute_result"
        }
      ],
      "source": [
        "df_nan['family_status'].value_counts(normalize=True)"
      ]
    },
    {
      "cell_type": "code",
      "execution_count": null,
      "metadata": {
        "id": "RQ-Q1fly9T44",
        "outputId": "0770c57b-dac7-4289-a582-467b13e24b2c"
      },
      "outputs": [
        {
          "data": {
            "text/plain": [
              "0    0.921803\n",
              "1    0.078197\n",
              "Name: debt, dtype: float64"
            ]
          },
          "execution_count": 11,
          "metadata": {},
          "output_type": "execute_result"
        }
      ],
      "source": [
        "df_nan['debt'].value_counts(normalize=True)"
      ]
    },
    {
      "cell_type": "markdown",
      "metadata": {
        "id": "Okc7LuLw9T44"
      },
      "source": [
        "Deksripsikan temuan Anda di sini.\n",
        "\n",
        "**Kemungkinan penyebab hilangnya nilai dalam data**\n",
        "\n",
        "Kemukakan gagasan Anda mengenai kemungkinan alasan hilangnya nilai-nilai tersebut. Apakah menurut Anda mereka hilang secara acak atau apakah terdapat pola-pola tertentu?\n",
        "\n",
        "Mari kita mulai memeriksa apakah nilai yang hilang bersifat acak."
      ]
    },
    {
      "cell_type": "markdown",
      "metadata": {
        "id": "HEmXgmAQ9T44"
      },
      "source": [
        "Penyebab hilangnya nilai dalam data dikarenakan bersifat random dan tidak terdapat pola tertentu"
      ]
    },
    {
      "cell_type": "code",
      "execution_count": null,
      "metadata": {
        "id": "GxsdOiN59T45",
        "outputId": "ff0cef77-662e-4a33-d170-8f36edaff492"
      },
      "outputs": [
        {
          "data": {
            "text/plain": [
              " 0     0.657329\n",
              " 1     0.223833\n",
              " 2     0.095470\n",
              " 3     0.015331\n",
              " 20    0.003531\n",
              "-1     0.002184\n",
              " 4     0.001905\n",
              " 5     0.000418\n",
              "Name: children, dtype: float64"
            ]
          },
          "execution_count": 12,
          "metadata": {},
          "output_type": "execute_result"
        }
      ],
      "source": [
        "# Memeriksa distribusi di seluruh *dataset*\n",
        "df['children'].value_counts(normalize=True)\n"
      ]
    },
    {
      "cell_type": "code",
      "execution_count": null,
      "metadata": {
        "id": "8fkeWQGd9T45",
        "outputId": "9b9a14f3-6c58-4a1e-c4db-bcf933054136"
      },
      "outputs": [
        {
          "data": {
            "text/plain": [
              "married              0.575145\n",
              "civil partnership    0.194053\n",
              "unmarried            0.130685\n",
              "divorced             0.055517\n",
              "widow / widower      0.044599\n",
              "Name: family_status, dtype: float64"
            ]
          },
          "execution_count": 13,
          "metadata": {},
          "output_type": "execute_result"
        }
      ],
      "source": [
        "df['family_status'].value_counts(normalize=True)"
      ]
    },
    {
      "cell_type": "code",
      "execution_count": null,
      "metadata": {
        "id": "DeY3ot-u9T45",
        "outputId": "e0ec1d49-b852-42a4-da3a-5948bc7afdde"
      },
      "outputs": [
        {
          "data": {
            "text/plain": [
              "0    0.919117\n",
              "1    0.080883\n",
              "Name: debt, dtype: float64"
            ]
          },
          "execution_count": 14,
          "metadata": {},
          "output_type": "execute_result"
        }
      ],
      "source": [
        "df['debt'].value_counts(normalize=True)"
      ]
    },
    {
      "cell_type": "markdown",
      "metadata": {
        "id": "ITaQOfC79T45"
      },
      "source": [
        "**Kesimpulan sementara**\n",
        "\n",
        "Apakah distribusi dalam *dataset* yang asli mirip dengan distribusi tabel yang telah difilter? Apa artinya hal tersebut untuk kita?\n",
        "\n",
        "Jika menurut Anda kita belum dapat membuat kesimpulan apa pun, mari kita kembali menyelidiki *dataset* lebih lanjut. Mari pikirkan alasan lain yang dapat menyebabkan data hilang dan periksa apakah kita dapat menemukan pola tertentu yang dapat membuat kita berpikir bahwa hilangnya nilai-nilai tersebut tidak terjadi secara acak. Karena ini merupakan tugas Anda, maka bagian ini adalah opsional."
      ]
    },
    {
      "cell_type": "markdown",
      "metadata": {
        "id": "lqG1jCa19T46"
      },
      "source": [
        "Distribusi dalam dataset asli mirip dengan distribusi tabel yang telah difilter\n"
      ]
    },
    {
      "cell_type": "code",
      "execution_count": null,
      "metadata": {
        "id": "tHDAr6Fl9T46",
        "outputId": "4b69e5a0-79ca-47f3-ae04-d52b37122cc6"
      },
      "outputs": [
        {
          "data": {
            "text/plain": [
              "secondary education    0.682353\n",
              "bachelor's degree      0.190045\n",
              "SECONDARY EDUCATION    0.031674\n",
              "Secondary Education    0.028054\n",
              "some college           0.025339\n",
              "BACHELOR'S DEGREE      0.011765\n",
              "Bachelor's Degree      0.011765\n",
              "primary education      0.009955\n",
              "SOME COLLEGE           0.004525\n",
              "Some College           0.003620\n",
              "PRIMARY EDUCATION      0.000905\n",
              "Name: education, dtype: float64"
            ]
          },
          "execution_count": 15,
          "metadata": {},
          "output_type": "execute_result"
        }
      ],
      "source": [
        "# Periksa penyebab dan pola lain yang dapat mengakibatkan nilai yang hilang\n",
        "df_nan[df_nan['income_type']=='employee']['education'].value_counts(normalize=True)\n"
      ]
    },
    {
      "cell_type": "code",
      "execution_count": null,
      "metadata": {
        "id": "U8FY0ioZ9T46",
        "outputId": "e11cc753-139d-4c4c-cf74-d1f13529bc94"
      },
      "outputs": [
        {
          "data": {
            "text/plain": [
              "secondary education    0.669934\n",
              "bachelor's degree      0.188146\n",
              "SECONDARY EDUCATION    0.039572\n",
              "Secondary Education    0.033366\n",
              "some college           0.029319\n",
              "primary education      0.012141\n",
              "BACHELOR'S DEGREE      0.011332\n",
              "Bachelor's Degree      0.011062\n",
              "Some College           0.002338\n",
              "SOME COLLEGE           0.001619\n",
              "PRIMARY EDUCATION      0.000540\n",
              "Primary Education      0.000360\n",
              "graduate degree        0.000180\n",
              "GRADUATE DEGREE        0.000090\n",
              "Name: education, dtype: float64"
            ]
          },
          "execution_count": 16,
          "metadata": {},
          "output_type": "execute_result"
        }
      ],
      "source": [
        "df[df['income_type']=='employee']['education'].value_counts(normalize=True)"
      ]
    },
    {
      "cell_type": "markdown",
      "metadata": {
        "id": "y0svIvmv9T47"
      },
      "source": [
        "**Kesimpulan sementara**\n",
        "\n",
        "Apakah pada akhirnya kita dapat memastikan bahwa nilai yang hilang adalah suatu kebetulan? Periksa hal lain yang menurut Anda penting di sini."
      ]
    },
    {
      "cell_type": "markdown",
      "metadata": {
        "id": "0AySIW5Z9T47"
      },
      "source": [
        "Beberapa nilai yang hilang bukan suatu kebetulan, melainkan ada penyebabnya diantaranya kesalahan penginputan pada kolom [children], banyak nilai yang terduplikasi pada kolom [education]."
      ]
    },
    {
      "cell_type": "code",
      "execution_count": null,
      "metadata": {
        "scrolled": true,
        "id": "gHz3g3vp9T47",
        "outputId": "dfd0b8bf-a0bb-479c-b687-4bb79e8b3d98"
      },
      "outputs": [
        {
          "data": {
            "text/plain": [
              "married              0.590950\n",
              "civil partnership    0.203620\n",
              "unmarried            0.130317\n",
              "divorced             0.051584\n",
              "widow / widower      0.023529\n",
              "Name: family_status, dtype: float64"
            ]
          },
          "execution_count": 17,
          "metadata": {},
          "output_type": "execute_result"
        }
      ],
      "source": [
        "# Periksa pola lainnya - jelaskan pola tersebut\n",
        "df_nan[df_nan['income_type']=='employee']['family_status'].value_counts(normalize=True)"
      ]
    },
    {
      "cell_type": "markdown",
      "metadata": {
        "id": "XzViVGKN9T47"
      },
      "source": [
        "**Kesimpulan**\n",
        "\n",
        "Apakah Anda menemukan suatu pola? Bagaimana Anda mendapatkan kesimpulan ini?\n",
        "\n",
        "Jelaskan bagaimana Anda akan mengatasi nilai-nilai yang hilang. Pertimbangkan kategori dengan nilai yang hilang.\n",
        "\n",
        "Rencanakan secara singkat langkah Anda selanjutnya untuk mentransformasi data. Anda mungkin perlu mengatasi berbagai jenis masalah: duplikat, pencatatan yang berbeda, sumber data yang salah, dan nilai yang hilang."
      ]
    },
    {
      "cell_type": "markdown",
      "metadata": {
        "id": "T9pQFghc9T47"
      },
      "source": [
        "Tidak menemukan suatu pola, dapat disimpulkan nilai yang hilang terjadi secara acak"
      ]
    },
    {
      "cell_type": "markdown",
      "metadata": {
        "id": "R7-lrL1i9T48"
      },
      "source": [
        "## Transformasi data\n",
        "\n",
        "Mari kita perhatikan setiap kolom untuk melihat masalah apa yang mungkin dimiliki mereka.\n",
        "\n",
        "Mulailah dengan menghapus duplikat dan memperbaiki data tentang informasi pendidikan jika diperlukan."
      ]
    },
    {
      "cell_type": "code",
      "execution_count": null,
      "metadata": {
        "id": "d8w77xnh9T48",
        "outputId": "ffa4c037-6fb8-4f48-bea2-9ba8173a28ab"
      },
      "outputs": [
        {
          "data": {
            "text/plain": [
              "54"
            ]
          },
          "execution_count": 18,
          "metadata": {},
          "output_type": "execute_result"
        }
      ],
      "source": [
        "df.duplicated().sum()"
      ]
    },
    {
      "cell_type": "code",
      "execution_count": null,
      "metadata": {
        "id": "GfaXaezQ9T48",
        "outputId": "77a9304b-5782-4567-a92e-ec31bb817bc4"
      },
      "outputs": [
        {
          "data": {
            "text/plain": [
              "0"
            ]
          },
          "execution_count": 19,
          "metadata": {},
          "output_type": "execute_result"
        }
      ],
      "source": [
        "df_new = df.drop_duplicates().reset_index(drop=True)\n",
        "df_new.duplicated().sum()"
      ]
    },
    {
      "cell_type": "code",
      "execution_count": null,
      "metadata": {
        "scrolled": true,
        "id": "KmxnO3F99T48",
        "outputId": "36469d87-c0e2-4792-b204-e1daf3c9e586"
      },
      "outputs": [
        {
          "data": {
            "text/plain": [
              "secondary education    13705\n",
              "bachelor's degree       4710\n",
              "SECONDARY EDUCATION      772\n",
              "Secondary Education      711\n",
              "some college             668\n",
              "BACHELOR'S DEGREE        273\n",
              "Bachelor's Degree        268\n",
              "primary education        250\n",
              "Some College              47\n",
              "SOME COLLEGE              29\n",
              "PRIMARY EDUCATION         17\n",
              "Primary Education         15\n",
              "graduate degree            4\n",
              "Graduate Degree            1\n",
              "GRADUATE DEGREE            1\n",
              "Name: education, dtype: int64"
            ]
          },
          "execution_count": 20,
          "metadata": {},
          "output_type": "execute_result"
        }
      ],
      "source": [
        "# Mari kita lihat semua nilai di kolom pendidikan untuk memeriksa ejaan apa yang perlu diperbaiki\n",
        "df_new['education'].value_counts()"
      ]
    },
    {
      "cell_type": "code",
      "execution_count": null,
      "metadata": {
        "scrolled": true,
        "id": "GhIKbHUr9T48"
      },
      "outputs": [],
      "source": [
        "# Perbaiki pencatatan jika diperlukan\n",
        "df_new['education'] = df_new['education'].str.lower()"
      ]
    },
    {
      "cell_type": "code",
      "execution_count": null,
      "metadata": {
        "id": "ta2tM8vj9T48",
        "outputId": "93664365-7374-4248-ab1d-5d28d9320d4b"
      },
      "outputs": [
        {
          "data": {
            "text/plain": [
              "secondary education    15188\n",
              "bachelor's degree       5251\n",
              "some college             744\n",
              "primary education        282\n",
              "graduate degree            6\n",
              "Name: education, dtype: int64"
            ]
          },
          "execution_count": 22,
          "metadata": {},
          "output_type": "execute_result"
        }
      ],
      "source": [
        "# Periksa semua nilai di kolom untuk memastikan bahwa kita telah memperbaikinya dengan tepat\n",
        "df_new['education'].value_counts()\n"
      ]
    },
    {
      "cell_type": "markdown",
      "metadata": {
        "id": "sQjai82G9T49"
      },
      "source": [
        "Periksa data kolom `children`"
      ]
    },
    {
      "cell_type": "code",
      "execution_count": null,
      "metadata": {
        "id": "g1X3jbxj9T49",
        "outputId": "2440a4e0-168c-42ec-ed9d-766fbd73e74a"
      },
      "outputs": [
        {
          "data": {
            "text/plain": [
              " 0     14107\n",
              " 1      4809\n",
              " 2      2052\n",
              " 3       330\n",
              " 20       76\n",
              "-1        47\n",
              " 4        41\n",
              " 5         9\n",
              "Name: children, dtype: int64"
            ]
          },
          "execution_count": 23,
          "metadata": {},
          "output_type": "execute_result"
        }
      ],
      "source": [
        "# Mari kita lihat distribusi nilai pada kolom `children`\n",
        "df_new['children'].value_counts()"
      ]
    },
    {
      "cell_type": "markdown",
      "metadata": {
        "id": "rkhyKaiW9T49"
      },
      "source": [
        "Apakah terdapat hal-hal yang aneh di kolom tersebut? Bagaimana mereka bisa terjadi? Buat keputusan tentang apa yang akan Anda lakukan dengan data ini dan jelaskan alasannya."
      ]
    },
    {
      "cell_type": "markdown",
      "metadata": {
        "id": "wfXcU02Z9T49"
      },
      "source": [
        "Terdapat nilai yang minus, kemungkinan salah input, mengubah nilai minus menjadi positif (1)"
      ]
    },
    {
      "cell_type": "code",
      "execution_count": null,
      "metadata": {
        "id": "pVfdUySQ9T4-"
      },
      "outputs": [],
      "source": [
        "# [perbaiki data berdasarkan keputusan Anda]\n",
        "df_new['children'] = df_new['children'].replace(-1, 1)"
      ]
    },
    {
      "cell_type": "code",
      "execution_count": null,
      "metadata": {
        "id": "2f128zL29T4-",
        "outputId": "cdd5f856-8438-49f4-a0e4-567ee4c9ae07"
      },
      "outputs": [
        {
          "data": {
            "text/plain": [
              "0     14107\n",
              "1      4856\n",
              "2      2052\n",
              "3       330\n",
              "20       76\n",
              "4        41\n",
              "5         9\n",
              "Name: children, dtype: int64"
            ]
          },
          "execution_count": 25,
          "metadata": {},
          "output_type": "execute_result"
        }
      ],
      "source": [
        "# Periksa kembali kolom `children` untuk memastikan bahwa semuanya telah diperbaiki\n",
        "df_new['children'].value_counts()\n"
      ]
    },
    {
      "cell_type": "markdown",
      "metadata": {
        "id": "oezDgZU-9T4-"
      },
      "source": [
        "Periksa data dalam kolom the `days_employed`. Pertama-tama pikirkan tentang masalah apa yang mungkin ada pada kolom tersebut, serta pikirkan juga apa yang mungkin ingin Anda periksa dan bagaimana Anda akan melakukannya."
      ]
    },
    {
      "cell_type": "code",
      "execution_count": null,
      "metadata": {
        "id": "WWayHLvr9T4-",
        "outputId": "bb92185f-fa8b-41af-f370-23402b0ac789"
      },
      "outputs": [
        {
          "data": {
            "text/plain": [
              "-327.685916     1\n",
              "-1580.622577    1\n",
              "-4122.460569    1\n",
              "-2828.237691    1\n",
              "-2636.090517    1\n",
              "               ..\n",
              "-7120.517564    1\n",
              "-2146.884040    1\n",
              "-881.454684     1\n",
              "-794.666350     1\n",
              "-3382.113891    1\n",
              "Name: days_employed, Length: 19351, dtype: int64"
            ]
          },
          "execution_count": 26,
          "metadata": {},
          "output_type": "execute_result"
        }
      ],
      "source": [
        "# Temukan data yang bermasalah di `days_employed`, jika memang terdapat masalah, dan hitung persentasenya\n",
        "df_new['days_employed'].value_counts()"
      ]
    },
    {
      "cell_type": "markdown",
      "metadata": {
        "id": "wGFsG1B89T4-"
      },
      "source": [
        "Jika jumlah data yang bermasalah tinggi, hal tersebut mungkin disebabkan oleh beberapa masalah teknis. Kami mungkin perlu mengusulkan alasan paling jelas mengapa hal tersebut dapat terjadi dan bagaimana seharusnya data yang benar, mengingat kita tidak dapat menghapus baris yang bermasalah ini."
      ]
    },
    {
      "cell_type": "code",
      "execution_count": null,
      "metadata": {
        "id": "VBb6ahgV9T4_"
      },
      "outputs": [],
      "source": [
        "# Atasi nilai yang bermasalah, jika ada\n",
        "df_new['days_employed'] = df_new['days_employed'].abs()\n"
      ]
    },
    {
      "cell_type": "code",
      "execution_count": null,
      "metadata": {
        "id": "VZiTDM3D9T4_"
      },
      "outputs": [],
      "source": [
        "df_new.loc[df_new['days_employed'] > 20000, 'days_employed'] = (df_new['dob_years'] - 19) * 365"
      ]
    },
    {
      "cell_type": "code",
      "execution_count": null,
      "metadata": {
        "id": "OwAzUNcV9T4_",
        "outputId": "3ee04773-3d0e-4c30-89f5-ebfca4d9dcb6"
      },
      "outputs": [
        {
          "data": {
            "text/plain": [
              "0        23.116912\n",
              "1        11.026860\n",
              "2        15.406637\n",
              "3        11.300677\n",
              "4        34.000000\n",
              "           ...    \n",
              "21466    12.409087\n",
              "21467    48.000000\n",
              "21468     5.789991\n",
              "21469     8.527347\n",
              "21470     5.437007\n",
              "Name: days_employed, Length: 21471, dtype: float64"
            ]
          },
          "execution_count": 29,
          "metadata": {},
          "output_type": "execute_result"
        }
      ],
      "source": [
        "# Periksa hasilnya - pastikan bahwa masalahnya telah diperbaiki\n",
        "df_new['days_employed'] / 365"
      ]
    },
    {
      "cell_type": "markdown",
      "metadata": {
        "id": "nm6F7waJ9T5B"
      },
      "source": [
        "Sekarang mari kita lihat usia nasabah dan mengecek apakah terdapat masalah di sana. Sekali lagi, pikirkan tentang kemungkinan kejanggalan apa yang bisa kita temui dalam kolom ini, misalnya angka usia yang tidak masuk akal."
      ]
    },
    {
      "cell_type": "code",
      "execution_count": null,
      "metadata": {
        "scrolled": true,
        "id": "kO59inX39T5B",
        "outputId": "7cfd5bf3-5e1e-4b5b-922f-a1ed3ae7c657"
      },
      "outputs": [
        {
          "data": {
            "text/plain": [
              "35    616\n",
              "40    607\n",
              "41    606\n",
              "34    601\n",
              "38    597\n",
              "42    596\n",
              "33    581\n",
              "39    572\n",
              "31    559\n",
              "36    554\n",
              "44    545\n",
              "29    544\n",
              "30    538\n",
              "48    537\n",
              "37    536\n",
              "50    513\n",
              "43    512\n",
              "32    509\n",
              "49    508\n",
              "28    503\n",
              "45    497\n",
              "27    493\n",
              "52    484\n",
              "56    484\n",
              "47    477\n",
              "54    476\n",
              "46    473\n",
              "53    459\n",
              "57    456\n",
              "58    456\n",
              "51    448\n",
              "59    443\n",
              "55    443\n",
              "26    408\n",
              "60    374\n",
              "25    357\n",
              "61    354\n",
              "62    349\n",
              "63    269\n",
              "24    264\n",
              "64    262\n",
              "23    253\n",
              "65    194\n",
              "22    183\n",
              "66    182\n",
              "67    167\n",
              "21    111\n",
              "0     101\n",
              "68     99\n",
              "69     85\n",
              "70     65\n",
              "71     58\n",
              "20     51\n",
              "72     33\n",
              "19     14\n",
              "73      8\n",
              "74      6\n",
              "75      1\n",
              "Name: dob_years, dtype: int64"
            ]
          },
          "execution_count": 30,
          "metadata": {},
          "output_type": "execute_result"
        }
      ],
      "source": [
        "# Periksa `dob_years` untuk nilai yang mencurigakan dan hitung persentasenya\n",
        "df_new['dob_years'].value_counts()\n"
      ]
    },
    {
      "cell_type": "code",
      "execution_count": null,
      "metadata": {
        "scrolled": true,
        "id": "XopRdcGI9T5B",
        "outputId": "75e0b061-4ac8-4796-98c0-eba018057301"
      },
      "outputs": [
        {
          "data": {
            "text/plain": [
              "[0,\n",
              " 19,\n",
              " 20,\n",
              " 21,\n",
              " 22,\n",
              " 23,\n",
              " 24,\n",
              " 25,\n",
              " 26,\n",
              " 27,\n",
              " 28,\n",
              " 29,\n",
              " 30,\n",
              " 31,\n",
              " 32,\n",
              " 33,\n",
              " 34,\n",
              " 35,\n",
              " 36,\n",
              " 37,\n",
              " 38,\n",
              " 39,\n",
              " 40,\n",
              " 41,\n",
              " 42,\n",
              " 43,\n",
              " 44,\n",
              " 45,\n",
              " 46,\n",
              " 47,\n",
              " 48,\n",
              " 49,\n",
              " 50,\n",
              " 51,\n",
              " 52,\n",
              " 53,\n",
              " 54,\n",
              " 55,\n",
              " 56,\n",
              " 57,\n",
              " 58,\n",
              " 59,\n",
              " 60,\n",
              " 61,\n",
              " 62,\n",
              " 63,\n",
              " 64,\n",
              " 65,\n",
              " 66,\n",
              " 67,\n",
              " 68,\n",
              " 69,\n",
              " 70,\n",
              " 71,\n",
              " 72,\n",
              " 73,\n",
              " 74,\n",
              " 75]"
            ]
          },
          "execution_count": 31,
          "metadata": {},
          "output_type": "execute_result"
        }
      ],
      "source": [
        "sorted(df_new['dob_years'].unique())"
      ]
    },
    {
      "cell_type": "markdown",
      "metadata": {
        "id": "y4Z3G5O19T5C"
      },
      "source": [
        "Putuskan apa yang akan Anda lakukan dengan nilai yang bermasalah dan jelaskan alasannya."
      ]
    },
    {
      "cell_type": "code",
      "execution_count": null,
      "metadata": {
        "id": "KusGlkng9T5C"
      },
      "outputs": [],
      "source": [
        "# Atasi masalah pada kolom `dob_years`, jika terdapat masalah\n",
        "df_new1 = df_new[df_new['dob_years']!= 0].reset_index(drop=True)"
      ]
    },
    {
      "cell_type": "code",
      "execution_count": null,
      "metadata": {
        "scrolled": true,
        "id": "MfwENoO49T5C",
        "outputId": "c61e3675-079c-4a68-dbe2-9a9c95042545"
      },
      "outputs": [
        {
          "data": {
            "text/plain": [
              "[19,\n",
              " 20,\n",
              " 21,\n",
              " 22,\n",
              " 23,\n",
              " 24,\n",
              " 25,\n",
              " 26,\n",
              " 27,\n",
              " 28,\n",
              " 29,\n",
              " 30,\n",
              " 31,\n",
              " 32,\n",
              " 33,\n",
              " 34,\n",
              " 35,\n",
              " 36,\n",
              " 37,\n",
              " 38,\n",
              " 39,\n",
              " 40,\n",
              " 41,\n",
              " 42,\n",
              " 43,\n",
              " 44,\n",
              " 45,\n",
              " 46,\n",
              " 47,\n",
              " 48,\n",
              " 49,\n",
              " 50,\n",
              " 51,\n",
              " 52,\n",
              " 53,\n",
              " 54,\n",
              " 55,\n",
              " 56,\n",
              " 57,\n",
              " 58,\n",
              " 59,\n",
              " 60,\n",
              " 61,\n",
              " 62,\n",
              " 63,\n",
              " 64,\n",
              " 65,\n",
              " 66,\n",
              " 67,\n",
              " 68,\n",
              " 69,\n",
              " 70,\n",
              " 71,\n",
              " 72,\n",
              " 73,\n",
              " 74,\n",
              " 75]"
            ]
          },
          "execution_count": 33,
          "metadata": {},
          "output_type": "execute_result"
        }
      ],
      "source": [
        "# Periksa hasilnya - pastikan bahwa masalahnya telah diperbaiki\n",
        "sorted(df_new1['dob_years'].unique())"
      ]
    },
    {
      "cell_type": "markdown",
      "metadata": {
        "id": "ughtRvZL9T5C"
      },
      "source": [
        "Sekarang saatnya memeriksa kolom `family_status`. Periksalah nilai seperti apa yang dimuat di dalam kolom ini dan masalah apa yang mungkin perlu Anda atasi."
      ]
    },
    {
      "cell_type": "code",
      "execution_count": null,
      "metadata": {
        "id": "yemmoCfI9T5C",
        "outputId": "a8010b2f-e178-48ca-c687-ae2d533db306"
      },
      "outputs": [
        {
          "data": {
            "text/plain": [
              "married              12295\n",
              "civil partnership     4142\n",
              "unmarried             2794\n",
              "divorced              1185\n",
              "widow / widower        954\n",
              "Name: family_status, dtype: int64"
            ]
          },
          "execution_count": 34,
          "metadata": {},
          "output_type": "execute_result"
        }
      ],
      "source": [
        "# Mari kita lihat nilai untuk kolom ini\n",
        "df_new1['family_status'].value_counts()\n"
      ]
    },
    {
      "cell_type": "code",
      "execution_count": null,
      "metadata": {
        "id": "OXoVITtH9T5D"
      },
      "outputs": [],
      "source": [
        "# Atasi nilai yang bermasalah di `family_status`, jika ada\n",
        "\n"
      ]
    },
    {
      "cell_type": "code",
      "execution_count": null,
      "metadata": {
        "id": "rlD70aUl9T5D"
      },
      "outputs": [],
      "source": [
        "# Periksa hasilnya - pastikan nilainya telah diperbaiki\n"
      ]
    },
    {
      "cell_type": "markdown",
      "metadata": {
        "id": "yaWkVMBm9T5D"
      },
      "source": [
        "Sekarang saatnya memeriksa kolom `gender`. Periksalah nilai seperti apa yang dimuat di dalam kolom ini dan masalah apa yang mungkin perlu Anda atasi"
      ]
    },
    {
      "cell_type": "code",
      "execution_count": null,
      "metadata": {
        "id": "PdGyleVj9T5D",
        "outputId": "88a96410-884e-424a-8a70-06cb0b34348f"
      },
      "outputs": [
        {
          "data": {
            "text/plain": [
              "F      14117\n",
              "M       7252\n",
              "XNA        1\n",
              "Name: gender, dtype: int64"
            ]
          },
          "execution_count": 37,
          "metadata": {},
          "output_type": "execute_result"
        }
      ],
      "source": [
        "# Mari kita liat nilai dalam kolom ini\n",
        "df_new1['gender'].value_counts()"
      ]
    },
    {
      "cell_type": "code",
      "execution_count": null,
      "metadata": {
        "id": "mvkYhCx49T5D"
      },
      "outputs": [],
      "source": [
        "drop_index = df_new1[df_new1['gender']=='XNA'].index"
      ]
    },
    {
      "cell_type": "code",
      "execution_count": null,
      "metadata": {
        "id": "UAbytGix9T5D"
      },
      "outputs": [],
      "source": [
        "# Atasi nilai-nilai yang bermasalah, jika ada\n",
        "df_new2 = df_new1.drop(drop_index).reset_index(drop=True)"
      ]
    },
    {
      "cell_type": "code",
      "execution_count": null,
      "metadata": {
        "id": "wXRRwQ929T5E",
        "outputId": "ba74461e-9ed5-4341-db22-94e80d0b5fb8"
      },
      "outputs": [
        {
          "data": {
            "text/plain": [
              "F    14117\n",
              "M     7252\n",
              "Name: gender, dtype: int64"
            ]
          },
          "execution_count": 40,
          "metadata": {},
          "output_type": "execute_result"
        }
      ],
      "source": [
        "# Periksa hasilnya - pastikan bahwa masalahnya telah diperbaiki\n",
        "df_new2['gender'].value_counts()\n"
      ]
    },
    {
      "cell_type": "markdown",
      "metadata": {
        "id": "w47P-C6h9T5E"
      },
      "source": [
        "Sekarang saatnya memeriksa kolom `income_type`. Periksalah nilai seperti apa yang dimuat di dalam kolom ini dan masalah apa yang mungkin perlu Anda atasi"
      ]
    },
    {
      "cell_type": "code",
      "execution_count": null,
      "metadata": {
        "id": "twEawq2Y9T5E",
        "outputId": "64661a2c-328a-4aa9-e0aa-5f41760e6312"
      },
      "outputs": [
        {
          "data": {
            "text/plain": [
              "employee                       11036\n",
              "business                        5059\n",
              "retiree                         3817\n",
              "civil servant                   1451\n",
              "unemployed                         2\n",
              "entrepreneur                       2\n",
              "student                            1\n",
              "paternity / maternity leave        1\n",
              "Name: income_type, dtype: int64"
            ]
          },
          "execution_count": 41,
          "metadata": {},
          "output_type": "execute_result"
        }
      ],
      "source": [
        "# Mari kita lihat nilai dalam kolom ini\n",
        "df_new2['income_type'].value_counts()"
      ]
    },
    {
      "cell_type": "code",
      "execution_count": null,
      "metadata": {
        "id": "ESqu6-4Q9T5E"
      },
      "outputs": [],
      "source": [
        "# Atasi nilai yang bermasalah, jika ada"
      ]
    },
    {
      "cell_type": "code",
      "execution_count": null,
      "metadata": {
        "id": "p9bXMVbP9T5E"
      },
      "outputs": [],
      "source": [
        "# Periksa hasilnya - pastikan bahwa masalahnya telah diperbaiki\n",
        "\n"
      ]
    },
    {
      "cell_type": "markdown",
      "metadata": {
        "id": "SjXxQs659T5F"
      },
      "source": [
        "Sekarang saatnya melihat apakah ada duplikat di dalam data kita. Jika kita menemukannya, Anda harus memutuskan apa yang akan Anda lakukan dengan duplikat tersebut dan menjelaskan alasannya."
      ]
    },
    {
      "cell_type": "code",
      "execution_count": null,
      "metadata": {
        "id": "G4ngP3tn9T5F",
        "outputId": "de7f7140-d77b-4e4d-9e80-441a2ca7de4e"
      },
      "outputs": [
        {
          "data": {
            "text/plain": [
              "17"
            ]
          },
          "execution_count": 44,
          "metadata": {},
          "output_type": "execute_result"
        }
      ],
      "source": [
        "# Periksa duplikat\n",
        "df_new2.duplicated().sum()\n"
      ]
    },
    {
      "cell_type": "code",
      "execution_count": null,
      "metadata": {
        "id": "4d7dwMGC9T5F"
      },
      "outputs": [],
      "source": [
        "# Atasi duplikat, jika ada\n",
        "df_new2 = df_new2.drop_duplicates().reset_index(drop=True)\n"
      ]
    },
    {
      "cell_type": "code",
      "execution_count": null,
      "metadata": {
        "id": "-najxP5L9T5F",
        "outputId": "7ec5c94c-13a7-4381-d947-001719cfc510"
      },
      "outputs": [
        {
          "data": {
            "text/plain": [
              "0"
            ]
          },
          "execution_count": 46,
          "metadata": {},
          "output_type": "execute_result"
        }
      ],
      "source": [
        "# Lakukan pemeriksaan terakhir untuk mengecek apakah kita memiliki duplikat\n",
        "df_new2.duplicated().sum()"
      ]
    },
    {
      "cell_type": "code",
      "execution_count": null,
      "metadata": {
        "id": "-0SrJG7O9T5G",
        "outputId": "2ae3097c-9aec-463d-d3e4-49f137ba0cf8"
      },
      "outputs": [
        {
          "name": "stdout",
          "output_type": "stream",
          "text": [
            "<class 'pandas.core.frame.DataFrame'>\n",
            "RangeIndex: 21352 entries, 0 to 21351\n",
            "Data columns (total 12 columns):\n",
            " #   Column            Non-Null Count  Dtype  \n",
            "---  ------            --------------  -----  \n",
            " 0   children          21352 non-null  int64  \n",
            " 1   days_employed     19259 non-null  float64\n",
            " 2   dob_years         21352 non-null  int64  \n",
            " 3   education         21352 non-null  object \n",
            " 4   education_id      21352 non-null  int64  \n",
            " 5   family_status     21352 non-null  object \n",
            " 6   family_status_id  21352 non-null  int64  \n",
            " 7   gender            21352 non-null  object \n",
            " 8   income_type       21352 non-null  object \n",
            " 9   debt              21352 non-null  int64  \n",
            " 10  total_income      19259 non-null  float64\n",
            " 11  purpose           21352 non-null  object \n",
            "dtypes: float64(2), int64(5), object(5)\n",
            "memory usage: 2.0+ MB\n"
          ]
        }
      ],
      "source": [
        "# Periksa ukuran dataset yang sekarang Anda miliki setelah manipulasi pertama yang Anda lakukan\n",
        "df_new2.info()"
      ]
    },
    {
      "cell_type": "markdown",
      "metadata": {
        "id": "HhP4_Oyh9T5G"
      },
      "source": [
        "Jelaskan *dataset* baru Anda: jelaskan secara singkat apa saja perubahannya dan seberapa besar persentase perubahannya, jika ada.\n"
      ]
    },
    {
      "cell_type": "markdown",
      "metadata": {
        "id": "gXVEDWDc9T5G"
      },
      "source": [
        "# Bekerja dengan nilai yang hilang"
      ]
    },
    {
      "cell_type": "markdown",
      "metadata": {
        "id": "EVCBnP0d9T5G"
      },
      "source": [
        "Untuk mempercepat pekerjaan dengan sejumlah data, Anda mungkin ingin menggunakan *dictionary* untuk beberapa nilai yang memiliki ID. Jelaskan mengapa dan *dictionary* apakah yang akan Anda gunakan."
      ]
    },
    {
      "cell_type": "code",
      "execution_count": null,
      "metadata": {
        "id": "bPuc1oZr9T5G"
      },
      "outputs": [],
      "source": [
        "# Temukan dictionary\n",
        "dict_edu = df_new2[['education_id','education']].drop_duplicates().reset_index(drop=True)"
      ]
    },
    {
      "cell_type": "code",
      "execution_count": null,
      "metadata": {
        "id": "yGP_pEs_9T5G",
        "outputId": "247575ea-09fb-4dbf-8cc1-943bbab3d50e"
      },
      "outputs": [
        {
          "data": {
            "text/plain": [
              "[{'education_id': 0, 'education': \"bachelor's degree\"},\n",
              " {'education_id': 1, 'education': 'secondary education'},\n",
              " {'education_id': 2, 'education': 'some college'},\n",
              " {'education_id': 3, 'education': 'primary education'},\n",
              " {'education_id': 4, 'education': 'graduate degree'}]"
            ]
          },
          "execution_count": 49,
          "metadata": {},
          "output_type": "execute_result"
        }
      ],
      "source": [
        "dict_edu.to_dict(orient='records')"
      ]
    },
    {
      "cell_type": "code",
      "execution_count": null,
      "metadata": {
        "id": "3F_ik2z-9T5H"
      },
      "outputs": [],
      "source": [
        "dict_fam = df_new2[['family_status_id','family_status']].drop_duplicates().reset_index(drop=True)"
      ]
    },
    {
      "cell_type": "code",
      "execution_count": null,
      "metadata": {
        "id": "TuTUwHRZ9T5H",
        "outputId": "e8ed3b5a-29e2-44e3-ae3d-a71dacdf39eb"
      },
      "outputs": [
        {
          "data": {
            "text/plain": [
              "[{'family_status_id': 0, 'family_status': 'married'},\n",
              " {'family_status_id': 1, 'family_status': 'civil partnership'},\n",
              " {'family_status_id': 2, 'family_status': 'widow / widower'},\n",
              " {'family_status_id': 3, 'family_status': 'divorced'},\n",
              " {'family_status_id': 4, 'family_status': 'unmarried'}]"
            ]
          },
          "execution_count": 51,
          "metadata": {},
          "output_type": "execute_result"
        }
      ],
      "source": [
        "dict_fam.to_dict(orient='records')"
      ]
    },
    {
      "cell_type": "markdown",
      "metadata": {
        "id": "OGwbeNoa9T5H"
      },
      "source": [
        "### Memperbaiki nilai yang hilang di `total_income`"
      ]
    },
    {
      "cell_type": "markdown",
      "metadata": {
        "id": "q90YVzdp9T5H"
      },
      "source": [
        "Jelaskan secara singkat kolom dengan nilai yang hilang manakah yang perlu Anda tangani. Jelaskan bagaimana Anda akan memperbaikinya.\n",
        "\n",
        "\n",
        "Mulailah dengan mengatasi total nilai pendapatan yang hilang. Buatlah kategori usia untuk nasabah. Buatlah kolom baru yang memuat kategori usia. Strategi ini dapat membantu untuk menghitung total nilai pendapatan.\n"
      ]
    },
    {
      "cell_type": "code",
      "execution_count": null,
      "metadata": {
        "id": "DDek98VR9T5H"
      },
      "outputs": [],
      "source": [
        "# Mari kita tulis sebuah fungsi untuk menghitung kategori usia\n",
        "def age_category(age):\n",
        "    try:\n",
        "        if age <= 17:\n",
        "            return 'teenager'\n",
        "        elif 18 <= age <= 30:\n",
        "            return 'young'\n",
        "        elif 31 <= age <= 50:\n",
        "            return 'mature'\n",
        "        else:\n",
        "            return 'old age'\n",
        "    except:\n",
        "        return 'unknown'"
      ]
    },
    {
      "cell_type": "code",
      "execution_count": null,
      "metadata": {
        "scrolled": true,
        "id": "qPt7_5HK9T5I",
        "outputId": "8ad859ee-9fc4-4829-e24a-d25ef6f01bf4"
      },
      "outputs": [
        {
          "data": {
            "text/plain": [
              "'mature'"
            ]
          },
          "execution_count": 53,
          "metadata": {},
          "output_type": "execute_result"
        }
      ],
      "source": [
        "# Lakukan pengujian untuk melihat apakah fungsi Anda bekerja atau tidak\n",
        "age_category(36)\n"
      ]
    },
    {
      "cell_type": "code",
      "execution_count": null,
      "metadata": {
        "id": "AeUKSsi_9T5I"
      },
      "outputs": [],
      "source": [
        "# Buatlah kolom baru berdasarkan fungsi\n",
        "df_new2['age_category'] = df_new2['dob_years'].apply(age_category) \n"
      ]
    },
    {
      "cell_type": "code",
      "execution_count": null,
      "metadata": {
        "id": "TEnaJEpT9T5I",
        "outputId": "079aaaa2-4bf6-4097-c8b3-1d8bfd63616a"
      },
      "outputs": [
        {
          "data": {
            "text/plain": [
              "mature     10992\n",
              "old age     6644\n",
              "young       3716\n",
              "Name: age_category, dtype: int64"
            ]
          },
          "execution_count": 55,
          "metadata": {},
          "output_type": "execute_result"
        }
      ],
      "source": [
        "# Periksa bagaimana nilai di dalam kolom baru\n",
        "df_new2['age_category'].value_counts()\n"
      ]
    },
    {
      "cell_type": "markdown",
      "metadata": {
        "id": "eMpAI7e29T5J"
      },
      "source": [
        "Pikirkan tentang faktor-faktor yang biasanya bergantung pada pendapatan. Pada akhirnya, Anda akan mengetahui apakah Anda harus menggunakan nilai rata-rata atau median untuk mengganti nilai yang hilang. Untuk membuat keputusan ini, Anda mungkin ingin melihat distribusi faktor-faktor yang Anda identifikasi sebagai dampak dari pendapatan seseorang."
      ]
    },
    {
      "cell_type": "markdown",
      "metadata": {
        "id": "Ue45owBO9T5K"
      },
      "source": [
        "Buatlah tabel yang hanya memuat data tanpa nilai yang hilang. Data ini akan digunakan untuk memperbaiki nilai yang hilang."
      ]
    },
    {
      "cell_type": "code",
      "execution_count": null,
      "metadata": {
        "id": "tnOOSKaJ9T5K"
      },
      "outputs": [],
      "source": [
        "# Buat tabel tanpa nilai yang hilang dan tampilkan beberapa barisnya untuk memastikan semuanya berjalan dengan baik\n",
        "df_not_na = df_new2[df_new2['total_income'].notna()].reset_index(drop=True)"
      ]
    },
    {
      "cell_type": "code",
      "execution_count": null,
      "metadata": {
        "id": "soJJy0F09T5K",
        "outputId": "5a2db647-9ec8-4cc1-b033-9c98dfb67035"
      },
      "outputs": [
        {
          "data": {
            "text/plain": [
              "age_category\n",
              "mature     28383.188755\n",
              "old age    24704.150073\n",
              "young      25815.651899\n",
              "Name: total_income, dtype: float64"
            ]
          },
          "execution_count": 57,
          "metadata": {},
          "output_type": "execute_result"
        }
      ],
      "source": [
        "# Perhatikan nilai rata-rata untuk pendapatan berdasarkan faktor yang telah Anda identifikasi\n",
        "df_not_na.groupby('age_category')['total_income'].mean()"
      ]
    },
    {
      "cell_type": "code",
      "execution_count": null,
      "metadata": {
        "scrolled": true,
        "id": "48c9Cc7L9T5L",
        "outputId": "ee32e2d6-439e-49d2-ed2f-a3bd221b9f06"
      },
      "outputs": [
        {
          "data": {
            "text/plain": [
              "age_category\n",
              "mature     24711.8435\n",
              "old age    21310.9445\n",
              "young      22955.4740\n",
              "Name: total_income, dtype: float64"
            ]
          },
          "execution_count": 58,
          "metadata": {},
          "output_type": "execute_result"
        }
      ],
      "source": [
        "# Perhatikan nilai median untuk pendapatan berdasarkan faktor yang telah Anda identifikasi\n",
        "df_not_na.groupby('age_category')['total_income'].median()"
      ]
    },
    {
      "cell_type": "markdown",
      "metadata": {
        "id": "vFhtepRn9T5L"
      },
      "source": [
        "Ulangi perbandingan tersebut untuk beberapa faktor. Pastikan Anda mempertimbangkan berbagai aspek dan menjelaskan proses berpikir Anda.\n",
        "\n"
      ]
    },
    {
      "cell_type": "markdown",
      "metadata": {
        "id": "SHxu3Gcw9T5L"
      },
      "source": [
        "Buatlah keputusan tentang karakteristik yang paling menentukan pendapatan dan apakah Anda akan menggunakan median atau rata-rata. Jelaskan mengapa Anda membuat keputusan ini\n"
      ]
    },
    {
      "cell_type": "code",
      "execution_count": null,
      "metadata": {
        "id": "70Oggu9v9T5M"
      },
      "outputs": [],
      "source": [
        "#  Tulis fungsi yang akan kita gunakan untuk mengisi nilai yang hilang\n",
        "def fill_missing_value (dataframe, agg_column, value_column):\n",
        "    \n",
        "    grouped_values = dataframe.groupby(agg_column)[value_column].median().reset_index()\n",
        "    size = len(grouped_values)\n",
        "    for i in range(size):\n",
        "        group = grouped_values[agg_column][i]\n",
        "        value = grouped_values[value_column][i]\n",
        "        dataframe.loc[(dataframe[agg_column]==group) & (dataframe[value_column].isna()), value_column] = value\n",
        "    return dataframe\n",
        "        "
      ]
    },
    {
      "cell_type": "code",
      "execution_count": null,
      "metadata": {
        "id": "qHIRnoXD9T5M"
      },
      "outputs": [],
      "source": [
        "# Memeriksa bagaimana nilai di dalam kolom baru\n",
        "df_new3 = fill_missing_value(df_new2, 'age_category', 'total_income')"
      ]
    },
    {
      "cell_type": "code",
      "execution_count": null,
      "metadata": {
        "id": "zqbMkz-T9T5M",
        "outputId": "0a82135b-14b1-4099-fe5a-720a9dafc7f4"
      },
      "outputs": [
        {
          "data": {
            "text/plain": [
              "children               0\n",
              "days_employed       2093\n",
              "dob_years              0\n",
              "education              0\n",
              "education_id           0\n",
              "family_status          0\n",
              "family_status_id       0\n",
              "gender                 0\n",
              "income_type            0\n",
              "debt                   0\n",
              "total_income           0\n",
              "purpose                0\n",
              "age_category           0\n",
              "dtype: int64"
            ]
          },
          "execution_count": 61,
          "metadata": {},
          "output_type": "execute_result"
        }
      ],
      "source": [
        "df_new3.isna().sum()"
      ]
    },
    {
      "cell_type": "code",
      "execution_count": null,
      "metadata": {
        "id": "bAl3viFF9T5M",
        "outputId": "a7e76538-47d9-4ecb-c66f-8689129a3742"
      },
      "outputs": [
        {
          "data": {
            "text/plain": [
              "age_category\n",
              "mature     24711.8435\n",
              "old age    21310.9445\n",
              "young      22955.4740\n",
              "Name: total_income, dtype: float64"
            ]
          },
          "execution_count": 62,
          "metadata": {},
          "output_type": "execute_result"
        }
      ],
      "source": [
        "# Terapkan fungsi tersebut ke setiap baris\n",
        "df_new3.groupby('age_category')['total_income'].median()"
      ]
    },
    {
      "cell_type": "code",
      "execution_count": null,
      "metadata": {
        "id": "73E0x8f-9T5N",
        "outputId": "dcef4ba6-1e7a-4dd7-d444-ff387f4407fa"
      },
      "outputs": [
        {
          "data": {
            "text/html": [
              "<div>\n",
              "<style scoped>\n",
              "    .dataframe tbody tr th:only-of-type {\n",
              "        vertical-align: middle;\n",
              "    }\n",
              "\n",
              "    .dataframe tbody tr th {\n",
              "        vertical-align: top;\n",
              "    }\n",
              "\n",
              "    .dataframe thead th {\n",
              "        text-align: right;\n",
              "    }\n",
              "</style>\n",
              "<table border=\"1\" class=\"dataframe\">\n",
              "  <thead>\n",
              "    <tr style=\"text-align: right;\">\n",
              "      <th></th>\n",
              "      <th>children</th>\n",
              "      <th>days_employed</th>\n",
              "      <th>dob_years</th>\n",
              "      <th>education</th>\n",
              "      <th>education_id</th>\n",
              "      <th>family_status</th>\n",
              "      <th>family_status_id</th>\n",
              "      <th>gender</th>\n",
              "      <th>income_type</th>\n",
              "      <th>debt</th>\n",
              "      <th>total_income</th>\n",
              "      <th>purpose</th>\n",
              "      <th>age_category</th>\n",
              "    </tr>\n",
              "  </thead>\n",
              "  <tbody>\n",
              "  </tbody>\n",
              "</table>\n",
              "</div>"
            ],
            "text/plain": [
              "Empty DataFrame\n",
              "Columns: [children, days_employed, dob_years, education, education_id, family_status, family_status_id, gender, income_type, debt, total_income, purpose, age_category]\n",
              "Index: []"
            ]
          },
          "execution_count": 63,
          "metadata": {},
          "output_type": "execute_result"
        }
      ],
      "source": [
        "# Periksa apakah kita mendapatkan kesalahan\n",
        "df_new3[df_new3['total_income'].isna()]"
      ]
    },
    {
      "cell_type": "markdown",
      "metadata": {
        "id": "oMA1kO149T5N"
      },
      "source": [
        "Jika Anda menemukan kesalahan dalam menyiapkan nilai untuk data yang hilang, mungkin berarti ada sesuatu yang istimewa tentang data untuk kategori tersebut. Mari pikirkan - Anda mungkin ingin memperbaiki beberapa hal secara manual, jika terdapat cukup data untuk menemukan median/rata-rata.\n"
      ]
    },
    {
      "cell_type": "code",
      "execution_count": null,
      "metadata": {
        "id": "Mpksd9Y99T5N"
      },
      "outputs": [],
      "source": [
        "# Ganti nilai yang hilang jika terdapat kesalahan\n"
      ]
    },
    {
      "cell_type": "markdown",
      "metadata": {
        "id": "hgxrKWS29T5N"
      },
      "source": [
        "Setelah Anda selesai dengan `total_income`, periksa apakah jumlah total nilai di kolom ini sesuai dengan jumlah nilai di kolom lain."
      ]
    },
    {
      "cell_type": "code",
      "execution_count": null,
      "metadata": {
        "id": "4wOtXkxZ9T5O",
        "outputId": "8d41cdd9-f964-4c42-bb74-dbc462877652"
      },
      "outputs": [
        {
          "data": {
            "text/plain": [
              "children               0\n",
              "days_employed       2093\n",
              "dob_years              0\n",
              "education              0\n",
              "education_id           0\n",
              "family_status          0\n",
              "family_status_id       0\n",
              "gender                 0\n",
              "income_type            0\n",
              "debt                   0\n",
              "total_income           0\n",
              "purpose                0\n",
              "age_category           0\n",
              "dtype: int64"
            ]
          },
          "execution_count": 65,
          "metadata": {},
          "output_type": "execute_result"
        }
      ],
      "source": [
        "# Periksa jumlah entri di kolom\n",
        "df_new3.isna().sum()\n"
      ]
    },
    {
      "cell_type": "markdown",
      "metadata": {
        "id": "U505psFp9T5O"
      },
      "source": [
        "###  Memperbaiki nilai di `days_employed`"
      ]
    },
    {
      "cell_type": "markdown",
      "metadata": {
        "id": "jH1-64e09T5O"
      },
      "source": [
        "Pikirkan tentang parameter yang dapat membantu Anda memperbaiki nilai yang hilang di kolom ini. Pada akhirnya, Anda akan mengetahui apakah Anda harus menggunakan nilai rata-rata atau median untuk mengganti nilai yang hilang. Anda mungkin perlu melakukan penelitian yang sama dengan yang Anda lakukan saat memperbaiki data di kolom sebelumnya."
      ]
    },
    {
      "cell_type": "code",
      "execution_count": null,
      "metadata": {
        "pycharm": {
          "name": "#%%\n"
        },
        "id": "3B1e6WY89T5P",
        "outputId": "330b9dfb-07c9-4873-8185-794c88d904b4"
      },
      "outputs": [
        {
          "data": {
            "text/plain": [
              "age_category\n",
              "mature      1865.986695\n",
              "old age    12775.000000\n",
              "young       1045.752744\n",
              "Name: days_employed, dtype: float64"
            ]
          },
          "execution_count": 66,
          "metadata": {},
          "output_type": "execute_result"
        }
      ],
      "source": [
        "# Distribusi median dari `days_employed` berdasarkan parameter yang Anda identifikasi\n",
        "df_not_na.groupby('age_category')['days_employed'].median()\n"
      ]
    },
    {
      "cell_type": "code",
      "execution_count": null,
      "metadata": {
        "scrolled": true,
        "id": "or7p6sge9T5P",
        "outputId": "61e6ad05-83dd-4596-f2d0-76e43fa6899c"
      },
      "outputs": [
        {
          "data": {
            "text/plain": [
              "age_category\n",
              "mature     2590.939643\n",
              "old age    9682.897654\n",
              "young      1282.123623\n",
              "Name: days_employed, dtype: float64"
            ]
          },
          "execution_count": 67,
          "metadata": {},
          "output_type": "execute_result"
        }
      ],
      "source": [
        "# Distribusi rata-rata dari `days_employed` berdasarkan parameter yang Anda identifikasi\n",
        "df_not_na.groupby('age_category')['days_employed'].mean()\n"
      ]
    },
    {
      "cell_type": "markdown",
      "metadata": {
        "id": "9i3-ZnBD9T5P"
      },
      "source": [
        "Tentukan apa yang akan Anda gunakan: rata-rata atau median. Jelaskan mengapa."
      ]
    },
    {
      "cell_type": "markdown",
      "metadata": {
        "id": "zPwhYpE09T5R"
      },
      "source": [
        "menggunakan median karena memiliki banyak outliers"
      ]
    },
    {
      "cell_type": "code",
      "execution_count": null,
      "metadata": {
        "id": "zctiX0TD9T5R",
        "outputId": "8083a638-52d0-4d4d-e8fe-80bdb8dac73f"
      },
      "outputs": [
        {
          "data": {
            "image/png": "[encoded data removed]",
            "text/plain": [
              "<Figure size 432x288 with 1 Axes>"
            ]
          },
          "metadata": {
            "needs_background": "light"
          },
          "output_type": "display_data"
        }
      ],
      "source": [
        "sns.boxplot(df_not_na['days_employed']);"
      ]
    },
    {
      "cell_type": "code",
      "execution_count": null,
      "metadata": {
        "id": "atGeDXbP9T5R"
      },
      "outputs": [],
      "source": [
        "# Mari tulis fungsi yang menghitung rata-rata atau median (tergantung keputusan Anda) berdasarkan parameter yang Anda identifikasi\n",
        "def test (dataframe, grouping_column, target_column):\n",
        "    unique_vals = dataframe[grouping_column].unique()\n",
        "\n",
        "    for value in unique_vals:\n",
        "        # median\n",
        "        median = dataframe.loc[dataframe[grouping_column]==value, target_column].median()\n",
        "        dataframe.loc[(dataframe[grouping_column]==value) & (dataframe[target_column].isna()), target_column] = median\n",
        "    \n",
        "    return dataframe"
      ]
    },
    {
      "cell_type": "code",
      "execution_count": null,
      "metadata": {
        "id": "7ymYkZrF9T5S"
      },
      "outputs": [],
      "source": [
        "# Periksa apakah fungsi Anda dapat bekerja\n",
        "df_new4 = test(df_new3,'age_category','days_employed')\n"
      ]
    },
    {
      "cell_type": "code",
      "execution_count": null,
      "metadata": {
        "id": "0olCAptJ9T5S",
        "outputId": "049cf73d-e470-472c-aa60-b1aa513b455a"
      },
      "outputs": [
        {
          "data": {
            "text/plain": [
              "children            0\n",
              "days_employed       0\n",
              "dob_years           0\n",
              "education           0\n",
              "education_id        0\n",
              "family_status       0\n",
              "family_status_id    0\n",
              "gender              0\n",
              "income_type         0\n",
              "debt                0\n",
              "total_income        0\n",
              "purpose             0\n",
              "age_category        0\n",
              "dtype: int64"
            ]
          },
          "execution_count": 71,
          "metadata": {},
          "output_type": "execute_result"
        }
      ],
      "source": [
        "df_new4.isna().sum()"
      ]
    },
    {
      "cell_type": "code",
      "execution_count": null,
      "metadata": {
        "id": "3nJkqe0-9T5S"
      },
      "outputs": [],
      "source": [
        "# Terapkan fungsi ke income_type\n",
        "df_new5 = test(df_new4,'income_type','days_employed')\n"
      ]
    },
    {
      "cell_type": "code",
      "execution_count": null,
      "metadata": {
        "id": "EXu5qJMs9T5S",
        "outputId": "c41b8bbb-97a0-47b5-f1cf-1a373b4617d3"
      },
      "outputs": [
        {
          "data": {
            "text/html": [
              "<div>\n",
              "<style scoped>\n",
              "    .dataframe tbody tr th:only-of-type {\n",
              "        vertical-align: middle;\n",
              "    }\n",
              "\n",
              "    .dataframe tbody tr th {\n",
              "        vertical-align: top;\n",
              "    }\n",
              "\n",
              "    .dataframe thead th {\n",
              "        text-align: right;\n",
              "    }\n",
              "</style>\n",
              "<table border=\"1\" class=\"dataframe\">\n",
              "  <thead>\n",
              "    <tr style=\"text-align: right;\">\n",
              "      <th></th>\n",
              "      <th>children</th>\n",
              "      <th>days_employed</th>\n",
              "      <th>dob_years</th>\n",
              "      <th>education</th>\n",
              "      <th>education_id</th>\n",
              "      <th>family_status</th>\n",
              "      <th>family_status_id</th>\n",
              "      <th>gender</th>\n",
              "      <th>income_type</th>\n",
              "      <th>debt</th>\n",
              "      <th>total_income</th>\n",
              "      <th>purpose</th>\n",
              "      <th>age_category</th>\n",
              "    </tr>\n",
              "  </thead>\n",
              "  <tbody>\n",
              "  </tbody>\n",
              "</table>\n",
              "</div>"
            ],
            "text/plain": [
              "Empty DataFrame\n",
              "Columns: [children, days_employed, dob_years, education, education_id, family_status, family_status_id, gender, income_type, debt, total_income, purpose, age_category]\n",
              "Index: []"
            ]
          },
          "execution_count": 73,
          "metadata": {},
          "output_type": "execute_result"
        }
      ],
      "source": [
        "# Periksa apakah fungsi Anda bekerja\n",
        "df_new5[df_new5['income_type'].isna()]\n"
      ]
    },
    {
      "cell_type": "code",
      "execution_count": null,
      "metadata": {
        "id": "M3xOM8aL9T5S"
      },
      "outputs": [],
      "source": [
        "# Ganti nilai yang hilang\n",
        "\n"
      ]
    },
    {
      "cell_type": "markdown",
      "metadata": {
        "id": "e4pPO1lh9T5S"
      },
      "source": [
        "Setelah Anda selesai dengan `total_income`, periksa apakah jumlah total nilai di kolom ini sesuai dengan jumlah nilai di kolom lain."
      ]
    },
    {
      "cell_type": "code",
      "execution_count": null,
      "metadata": {
        "id": "zSLSJinc9T5S"
      },
      "outputs": [],
      "source": [
        "# Periksa entri di semua kolom - pastikan kita memperbaiki semua nilai yang hilang\n"
      ]
    },
    {
      "cell_type": "markdown",
      "metadata": {
        "id": "z6HTFRrw9T5T"
      },
      "source": [
        "## Pengkategorian Data\n",
        "\n",
        "Untuk menjawab pertanyaan dan menguji hipotesis, Anda akan bekerja dengan data yang telah dikategorikan. Lihatlah pertanyaan-pertanyaan yang diajukan kepada Anda dan yang harus Anda jawab. Pikirkan tentang data mana yang perlu dikategorikan untuk menjawab pertanyaan-pertanyaan ini. Di bawah ini, Anda akan menemukan templat yang bisa Anda gunakan untuk mengkategorikan data. Proses pertama mencakup data teks; yang kedua membahas data numerik yang perlu dikategorikan. Anda dapat menggunakan kedua petunjuk yang disarankan atau tidak sama sekali - semuanya terserah Anda.\n",
        "\n",
        "Terlepas dari keputusan Anda untuk mengatasi pengkategorian, pastikan bahwa Anda secara lugas memberikan penjelasan tentang mengapa Anda membuat keputusan tersebut. Ingat: ini adalah pekerjaan Anda dan Andalah yang berhak membuat segala keputusan.\n"
      ]
    },
    {
      "cell_type": "code",
      "execution_count": null,
      "metadata": {
        "id": "H29etgbD9T5T",
        "outputId": "2f433621-0b47-4e69-a8d5-73b4942ed896"
      },
      "outputs": [
        {
          "data": {
            "text/html": [
              "<div>\n",
              "<style scoped>\n",
              "    .dataframe tbody tr th:only-of-type {\n",
              "        vertical-align: middle;\n",
              "    }\n",
              "\n",
              "    .dataframe tbody tr th {\n",
              "        vertical-align: top;\n",
              "    }\n",
              "\n",
              "    .dataframe thead th {\n",
              "        text-align: right;\n",
              "    }\n",
              "</style>\n",
              "<table border=\"1\" class=\"dataframe\">\n",
              "  <thead>\n",
              "    <tr style=\"text-align: right;\">\n",
              "      <th></th>\n",
              "      <th>children</th>\n",
              "      <th>days_employed</th>\n",
              "      <th>dob_years</th>\n",
              "      <th>education</th>\n",
              "      <th>education_id</th>\n",
              "      <th>family_status</th>\n",
              "      <th>family_status_id</th>\n",
              "      <th>gender</th>\n",
              "      <th>income_type</th>\n",
              "      <th>debt</th>\n",
              "      <th>total_income</th>\n",
              "      <th>purpose</th>\n",
              "      <th>age_category</th>\n",
              "    </tr>\n",
              "  </thead>\n",
              "  <tbody>\n",
              "    <tr>\n",
              "      <th>0</th>\n",
              "      <td>1</td>\n",
              "      <td>8437.673028</td>\n",
              "      <td>42</td>\n",
              "      <td>bachelor's degree</td>\n",
              "      <td>0</td>\n",
              "      <td>married</td>\n",
              "      <td>0</td>\n",
              "      <td>F</td>\n",
              "      <td>employee</td>\n",
              "      <td>0</td>\n",
              "      <td>40620.102</td>\n",
              "      <td>purchase of the house</td>\n",
              "      <td>mature</td>\n",
              "    </tr>\n",
              "    <tr>\n",
              "      <th>1</th>\n",
              "      <td>1</td>\n",
              "      <td>4024.803754</td>\n",
              "      <td>36</td>\n",
              "      <td>secondary education</td>\n",
              "      <td>1</td>\n",
              "      <td>married</td>\n",
              "      <td>0</td>\n",
              "      <td>F</td>\n",
              "      <td>employee</td>\n",
              "      <td>0</td>\n",
              "      <td>17932.802</td>\n",
              "      <td>car purchase</td>\n",
              "      <td>mature</td>\n",
              "    </tr>\n",
              "    <tr>\n",
              "      <th>2</th>\n",
              "      <td>0</td>\n",
              "      <td>5623.422610</td>\n",
              "      <td>33</td>\n",
              "      <td>secondary education</td>\n",
              "      <td>1</td>\n",
              "      <td>married</td>\n",
              "      <td>0</td>\n",
              "      <td>M</td>\n",
              "      <td>employee</td>\n",
              "      <td>0</td>\n",
              "      <td>23341.752</td>\n",
              "      <td>purchase of the house</td>\n",
              "      <td>mature</td>\n",
              "    </tr>\n",
              "    <tr>\n",
              "      <th>3</th>\n",
              "      <td>3</td>\n",
              "      <td>4124.747207</td>\n",
              "      <td>32</td>\n",
              "      <td>secondary education</td>\n",
              "      <td>1</td>\n",
              "      <td>married</td>\n",
              "      <td>0</td>\n",
              "      <td>M</td>\n",
              "      <td>employee</td>\n",
              "      <td>0</td>\n",
              "      <td>42820.568</td>\n",
              "      <td>supplementary education</td>\n",
              "      <td>mature</td>\n",
              "    </tr>\n",
              "    <tr>\n",
              "      <th>4</th>\n",
              "      <td>0</td>\n",
              "      <td>12410.000000</td>\n",
              "      <td>53</td>\n",
              "      <td>secondary education</td>\n",
              "      <td>1</td>\n",
              "      <td>civil partnership</td>\n",
              "      <td>1</td>\n",
              "      <td>F</td>\n",
              "      <td>retiree</td>\n",
              "      <td>0</td>\n",
              "      <td>25378.572</td>\n",
              "      <td>to have a wedding</td>\n",
              "      <td>old age</td>\n",
              "    </tr>\n",
              "  </tbody>\n",
              "</table>\n",
              "</div>"
            ],
            "text/plain": [
              "   children  days_employed  dob_years            education  education_id  \\\n",
              "0         1    8437.673028         42    bachelor's degree             0   \n",
              "1         1    4024.803754         36  secondary education             1   \n",
              "2         0    5623.422610         33  secondary education             1   \n",
              "3         3    4124.747207         32  secondary education             1   \n",
              "4         0   12410.000000         53  secondary education             1   \n",
              "\n",
              "       family_status  family_status_id gender income_type  debt  total_income  \\\n",
              "0            married                 0      F    employee     0     40620.102   \n",
              "1            married                 0      F    employee     0     17932.802   \n",
              "2            married                 0      M    employee     0     23341.752   \n",
              "3            married                 0      M    employee     0     42820.568   \n",
              "4  civil partnership                 1      F     retiree     0     25378.572   \n",
              "\n",
              "                   purpose age_category  \n",
              "0    purchase of the house       mature  \n",
              "1             car purchase       mature  \n",
              "2    purchase of the house       mature  \n",
              "3  supplementary education       mature  \n",
              "4        to have a wedding      old age  "
            ]
          },
          "execution_count": 76,
          "metadata": {},
          "output_type": "execute_result"
        }
      ],
      "source": [
        "df_new5.head()"
      ]
    },
    {
      "cell_type": "code",
      "execution_count": null,
      "metadata": {
        "scrolled": true,
        "id": "y-l8zYk89T5T"
      },
      "outputs": [],
      "source": [
        "# Tampilkan nilai data yang Anda pilih untuk pengkategorian\n",
        "selected_column = ['education','gender','family_status']\n"
      ]
    },
    {
      "cell_type": "code",
      "execution_count": null,
      "metadata": {
        "id": "u_LwAEin9T5T",
        "outputId": "015c21ac-0dff-40df-d1be-5aad3e670af5"
      },
      "outputs": [
        {
          "name": "stdout",
          "output_type": "stream",
          "text": [
            "education\n",
            "[\"bachelor's degree\" 'secondary education' 'some college'\n",
            " 'primary education' 'graduate degree']\n",
            "\n",
            "gender\n",
            "['F' 'M']\n",
            "\n",
            "family_status\n",
            "['married' 'civil partnership' 'widow / widower' 'divorced' 'unmarried']\n",
            "\n"
          ]
        }
      ],
      "source": [
        "for i in selected_column:\n",
        "    print(i)\n",
        "    print(df_new5[i].unique())\n",
        "    print()"
      ]
    },
    {
      "cell_type": "markdown",
      "metadata": {
        "id": "ST4a0VJM9T5T"
      },
      "source": [
        "Mari kita memeriksa nilai unik"
      ]
    },
    {
      "cell_type": "code",
      "execution_count": null,
      "metadata": {
        "id": "-Hl5UqDR9T5U",
        "outputId": "c1f6a6fe-61bf-4310-c260-b5e3087ce3ac"
      },
      "outputs": [
        {
          "data": {
            "text/plain": [
              "wedding ceremony                            786\n",
              "having a wedding                            764\n",
              "to have a wedding                           760\n",
              "real estate transactions                    672\n",
              "buy commercial real estate                  658\n",
              "buying property for renting out             649\n",
              "transactions with commercial real estate    648\n",
              "housing transactions                        646\n",
              "purchase of the house                       640\n",
              "housing                                     640\n",
              "purchase of the house for my family         637\n",
              "construction of own property                633\n",
              "property                                    629\n",
              "transactions with my real estate            627\n",
              "building a real estate                      621\n",
              "purchase of my own house                    619\n",
              "building a property                         619\n",
              "buy real estate                             617\n",
              "housing renovation                          605\n",
              "buy residential real estate                 603\n",
              "buying my own car                           502\n",
              "going to university                         493\n",
              "car                                         490\n",
              "second-hand car purchase                    484\n",
              "buying a second-hand car                    478\n",
              "cars                                        476\n",
              "to own a car                                475\n",
              "to buy a car                                466\n",
              "car purchase                                459\n",
              "supplementary education                     458\n",
              "purchase of a car                           454\n",
              "university education                        449\n",
              "education                                   444\n",
              "to get a supplementary education            444\n",
              "getting an education                        441\n",
              "profile education                           435\n",
              "getting higher education                    424\n",
              "to become educated                          407\n",
              "Name: purpose, dtype: int64"
            ]
          },
          "execution_count": 79,
          "metadata": {},
          "output_type": "execute_result"
        }
      ],
      "source": [
        "# Periksa nilai unik\n",
        "df_new5['purpose'].value_counts()"
      ]
    },
    {
      "cell_type": "code",
      "execution_count": null,
      "metadata": {
        "id": "8FHM1Yu79T5U"
      },
      "outputs": [],
      "source": [
        "def purpose_category(row):\n",
        "    if 'car' in row:\n",
        "        return 'car'\n",
        "    elif 'hous' in row or 'propert' in row or 'real esta' in row:\n",
        "        return 'property'\n",
        "    elif 'wedd' in row:\n",
        "        return 'wedding'\n",
        "    elif 'educ' in row or 'uni' in row:\n",
        "        return 'education'\n",
        "    else:\n",
        "        return 'unidentified'"
      ]
    },
    {
      "cell_type": "code",
      "execution_count": null,
      "metadata": {
        "id": "Vp27DHQ89T5U"
      },
      "outputs": [],
      "source": [
        "df_new5['purpose_category'] = df_new5['purpose'].apply(purpose_category)"
      ]
    },
    {
      "cell_type": "code",
      "execution_count": null,
      "metadata": {
        "id": "U-n4wnC_9T5U",
        "outputId": "4442dc21-4e5b-430b-b114-e265e629305e"
      },
      "outputs": [
        {
          "data": {
            "text/html": [
              "<div>\n",
              "<style scoped>\n",
              "    .dataframe tbody tr th:only-of-type {\n",
              "        vertical-align: middle;\n",
              "    }\n",
              "\n",
              "    .dataframe tbody tr th {\n",
              "        vertical-align: top;\n",
              "    }\n",
              "\n",
              "    .dataframe thead th {\n",
              "        text-align: right;\n",
              "    }\n",
              "</style>\n",
              "<table border=\"1\" class=\"dataframe\">\n",
              "  <thead>\n",
              "    <tr style=\"text-align: right;\">\n",
              "      <th></th>\n",
              "      <th>children</th>\n",
              "      <th>days_employed</th>\n",
              "      <th>dob_years</th>\n",
              "      <th>education</th>\n",
              "      <th>education_id</th>\n",
              "      <th>family_status</th>\n",
              "      <th>family_status_id</th>\n",
              "      <th>gender</th>\n",
              "      <th>income_type</th>\n",
              "      <th>debt</th>\n",
              "      <th>total_income</th>\n",
              "      <th>purpose</th>\n",
              "      <th>age_category</th>\n",
              "      <th>purpose_category</th>\n",
              "    </tr>\n",
              "  </thead>\n",
              "  <tbody>\n",
              "    <tr>\n",
              "      <th>0</th>\n",
              "      <td>1</td>\n",
              "      <td>8437.673028</td>\n",
              "      <td>42</td>\n",
              "      <td>bachelor's degree</td>\n",
              "      <td>0</td>\n",
              "      <td>married</td>\n",
              "      <td>0</td>\n",
              "      <td>F</td>\n",
              "      <td>employee</td>\n",
              "      <td>0</td>\n",
              "      <td>40620.102</td>\n",
              "      <td>purchase of the house</td>\n",
              "      <td>mature</td>\n",
              "      <td>property</td>\n",
              "    </tr>\n",
              "    <tr>\n",
              "      <th>1</th>\n",
              "      <td>1</td>\n",
              "      <td>4024.803754</td>\n",
              "      <td>36</td>\n",
              "      <td>secondary education</td>\n",
              "      <td>1</td>\n",
              "      <td>married</td>\n",
              "      <td>0</td>\n",
              "      <td>F</td>\n",
              "      <td>employee</td>\n",
              "      <td>0</td>\n",
              "      <td>17932.802</td>\n",
              "      <td>car purchase</td>\n",
              "      <td>mature</td>\n",
              "      <td>car</td>\n",
              "    </tr>\n",
              "    <tr>\n",
              "      <th>2</th>\n",
              "      <td>0</td>\n",
              "      <td>5623.422610</td>\n",
              "      <td>33</td>\n",
              "      <td>secondary education</td>\n",
              "      <td>1</td>\n",
              "      <td>married</td>\n",
              "      <td>0</td>\n",
              "      <td>M</td>\n",
              "      <td>employee</td>\n",
              "      <td>0</td>\n",
              "      <td>23341.752</td>\n",
              "      <td>purchase of the house</td>\n",
              "      <td>mature</td>\n",
              "      <td>property</td>\n",
              "    </tr>\n",
              "    <tr>\n",
              "      <th>3</th>\n",
              "      <td>3</td>\n",
              "      <td>4124.747207</td>\n",
              "      <td>32</td>\n",
              "      <td>secondary education</td>\n",
              "      <td>1</td>\n",
              "      <td>married</td>\n",
              "      <td>0</td>\n",
              "      <td>M</td>\n",
              "      <td>employee</td>\n",
              "      <td>0</td>\n",
              "      <td>42820.568</td>\n",
              "      <td>supplementary education</td>\n",
              "      <td>mature</td>\n",
              "      <td>education</td>\n",
              "    </tr>\n",
              "    <tr>\n",
              "      <th>4</th>\n",
              "      <td>0</td>\n",
              "      <td>12410.000000</td>\n",
              "      <td>53</td>\n",
              "      <td>secondary education</td>\n",
              "      <td>1</td>\n",
              "      <td>civil partnership</td>\n",
              "      <td>1</td>\n",
              "      <td>F</td>\n",
              "      <td>retiree</td>\n",
              "      <td>0</td>\n",
              "      <td>25378.572</td>\n",
              "      <td>to have a wedding</td>\n",
              "      <td>old age</td>\n",
              "      <td>wedding</td>\n",
              "    </tr>\n",
              "  </tbody>\n",
              "</table>\n",
              "</div>"
            ],
            "text/plain": [
              "   children  days_employed  dob_years            education  education_id  \\\n",
              "0         1    8437.673028         42    bachelor's degree             0   \n",
              "1         1    4024.803754         36  secondary education             1   \n",
              "2         0    5623.422610         33  secondary education             1   \n",
              "3         3    4124.747207         32  secondary education             1   \n",
              "4         0   12410.000000         53  secondary education             1   \n",
              "\n",
              "       family_status  family_status_id gender income_type  debt  total_income  \\\n",
              "0            married                 0      F    employee     0     40620.102   \n",
              "1            married                 0      F    employee     0     17932.802   \n",
              "2            married                 0      M    employee     0     23341.752   \n",
              "3            married                 0      M    employee     0     42820.568   \n",
              "4  civil partnership                 1      F     retiree     0     25378.572   \n",
              "\n",
              "                   purpose age_category purpose_category  \n",
              "0    purchase of the house       mature         property  \n",
              "1             car purchase       mature              car  \n",
              "2    purchase of the house       mature         property  \n",
              "3  supplementary education       mature        education  \n",
              "4        to have a wedding      old age          wedding  "
            ]
          },
          "execution_count": 82,
          "metadata": {},
          "output_type": "execute_result"
        }
      ],
      "source": [
        "df_new5.head()"
      ]
    },
    {
      "cell_type": "markdown",
      "metadata": {
        "id": "O3mWQ6BH9T5V"
      },
      "source": [
        "Kelompok utama apakah yang dapat Anda identifikasi berdasarkan nilai uniknya?\n",
        "\n",
        "Kita akan mengkategorikan data kita berdasarkan topik ini.\n"
      ]
    },
    {
      "cell_type": "code",
      "execution_count": null,
      "metadata": {
        "id": "2Z38-dlz9T5V"
      },
      "outputs": [],
      "source": [
        "# Mari kita tulis sebuah fungsi untuk mengategorikan data berdasarkan topik umum\n",
        "def replace_debt(value):\n",
        "    if value == 1:\n",
        "        return 'have a loan'\n",
        "    else:\n",
        "        return 'do not have a loan'\n"
      ]
    },
    {
      "cell_type": "code",
      "execution_count": null,
      "metadata": {
        "id": "llk4Z0A49T5V"
      },
      "outputs": [],
      "source": [
        "# Buat kolom yang memuat kategori dan hitung nilainya\n",
        "df_new5['debt_category'] = df_new5['debt'].apply(replace_debt)\n"
      ]
    },
    {
      "cell_type": "markdown",
      "metadata": {
        "id": "Objo4PiZ9T5W"
      },
      "source": [
        "Jika Anda memutuskan untuk mengategorikan data numerik, Anda juga harus membuat kategori untuk data tersebut."
      ]
    },
    {
      "cell_type": "code",
      "execution_count": null,
      "metadata": {
        "id": "mM9L2SPO9T5W",
        "outputId": "85001915-d23b-4f06-b737-37f5025efc8d"
      },
      "outputs": [
        {
          "data": {
            "text/html": [
              "<div>\n",
              "<style scoped>\n",
              "    .dataframe tbody tr th:only-of-type {\n",
              "        vertical-align: middle;\n",
              "    }\n",
              "\n",
              "    .dataframe tbody tr th {\n",
              "        vertical-align: top;\n",
              "    }\n",
              "\n",
              "    .dataframe thead th {\n",
              "        text-align: right;\n",
              "    }\n",
              "</style>\n",
              "<table border=\"1\" class=\"dataframe\">\n",
              "  <thead>\n",
              "    <tr style=\"text-align: right;\">\n",
              "      <th></th>\n",
              "      <th>children</th>\n",
              "      <th>days_employed</th>\n",
              "      <th>dob_years</th>\n",
              "      <th>education</th>\n",
              "      <th>education_id</th>\n",
              "      <th>family_status</th>\n",
              "      <th>family_status_id</th>\n",
              "      <th>gender</th>\n",
              "      <th>income_type</th>\n",
              "      <th>debt</th>\n",
              "      <th>total_income</th>\n",
              "      <th>purpose</th>\n",
              "      <th>age_category</th>\n",
              "      <th>purpose_category</th>\n",
              "      <th>debt_category</th>\n",
              "    </tr>\n",
              "  </thead>\n",
              "  <tbody>\n",
              "    <tr>\n",
              "      <th>0</th>\n",
              "      <td>1</td>\n",
              "      <td>8437.673028</td>\n",
              "      <td>42</td>\n",
              "      <td>bachelor's degree</td>\n",
              "      <td>0</td>\n",
              "      <td>married</td>\n",
              "      <td>0</td>\n",
              "      <td>F</td>\n",
              "      <td>employee</td>\n",
              "      <td>0</td>\n",
              "      <td>40620.102</td>\n",
              "      <td>purchase of the house</td>\n",
              "      <td>mature</td>\n",
              "      <td>property</td>\n",
              "      <td>do not have a loan</td>\n",
              "    </tr>\n",
              "    <tr>\n",
              "      <th>1</th>\n",
              "      <td>1</td>\n",
              "      <td>4024.803754</td>\n",
              "      <td>36</td>\n",
              "      <td>secondary education</td>\n",
              "      <td>1</td>\n",
              "      <td>married</td>\n",
              "      <td>0</td>\n",
              "      <td>F</td>\n",
              "      <td>employee</td>\n",
              "      <td>0</td>\n",
              "      <td>17932.802</td>\n",
              "      <td>car purchase</td>\n",
              "      <td>mature</td>\n",
              "      <td>car</td>\n",
              "      <td>do not have a loan</td>\n",
              "    </tr>\n",
              "    <tr>\n",
              "      <th>2</th>\n",
              "      <td>0</td>\n",
              "      <td>5623.422610</td>\n",
              "      <td>33</td>\n",
              "      <td>secondary education</td>\n",
              "      <td>1</td>\n",
              "      <td>married</td>\n",
              "      <td>0</td>\n",
              "      <td>M</td>\n",
              "      <td>employee</td>\n",
              "      <td>0</td>\n",
              "      <td>23341.752</td>\n",
              "      <td>purchase of the house</td>\n",
              "      <td>mature</td>\n",
              "      <td>property</td>\n",
              "      <td>do not have a loan</td>\n",
              "    </tr>\n",
              "    <tr>\n",
              "      <th>3</th>\n",
              "      <td>3</td>\n",
              "      <td>4124.747207</td>\n",
              "      <td>32</td>\n",
              "      <td>secondary education</td>\n",
              "      <td>1</td>\n",
              "      <td>married</td>\n",
              "      <td>0</td>\n",
              "      <td>M</td>\n",
              "      <td>employee</td>\n",
              "      <td>0</td>\n",
              "      <td>42820.568</td>\n",
              "      <td>supplementary education</td>\n",
              "      <td>mature</td>\n",
              "      <td>education</td>\n",
              "      <td>do not have a loan</td>\n",
              "    </tr>\n",
              "    <tr>\n",
              "      <th>4</th>\n",
              "      <td>0</td>\n",
              "      <td>12410.000000</td>\n",
              "      <td>53</td>\n",
              "      <td>secondary education</td>\n",
              "      <td>1</td>\n",
              "      <td>civil partnership</td>\n",
              "      <td>1</td>\n",
              "      <td>F</td>\n",
              "      <td>retiree</td>\n",
              "      <td>0</td>\n",
              "      <td>25378.572</td>\n",
              "      <td>to have a wedding</td>\n",
              "      <td>old age</td>\n",
              "      <td>wedding</td>\n",
              "      <td>do not have a loan</td>\n",
              "    </tr>\n",
              "  </tbody>\n",
              "</table>\n",
              "</div>"
            ],
            "text/plain": [
              "   children  days_employed  dob_years            education  education_id  \\\n",
              "0         1    8437.673028         42    bachelor's degree             0   \n",
              "1         1    4024.803754         36  secondary education             1   \n",
              "2         0    5623.422610         33  secondary education             1   \n",
              "3         3    4124.747207         32  secondary education             1   \n",
              "4         0   12410.000000         53  secondary education             1   \n",
              "\n",
              "       family_status  family_status_id gender income_type  debt  total_income  \\\n",
              "0            married                 0      F    employee     0     40620.102   \n",
              "1            married                 0      F    employee     0     17932.802   \n",
              "2            married                 0      M    employee     0     23341.752   \n",
              "3            married                 0      M    employee     0     42820.568   \n",
              "4  civil partnership                 1      F     retiree     0     25378.572   \n",
              "\n",
              "                   purpose age_category purpose_category       debt_category  \n",
              "0    purchase of the house       mature         property  do not have a loan  \n",
              "1             car purchase       mature              car  do not have a loan  \n",
              "2    purchase of the house       mature         property  do not have a loan  \n",
              "3  supplementary education       mature        education  do not have a loan  \n",
              "4        to have a wedding      old age          wedding  do not have a loan  "
            ]
          },
          "execution_count": 85,
          "metadata": {},
          "output_type": "execute_result"
        }
      ],
      "source": [
        "# Lihat semua data numerik di kolom yang Anda pilih untuk pengkategorian\n",
        "selected_num_column = ['dob_years', 'days_employed']\n",
        "df_new5.head()"
      ]
    },
    {
      "cell_type": "code",
      "execution_count": null,
      "metadata": {
        "id": "mSIWGOmp9T5W",
        "outputId": "1d6ab33d-9781-4cc8-9e72-99aac755ddaf"
      },
      "outputs": [
        {
          "data": {
            "text/html": [
              "<div>\n",
              "<style scoped>\n",
              "    .dataframe tbody tr th:only-of-type {\n",
              "        vertical-align: middle;\n",
              "    }\n",
              "\n",
              "    .dataframe tbody tr th {\n",
              "        vertical-align: top;\n",
              "    }\n",
              "\n",
              "    .dataframe thead th {\n",
              "        text-align: right;\n",
              "    }\n",
              "</style>\n",
              "<table border=\"1\" class=\"dataframe\">\n",
              "  <thead>\n",
              "    <tr style=\"text-align: right;\">\n",
              "      <th></th>\n",
              "      <th>dob_years</th>\n",
              "      <th>days_employed</th>\n",
              "    </tr>\n",
              "  </thead>\n",
              "  <tbody>\n",
              "    <tr>\n",
              "      <th>count</th>\n",
              "      <td>21352.000000</td>\n",
              "      <td>21352.000000</td>\n",
              "    </tr>\n",
              "    <tr>\n",
              "      <th>mean</th>\n",
              "      <td>43.476817</td>\n",
              "      <td>4627.389144</td>\n",
              "    </tr>\n",
              "    <tr>\n",
              "      <th>std</th>\n",
              "      <td>12.241877</td>\n",
              "      <td>5270.861940</td>\n",
              "    </tr>\n",
              "    <tr>\n",
              "      <th>min</th>\n",
              "      <td>19.000000</td>\n",
              "      <td>24.141633</td>\n",
              "    </tr>\n",
              "    <tr>\n",
              "      <th>25%</th>\n",
              "      <td>33.000000</td>\n",
              "      <td>1023.725461</td>\n",
              "    </tr>\n",
              "    <tr>\n",
              "      <th>50%</th>\n",
              "      <td>43.000000</td>\n",
              "      <td>2043.850216</td>\n",
              "    </tr>\n",
              "    <tr>\n",
              "      <th>75%</th>\n",
              "      <td>53.000000</td>\n",
              "      <td>5791.623325</td>\n",
              "    </tr>\n",
              "    <tr>\n",
              "      <th>max</th>\n",
              "      <td>75.000000</td>\n",
              "      <td>20075.000000</td>\n",
              "    </tr>\n",
              "  </tbody>\n",
              "</table>\n",
              "</div>"
            ],
            "text/plain": [
              "          dob_years  days_employed\n",
              "count  21352.000000   21352.000000\n",
              "mean      43.476817    4627.389144\n",
              "std       12.241877    5270.861940\n",
              "min       19.000000      24.141633\n",
              "25%       33.000000    1023.725461\n",
              "50%       43.000000    2043.850216\n",
              "75%       53.000000    5791.623325\n",
              "max       75.000000   20075.000000"
            ]
          },
          "execution_count": 86,
          "metadata": {},
          "output_type": "execute_result"
        }
      ],
      "source": [
        "# Dapatkan kesimpulan statistik untuk kolomnya\n",
        "df_new5[selected_num_column].describe()\n"
      ]
    },
    {
      "cell_type": "markdown",
      "metadata": {
        "id": "_8TQAMOJ9T5W"
      },
      "source": [
        "Tentukan rentang apa yang akan Anda gunakan untuk pengelompokan dan jelaskan alasannya."
      ]
    },
    {
      "cell_type": "code",
      "execution_count": null,
      "metadata": {
        "id": "Zo6FVkXy9T5W"
      },
      "outputs": [],
      "source": [
        "# Buat fungsi yang melakukan pengkategorian menjadi kelompok numerik yang berbeda berdasarkan rentang\n",
        "def income_level(income):\n",
        "    if (income > 5000) and (income <= 10000):\n",
        "        return 'low income'\n",
        "    if (income > 10000) and (income <= 15000):\n",
        "        return 'lower middle income'\n",
        "    if (income > 20000) and (income <= 25000):\n",
        "        return 'upper middle income'\n",
        "    if (income > 25000) and (income <= 50000):\n",
        "        return 'high income'\n",
        "    if income > 50000:\n",
        "        return 'unknown'\n"
      ]
    },
    {
      "cell_type": "code",
      "execution_count": null,
      "metadata": {
        "id": "HeWZwpu09T5X",
        "outputId": "9e0ae172-97d2-454f-966a-b6ddf3a08c87"
      },
      "outputs": [
        {
          "data": {
            "text/html": [
              "<div>\n",
              "<style scoped>\n",
              "    .dataframe tbody tr th:only-of-type {\n",
              "        vertical-align: middle;\n",
              "    }\n",
              "\n",
              "    .dataframe tbody tr th {\n",
              "        vertical-align: top;\n",
              "    }\n",
              "\n",
              "    .dataframe thead th {\n",
              "        text-align: right;\n",
              "    }\n",
              "</style>\n",
              "<table border=\"1\" class=\"dataframe\">\n",
              "  <thead>\n",
              "    <tr style=\"text-align: right;\">\n",
              "      <th></th>\n",
              "      <th>children</th>\n",
              "      <th>days_employed</th>\n",
              "      <th>dob_years</th>\n",
              "      <th>education</th>\n",
              "      <th>education_id</th>\n",
              "      <th>family_status</th>\n",
              "      <th>family_status_id</th>\n",
              "      <th>gender</th>\n",
              "      <th>income_type</th>\n",
              "      <th>debt</th>\n",
              "      <th>total_income</th>\n",
              "      <th>purpose</th>\n",
              "      <th>age_category</th>\n",
              "      <th>purpose_category</th>\n",
              "      <th>debt_category</th>\n",
              "      <th>income_level</th>\n",
              "    </tr>\n",
              "  </thead>\n",
              "  <tbody>\n",
              "    <tr>\n",
              "      <th>0</th>\n",
              "      <td>1</td>\n",
              "      <td>8437.673028</td>\n",
              "      <td>42</td>\n",
              "      <td>bachelor's degree</td>\n",
              "      <td>0</td>\n",
              "      <td>married</td>\n",
              "      <td>0</td>\n",
              "      <td>F</td>\n",
              "      <td>employee</td>\n",
              "      <td>0</td>\n",
              "      <td>40620.102</td>\n",
              "      <td>purchase of the house</td>\n",
              "      <td>mature</td>\n",
              "      <td>property</td>\n",
              "      <td>do not have a loan</td>\n",
              "      <td>high income</td>\n",
              "    </tr>\n",
              "    <tr>\n",
              "      <th>1</th>\n",
              "      <td>1</td>\n",
              "      <td>4024.803754</td>\n",
              "      <td>36</td>\n",
              "      <td>secondary education</td>\n",
              "      <td>1</td>\n",
              "      <td>married</td>\n",
              "      <td>0</td>\n",
              "      <td>F</td>\n",
              "      <td>employee</td>\n",
              "      <td>0</td>\n",
              "      <td>17932.802</td>\n",
              "      <td>car purchase</td>\n",
              "      <td>mature</td>\n",
              "      <td>car</td>\n",
              "      <td>do not have a loan</td>\n",
              "      <td>None</td>\n",
              "    </tr>\n",
              "    <tr>\n",
              "      <th>2</th>\n",
              "      <td>0</td>\n",
              "      <td>5623.422610</td>\n",
              "      <td>33</td>\n",
              "      <td>secondary education</td>\n",
              "      <td>1</td>\n",
              "      <td>married</td>\n",
              "      <td>0</td>\n",
              "      <td>M</td>\n",
              "      <td>employee</td>\n",
              "      <td>0</td>\n",
              "      <td>23341.752</td>\n",
              "      <td>purchase of the house</td>\n",
              "      <td>mature</td>\n",
              "      <td>property</td>\n",
              "      <td>do not have a loan</td>\n",
              "      <td>upper middle income</td>\n",
              "    </tr>\n",
              "    <tr>\n",
              "      <th>3</th>\n",
              "      <td>3</td>\n",
              "      <td>4124.747207</td>\n",
              "      <td>32</td>\n",
              "      <td>secondary education</td>\n",
              "      <td>1</td>\n",
              "      <td>married</td>\n",
              "      <td>0</td>\n",
              "      <td>M</td>\n",
              "      <td>employee</td>\n",
              "      <td>0</td>\n",
              "      <td>42820.568</td>\n",
              "      <td>supplementary education</td>\n",
              "      <td>mature</td>\n",
              "      <td>education</td>\n",
              "      <td>do not have a loan</td>\n",
              "      <td>high income</td>\n",
              "    </tr>\n",
              "    <tr>\n",
              "      <th>4</th>\n",
              "      <td>0</td>\n",
              "      <td>12410.000000</td>\n",
              "      <td>53</td>\n",
              "      <td>secondary education</td>\n",
              "      <td>1</td>\n",
              "      <td>civil partnership</td>\n",
              "      <td>1</td>\n",
              "      <td>F</td>\n",
              "      <td>retiree</td>\n",
              "      <td>0</td>\n",
              "      <td>25378.572</td>\n",
              "      <td>to have a wedding</td>\n",
              "      <td>old age</td>\n",
              "      <td>wedding</td>\n",
              "      <td>do not have a loan</td>\n",
              "      <td>high income</td>\n",
              "    </tr>\n",
              "  </tbody>\n",
              "</table>\n",
              "</div>"
            ],
            "text/plain": [
              "   children  days_employed  dob_years            education  education_id  \\\n",
              "0         1    8437.673028         42    bachelor's degree             0   \n",
              "1         1    4024.803754         36  secondary education             1   \n",
              "2         0    5623.422610         33  secondary education             1   \n",
              "3         3    4124.747207         32  secondary education             1   \n",
              "4         0   12410.000000         53  secondary education             1   \n",
              "\n",
              "       family_status  family_status_id gender income_type  debt  total_income  \\\n",
              "0            married                 0      F    employee     0     40620.102   \n",
              "1            married                 0      F    employee     0     17932.802   \n",
              "2            married                 0      M    employee     0     23341.752   \n",
              "3            married                 0      M    employee     0     42820.568   \n",
              "4  civil partnership                 1      F     retiree     0     25378.572   \n",
              "\n",
              "                   purpose age_category purpose_category       debt_category  \\\n",
              "0    purchase of the house       mature         property  do not have a loan   \n",
              "1             car purchase       mature              car  do not have a loan   \n",
              "2    purchase of the house       mature         property  do not have a loan   \n",
              "3  supplementary education       mature        education  do not have a loan   \n",
              "4        to have a wedding      old age          wedding  do not have a loan   \n",
              "\n",
              "          income_level  \n",
              "0          high income  \n",
              "1                 None  \n",
              "2  upper middle income  \n",
              "3          high income  \n",
              "4          high income  "
            ]
          },
          "execution_count": 88,
          "metadata": {},
          "output_type": "execute_result"
        }
      ],
      "source": [
        "# Buat kolom yang memuat kategori\n",
        "df_new5['income_level'] = df_new5['total_income'].apply(income_level)\n",
        "df_new5.head()"
      ]
    },
    {
      "cell_type": "code",
      "execution_count": null,
      "metadata": {
        "scrolled": true,
        "id": "sZ7DSpF09T5X",
        "outputId": "2e64f6b7-338e-4e94-8717-5c8b46df25ab"
      },
      "outputs": [
        {
          "data": {
            "text/plain": [
              "high income            7241\n",
              "upper middle income    5461\n",
              "lower middle income    2802\n",
              "unknown                1318\n",
              "low income              895\n",
              "Name: income_level, dtype: int64"
            ]
          },
          "execution_count": 89,
          "metadata": {},
          "output_type": "execute_result"
        }
      ],
      "source": [
        "df_new5['income_level'].value_counts()"
      ]
    },
    {
      "cell_type": "code",
      "execution_count": null,
      "metadata": {
        "scrolled": true,
        "id": "VcQiQwWF9T5X",
        "outputId": "89ca5c44-a98d-408e-c8cd-5ad526ad8b45"
      },
      "outputs": [
        {
          "name": "stdout",
          "output_type": "stream",
          "text": [
            "secondary education    15108\n",
            "bachelor's degree       5215\n",
            "some college             741\n",
            "primary education        282\n",
            "graduate degree            6\n",
            "Name: education, dtype: int64\n",
            "\n",
            "F    14102\n",
            "M     7250\n",
            "Name: gender, dtype: int64\n",
            "\n",
            "married              12290\n",
            "civil partnership     4129\n",
            "unmarried             2794\n",
            "divorced              1185\n",
            "widow / widower        954\n",
            "Name: family_status, dtype: int64\n",
            "\n"
          ]
        }
      ],
      "source": [
        "# Hitung setiap nilai kategori untuk melihat pendistribusiannya\n",
        "for i in selected_column:\n",
        "    print(df_new5[i].value_counts())\n",
        "    print()"
      ]
    },
    {
      "cell_type": "code",
      "execution_count": null,
      "metadata": {
        "id": "6yBT0YZe9T5X",
        "outputId": "94b63258-9a91-4e95-846d-0353f14bb2a1"
      },
      "outputs": [
        {
          "data": {
            "text/plain": [
              "0     14021\n",
              "1      4839\n",
              "2      2039\n",
              "3       328\n",
              "20       75\n",
              "4        41\n",
              "5         9\n",
              "Name: children, dtype: int64"
            ]
          },
          "execution_count": 91,
          "metadata": {},
          "output_type": "execute_result"
        }
      ],
      "source": [
        "df_new5['children'].value_counts()"
      ]
    },
    {
      "cell_type": "code",
      "execution_count": null,
      "metadata": {
        "id": "WcQQGG3o9T5X",
        "outputId": "6ee9fff7-2fd0-4589-e8af-b9c631c74fde"
      },
      "outputs": [
        {
          "data": {
            "text/plain": [
              "secondary education    15108\n",
              "bachelor's degree       5215\n",
              "some college             741\n",
              "primary education        282\n",
              "graduate degree            6\n",
              "Name: education, dtype: int64"
            ]
          },
          "execution_count": 92,
          "metadata": {},
          "output_type": "execute_result"
        }
      ],
      "source": [
        "df_new5['education'].value_counts()"
      ]
    },
    {
      "cell_type": "markdown",
      "metadata": {
        "id": "-U7954aN9T5Y"
      },
      "source": [
        "## Memeriksa hipotesis\n"
      ]
    },
    {
      "cell_type": "markdown",
      "metadata": {
        "id": "GErc0qkC9T5Y"
      },
      "source": [
        "**Apakah terdapat korelasi antara memiliki anak dengan melakukan pelunasan tepat waktu?**"
      ]
    },
    {
      "cell_type": "markdown",
      "metadata": {
        "id": "EXMF11zh9T5Y"
      },
      "source": [
        "terdapat korelasi antara memiliki anak dengan pelunasan pinjaman tepat waktu"
      ]
    },
    {
      "cell_type": "code",
      "execution_count": null,
      "metadata": {
        "id": "PwNGYVfD9T5Y",
        "outputId": "473b3b14-8562-4d43-8ca1-b7e2c58164ca"
      },
      "outputs": [
        {
          "name": "stdout",
          "output_type": "stream",
          "text": [
            "       children  debt\n",
            "0             1     0\n",
            "1             1     0\n",
            "2             0     0\n",
            "3             3     0\n",
            "4             0     0\n",
            "...         ...   ...\n",
            "21347         1     0\n",
            "21348         0     0\n",
            "21349         1     1\n",
            "21350         3     1\n",
            "21351         2     0\n",
            "\n",
            "[21352 rows x 2 columns]\n"
          ]
        }
      ],
      "source": [
        "# Periksa data anak dan data pelunasan tepat waktu\n",
        "print(df_new5[['children','debt']])\n"
      ]
    },
    {
      "cell_type": "code",
      "execution_count": null,
      "metadata": {
        "id": "L34UYCRr9T5Y",
        "outputId": "b6d935fa-fd4f-434d-dc8d-54b8654ee892"
      },
      "outputs": [
        {
          "data": {
            "text/html": [
              "<div>\n",
              "<style scoped>\n",
              "    .dataframe tbody tr th:only-of-type {\n",
              "        vertical-align: middle;\n",
              "    }\n",
              "\n",
              "    .dataframe tbody tr th {\n",
              "        vertical-align: top;\n",
              "    }\n",
              "\n",
              "    .dataframe thead th {\n",
              "        text-align: right;\n",
              "    }\n",
              "</style>\n",
              "<table border=\"1\" class=\"dataframe\">\n",
              "  <thead>\n",
              "    <tr style=\"text-align: right;\">\n",
              "      <th>debt</th>\n",
              "      <th>children</th>\n",
              "      <th>0</th>\n",
              "      <th>1</th>\n",
              "      <th>percentage</th>\n",
              "    </tr>\n",
              "  </thead>\n",
              "  <tbody>\n",
              "    <tr>\n",
              "      <th>0</th>\n",
              "      <td>0</td>\n",
              "      <td>12963.0</td>\n",
              "      <td>1058.0</td>\n",
              "      <td>7.5</td>\n",
              "    </tr>\n",
              "    <tr>\n",
              "      <th>1</th>\n",
              "      <td>1</td>\n",
              "      <td>4397.0</td>\n",
              "      <td>442.0</td>\n",
              "      <td>9.1</td>\n",
              "    </tr>\n",
              "    <tr>\n",
              "      <th>2</th>\n",
              "      <td>2</td>\n",
              "      <td>1845.0</td>\n",
              "      <td>194.0</td>\n",
              "      <td>9.5</td>\n",
              "    </tr>\n",
              "    <tr>\n",
              "      <th>3</th>\n",
              "      <td>3</td>\n",
              "      <td>301.0</td>\n",
              "      <td>27.0</td>\n",
              "      <td>8.2</td>\n",
              "    </tr>\n",
              "    <tr>\n",
              "      <th>4</th>\n",
              "      <td>4</td>\n",
              "      <td>37.0</td>\n",
              "      <td>4.0</td>\n",
              "      <td>9.8</td>\n",
              "    </tr>\n",
              "    <tr>\n",
              "      <th>5</th>\n",
              "      <td>5</td>\n",
              "      <td>9.0</td>\n",
              "      <td>NaN</td>\n",
              "      <td>NaN</td>\n",
              "    </tr>\n",
              "    <tr>\n",
              "      <th>6</th>\n",
              "      <td>20</td>\n",
              "      <td>67.0</td>\n",
              "      <td>8.0</td>\n",
              "      <td>10.7</td>\n",
              "    </tr>\n",
              "  </tbody>\n",
              "</table>\n",
              "</div>"
            ],
            "text/plain": [
              "debt  children        0       1  percentage\n",
              "0            0  12963.0  1058.0         7.5\n",
              "1            1   4397.0   442.0         9.1\n",
              "2            2   1845.0   194.0         9.5\n",
              "3            3    301.0    27.0         8.2\n",
              "4            4     37.0     4.0         9.8\n",
              "5            5      9.0     NaN         NaN\n",
              "6           20     67.0     8.0        10.7"
            ]
          },
          "execution_count": 94,
          "metadata": {},
          "output_type": "execute_result"
        }
      ],
      "source": [
        "# Hitung gagal bayar berdasarkan jumlah anak\n",
        "pivot_children = pd.pivot_table(df_new5, index='children', columns='debt', values='education', aggfunc='count')\n",
        "pivot_children.reset_index(inplace=True)\n",
        "pivot_children['percentage'] = round(pivot_children[1]/(pivot_children[0]+pivot_children[1])*100,1)\n",
        "pivot_children\n"
      ]
    },
    {
      "cell_type": "markdown",
      "metadata": {
        "id": "tVziv9Es9T5Z"
      },
      "source": [
        "**Kesimpulan**\n",
        "\n",
        "semakin banyak anak semakin tinggi persentase keterlambatan atau gagal bayar dalam pelunasan pinjaman tepat waktu, karena didasari kebutuhan untuk anak.\n"
      ]
    },
    {
      "cell_type": "markdown",
      "metadata": {
        "id": "hGuc71XV9T5a"
      },
      "source": [
        "**Apakah terdapat korelasi antara status keluarga dengan pelunasan tepat waktu?**"
      ]
    },
    {
      "cell_type": "markdown",
      "metadata": {
        "id": "kLG5fAH59T5a"
      },
      "source": [
        "terdapat korelasi antara status keluarga dengan pelunasan tepat waktu"
      ]
    },
    {
      "cell_type": "code",
      "execution_count": null,
      "metadata": {
        "id": "x9nlKVRZ9T5b",
        "outputId": "cddec2bc-319e-45d3-f1ca-bd8484fedf17"
      },
      "outputs": [
        {
          "name": "stdout",
          "output_type": "stream",
          "text": [
            "           family_status  debt\n",
            "0                married     0\n",
            "1                married     0\n",
            "2                married     0\n",
            "3                married     0\n",
            "4      civil partnership     0\n",
            "...                  ...   ...\n",
            "21347  civil partnership     0\n",
            "21348            married     0\n",
            "21349  civil partnership     1\n",
            "21350            married     1\n",
            "21351            married     0\n",
            "\n",
            "[21352 rows x 2 columns]\n"
          ]
        }
      ],
      "source": [
        "# Periksa data status keluarga dan pelunasan tepat waktu\n",
        "print(df_new5[['family_status','debt']])\n"
      ]
    },
    {
      "cell_type": "code",
      "execution_count": null,
      "metadata": {
        "id": "htC_-Ti49T5b",
        "outputId": "5bdcf590-d29d-4df9-9785-71642dc99198"
      },
      "outputs": [
        {
          "data": {
            "text/html": [
              "<div>\n",
              "<style scoped>\n",
              "    .dataframe tbody tr th:only-of-type {\n",
              "        vertical-align: middle;\n",
              "    }\n",
              "\n",
              "    .dataframe tbody tr th {\n",
              "        vertical-align: top;\n",
              "    }\n",
              "\n",
              "    .dataframe thead th {\n",
              "        text-align: right;\n",
              "    }\n",
              "</style>\n",
              "<table border=\"1\" class=\"dataframe\">\n",
              "  <thead>\n",
              "    <tr style=\"text-align: right;\">\n",
              "      <th>debt</th>\n",
              "      <th>family_status</th>\n",
              "      <th>0</th>\n",
              "      <th>1</th>\n",
              "      <th>percentage</th>\n",
              "    </tr>\n",
              "  </thead>\n",
              "  <tbody>\n",
              "    <tr>\n",
              "      <th>0</th>\n",
              "      <td>civil partnership</td>\n",
              "      <td>3743</td>\n",
              "      <td>386</td>\n",
              "      <td>9.3</td>\n",
              "    </tr>\n",
              "    <tr>\n",
              "      <th>1</th>\n",
              "      <td>divorced</td>\n",
              "      <td>1100</td>\n",
              "      <td>85</td>\n",
              "      <td>7.2</td>\n",
              "    </tr>\n",
              "    <tr>\n",
              "      <th>2</th>\n",
              "      <td>married</td>\n",
              "      <td>11363</td>\n",
              "      <td>927</td>\n",
              "      <td>7.5</td>\n",
              "    </tr>\n",
              "    <tr>\n",
              "      <th>3</th>\n",
              "      <td>unmarried</td>\n",
              "      <td>2521</td>\n",
              "      <td>273</td>\n",
              "      <td>9.8</td>\n",
              "    </tr>\n",
              "    <tr>\n",
              "      <th>4</th>\n",
              "      <td>widow / widower</td>\n",
              "      <td>892</td>\n",
              "      <td>62</td>\n",
              "      <td>6.5</td>\n",
              "    </tr>\n",
              "  </tbody>\n",
              "</table>\n",
              "</div>"
            ],
            "text/plain": [
              "debt      family_status      0    1  percentage\n",
              "0     civil partnership   3743  386         9.3\n",
              "1              divorced   1100   85         7.2\n",
              "2               married  11363  927         7.5\n",
              "3             unmarried   2521  273         9.8\n",
              "4       widow / widower    892   62         6.5"
            ]
          },
          "execution_count": 96,
          "metadata": {},
          "output_type": "execute_result"
        }
      ],
      "source": [
        "# Hitung gagal bayar berdasarkan status keluarga\n",
        "pivot_family_status = pd.pivot_table(df_new5, index='family_status', columns='debt', values='education', aggfunc='count')\n",
        "pivot_family_status.reset_index(inplace=True)\n",
        "pivot_family_status['percentage'] = round(pivot_family_status[1]/(pivot_family_status[0]+pivot_family_status[1])*100,1)\n",
        "pivot_family_status"
      ]
    },
    {
      "cell_type": "markdown",
      "metadata": {
        "id": "JRRXJDTz9T5b"
      },
      "source": [
        "**Kesimpulan**\n",
        "\n",
        "status keluarga seseorang berpengaruh secara signifikan terhadap motivasi dalam melunasi pinjaman tepat waktu karena didasari oleh kebutuhan antara yang telah berkeluarga dan belum.\n"
      ]
    },
    {
      "cell_type": "markdown",
      "metadata": {
        "id": "iKuYOfBT9T5b"
      },
      "source": [
        "**Apakah terdapat korelasi antara tingkat pendapatan dengan membayar kembali tepat waktu?**"
      ]
    },
    {
      "cell_type": "markdown",
      "metadata": {
        "id": "EJtDXMSq9T5c"
      },
      "source": [
        "tidak terdapat korelasi antara tingkat pendapatan dengan membayar kembali tepat waktu"
      ]
    },
    {
      "cell_type": "code",
      "execution_count": null,
      "metadata": {
        "id": "hyj7BjPX9T5c",
        "outputId": "3021cb32-078d-4282-a732-2deaa72fe994"
      },
      "outputs": [
        {
          "name": "stdout",
          "output_type": "stream",
          "text": [
            "              income_level  debt\n",
            "0              high income     0\n",
            "1                     None     0\n",
            "2      upper middle income     0\n",
            "3              high income     0\n",
            "4              high income     0\n",
            "...                    ...   ...\n",
            "21347          high income     0\n",
            "21348  upper middle income     0\n",
            "21349  lower middle income     1\n",
            "21350          high income     1\n",
            "21351  lower middle income     0\n",
            "\n",
            "[21352 rows x 2 columns]\n"
          ]
        }
      ],
      "source": [
        "# Periksa data tingkat pendapatan dan pelunasan tepat waktu\n",
        "print(df_new5[['income_level','debt']])\n"
      ]
    },
    {
      "cell_type": "code",
      "execution_count": null,
      "metadata": {
        "id": "kjBBPa819T5c",
        "outputId": "a63a5340-4252-4214-c4d7-0eab7bd19c07"
      },
      "outputs": [
        {
          "data": {
            "text/html": [
              "<div>\n",
              "<style scoped>\n",
              "    .dataframe tbody tr th:only-of-type {\n",
              "        vertical-align: middle;\n",
              "    }\n",
              "\n",
              "    .dataframe tbody tr th {\n",
              "        vertical-align: top;\n",
              "    }\n",
              "\n",
              "    .dataframe thead th {\n",
              "        text-align: right;\n",
              "    }\n",
              "</style>\n",
              "<table border=\"1\" class=\"dataframe\">\n",
              "  <thead>\n",
              "    <tr style=\"text-align: right;\">\n",
              "      <th>debt</th>\n",
              "      <th>income_level</th>\n",
              "      <th>0</th>\n",
              "      <th>1</th>\n",
              "      <th>percentage</th>\n",
              "    </tr>\n",
              "  </thead>\n",
              "  <tbody>\n",
              "    <tr>\n",
              "      <th>0</th>\n",
              "      <td>high income</td>\n",
              "      <td>6661</td>\n",
              "      <td>580</td>\n",
              "      <td>8.0</td>\n",
              "    </tr>\n",
              "    <tr>\n",
              "      <th>1</th>\n",
              "      <td>low income</td>\n",
              "      <td>839</td>\n",
              "      <td>56</td>\n",
              "      <td>6.3</td>\n",
              "    </tr>\n",
              "    <tr>\n",
              "      <th>2</th>\n",
              "      <td>lower middle income</td>\n",
              "      <td>2563</td>\n",
              "      <td>239</td>\n",
              "      <td>8.5</td>\n",
              "    </tr>\n",
              "    <tr>\n",
              "      <th>3</th>\n",
              "      <td>unknown</td>\n",
              "      <td>1226</td>\n",
              "      <td>92</td>\n",
              "      <td>7.0</td>\n",
              "    </tr>\n",
              "    <tr>\n",
              "      <th>4</th>\n",
              "      <td>upper middle income</td>\n",
              "      <td>5005</td>\n",
              "      <td>456</td>\n",
              "      <td>8.4</td>\n",
              "    </tr>\n",
              "  </tbody>\n",
              "</table>\n",
              "</div>"
            ],
            "text/plain": [
              "debt         income_level     0    1  percentage\n",
              "0             high income  6661  580         8.0\n",
              "1              low income   839   56         6.3\n",
              "2     lower middle income  2563  239         8.5\n",
              "3                 unknown  1226   92         7.0\n",
              "4     upper middle income  5005  456         8.4"
            ]
          },
          "execution_count": 98,
          "metadata": {},
          "output_type": "execute_result"
        }
      ],
      "source": [
        "# Hitung gagal bayar berdasarkan tingkat pendapatan\n",
        "pivot_income_level = pd.pivot_table(df_new5, index='income_level', columns='debt', values='education', aggfunc='count')\n",
        "pivot_income_level.reset_index(inplace=True)\n",
        "pivot_income_level['percentage'] = round(pivot_income_level[1]/(pivot_income_level[0]+pivot_income_level[1])*100,1)\n",
        "pivot_income_level\n"
      ]
    },
    {
      "cell_type": "markdown",
      "metadata": {
        "id": "fjK8mBrd9T5c"
      },
      "source": [
        "**Kesimpulan**\n",
        "\n",
        "tingkat pendapatan tidak berpengaruh secara signifikan terhadap dalam membayar pinjaman, ini dibuktikan orang yang ada pada level pendapatan menengah ke bawah paling tinggi mengalami kemungkinan gagal bayar, sedangkan orang pada level pendapatan paling rendah memiliki tingkat kemungkinan gagal bayar terendah diantara semuanya."
      ]
    },
    {
      "cell_type": "markdown",
      "metadata": {
        "id": "op6qDgNh9T5c"
      },
      "source": [
        "**Bagaimana tujuan kredit memengaruhi tingkat gagal bayar?**"
      ]
    },
    {
      "cell_type": "markdown",
      "metadata": {
        "id": "tbnOc6Q-9T5c"
      },
      "source": [
        "tujuan kredit sangat mempengaruhi tingkat gagal bayar dikarenakan tujuannya terkadang tidak sesuai antara kondisi pendapatan dan keinginan."
      ]
    },
    {
      "cell_type": "code",
      "execution_count": null,
      "metadata": {
        "id": "TSRF1mSs9T5d",
        "outputId": "f037d654-bf11-48ea-9930-dccbeb40e3ef"
      },
      "outputs": [
        {
          "data": {
            "text/plain": [
              "array(['to buy house', 'to buy car', 'to get education',\n",
              "       'to have wedding', 'to buy real estate', 'to buy property'],\n",
              "      dtype=object)"
            ]
          },
          "execution_count": 99,
          "metadata": {},
          "output_type": "execute_result"
        }
      ],
      "source": [
        "# Periksa persentase tingkat gagal bayar untuk setiap tujuan kredit dan lakukan penganalisisan\n",
        "df_new5.purpose.unique()\n",
        "df_new5.loc[df_new5['purpose'].isin(['buy car', 'car purchase', 'buying a second-hand car', 'cars', 'car', 'to own a car', 'second-hand car purchase', 'buying my own car', 'purchase of a car', 'to buy a car' ]), 'purpose'] = 'to buy car'\n",
        "df_new5.loc[df_new5['purpose'].isin(['to have a wedding', 'having a wedding', 'wedding ceremony']), 'purpose'] = 'to have wedding'\n",
        "df_new5.loc[df_new5['purpose'].isin(['buy real estate', 'buy commercial real estate', 'buy residential real estate', 'transactions with commercial real estate', 'building a real estate', 'transactions with my real estate', 'real estate transactions']), 'purpose'] = 'to buy real estate'\n",
        "df_new5.loc[df_new5['purpose'].isin(['going to university', 'university education', 'profile education', 'supplementary education', 'to become educated', 'getting an education', 'to get a supplementary education', 'getting higher education', 'education']), 'purpose'] = 'to get education'\n",
        "df_new5.loc[df_new5['purpose'].isin(['purchase of the house', 'housing transactions', 'purchase of the house for my family', 'housing', 'purchase of my own house', 'housing renovation']), 'purpose'] = 'to buy house'\n",
        "df_new5.loc[df_new5['purpose'].isin(['construction of own property', 'property', 'building a property', 'buying property for renting out']), 'purpose'] = 'to buy property'\n",
        "\n",
        "df_new5.purpose.unique()\n"
      ]
    },
    {
      "cell_type": "code",
      "execution_count": null,
      "metadata": {
        "id": "HrNvMcz59T5d",
        "outputId": "d8b1c99d-7028-4b70-ba63-6f4332cf6004"
      },
      "outputs": [
        {
          "name": "stdout",
          "output_type": "stream",
          "text": [
            "                purpose  debt\n",
            "0          to buy house     0\n",
            "1            to buy car     0\n",
            "2          to buy house     0\n",
            "3      to get education     0\n",
            "4       to have wedding     0\n",
            "...                 ...   ...\n",
            "21347      to buy house     0\n",
            "21348        to buy car     0\n",
            "21349   to buy property     1\n",
            "21350        to buy car     1\n",
            "21351        to buy car     0\n",
            "\n",
            "[21352 rows x 2 columns]\n"
          ]
        }
      ],
      "source": [
        "print(df_new5[['purpose','debt']])"
      ]
    },
    {
      "cell_type": "code",
      "execution_count": null,
      "metadata": {
        "id": "5y7AyLWU9T5d",
        "outputId": "f2dbc341-8b21-4a2d-90b1-331d44f1d16d"
      },
      "outputs": [
        {
          "data": {
            "text/html": [
              "<div>\n",
              "<style scoped>\n",
              "    .dataframe tbody tr th:only-of-type {\n",
              "        vertical-align: middle;\n",
              "    }\n",
              "\n",
              "    .dataframe tbody tr th {\n",
              "        vertical-align: top;\n",
              "    }\n",
              "\n",
              "    .dataframe thead th {\n",
              "        text-align: right;\n",
              "    }\n",
              "</style>\n",
              "<table border=\"1\" class=\"dataframe\">\n",
              "  <thead>\n",
              "    <tr style=\"text-align: right;\">\n",
              "      <th>debt</th>\n",
              "      <th>purpose</th>\n",
              "      <th>0</th>\n",
              "      <th>1</th>\n",
              "      <th>percentage</th>\n",
              "    </tr>\n",
              "  </thead>\n",
              "  <tbody>\n",
              "    <tr>\n",
              "      <th>0</th>\n",
              "      <td>to buy car</td>\n",
              "      <td>3884</td>\n",
              "      <td>400</td>\n",
              "      <td>9.3</td>\n",
              "    </tr>\n",
              "    <tr>\n",
              "      <th>1</th>\n",
              "      <td>to buy house</td>\n",
              "      <td>3533</td>\n",
              "      <td>254</td>\n",
              "      <td>6.7</td>\n",
              "    </tr>\n",
              "    <tr>\n",
              "      <th>2</th>\n",
              "      <td>to buy property</td>\n",
              "      <td>2341</td>\n",
              "      <td>189</td>\n",
              "      <td>7.5</td>\n",
              "    </tr>\n",
              "    <tr>\n",
              "      <th>3</th>\n",
              "      <td>to buy real estate</td>\n",
              "      <td>4110</td>\n",
              "      <td>336</td>\n",
              "      <td>7.6</td>\n",
              "    </tr>\n",
              "    <tr>\n",
              "      <th>4</th>\n",
              "      <td>to get education</td>\n",
              "      <td>3625</td>\n",
              "      <td>370</td>\n",
              "      <td>9.3</td>\n",
              "    </tr>\n",
              "    <tr>\n",
              "      <th>5</th>\n",
              "      <td>to have wedding</td>\n",
              "      <td>2126</td>\n",
              "      <td>184</td>\n",
              "      <td>8.0</td>\n",
              "    </tr>\n",
              "  </tbody>\n",
              "</table>\n",
              "</div>"
            ],
            "text/plain": [
              "debt             purpose     0    1  percentage\n",
              "0             to buy car  3884  400         9.3\n",
              "1           to buy house  3533  254         6.7\n",
              "2        to buy property  2341  189         7.5\n",
              "3     to buy real estate  4110  336         7.6\n",
              "4       to get education  3625  370         9.3\n",
              "5        to have wedding  2126  184         8.0"
            ]
          },
          "execution_count": 101,
          "metadata": {},
          "output_type": "execute_result"
        }
      ],
      "source": [
        "pivot_purpose = pd.pivot_table(df_new5, index='purpose', columns='debt', values='education', aggfunc='count')\n",
        "pivot_purpose.reset_index(inplace=True)\n",
        "pivot_purpose['percentage'] = round(pivot_purpose[1]/(pivot_purpose[0]+pivot_purpose[1])*100,1)\n",
        "pivot_purpose"
      ]
    },
    {
      "cell_type": "markdown",
      "metadata": {
        "id": "k8q1A-Xp9T5d"
      },
      "source": [
        "**Kesimpulan**\n",
        "\n",
        "tujuan kredit yang mempengaruhi tingkat gagal bayar tertinggi adalah untuk membeli mobil dan yang terendah adalah untuk membeli rumah\n"
      ]
    },
    {
      "cell_type": "markdown",
      "metadata": {
        "id": "IkgV_jLz9T5e"
      },
      "source": [
        "# Kesimpulan umum \n",
        "\n",
        "\n"
      ]
    },
    {
      "cell_type": "markdown",
      "metadata": {
        "id": "FSpOWP-P9T5e"
      },
      "source": [
        "Setelah melakukan analisa resiko gagal bayar peminjaman terdapat beberapa kesimpulan: \n",
        "1.\tBahwa terdapat korelasi status perkawinan, jumlah anak yang dimiliki seorang nasabah terhadap probabilitas gagal bayar dalam pelunasan pinjaman. Status keluarga seseorang berpengaruh secara signifikan terhadap motivasi dalam melunasi pinjaman tepat waktu, serta semakin banyak anak semakin tinggi persentase keterlambatan atau gagal bayar dalam pelunasan pinjaman tepat waktu, karena didasari kebutuhan untuk anak. Sedangkan tingkat pendapatan tidak berpengaruh secara signifikan terhadap dalam membayar pinjaman, ini dibuktikan nasabah yang ada pada level pendapatan menengah ke bawah paling tinggi mengalami kemungkinan gagal bayar, sedangkan nasabah pada level pendapatan paling rendah memiliki tingkat kemungkinan gagal bayar terendah diantara semuanya. Tujuan kredit sangat mempengaruhi tingkat gagal bayar dikarenakan tujuannya terkadang tidak sesuai antara pendapatan dan keinginan.\n",
        "2.\tTerkait nilai yang hilang, terdapat nilai yang hilang simetris dari 2 kolom [days_employed] dan [total_income], untuk mengetahui dan memastikan bahwa data yang hilang memiliki ukuran yang sama menggunakan metode <isna()>. Jumlah baris dalam tabel yang hilang sudah sesuai dan persentase data yang hilang dari 2 kolom tersebut sebesar 10%. \n",
        "Terdapat juga nilai negatif pada kolom [days_employed] data ini juga akan diubah menjadi nilai positif. Selain itu terdapat juga data yang terduplikasi pada kolom [education] maka perlu disamakan semua data yang terduplikasi tersebut dengan metode <lower()>. Kemudian mengisi nilai yang hilang dari [days_employed] dan [total_income], selanjutnya menyamakan kategorinya dari kolom [education].\n",
        "Penyebab hilangnya nilai dalam data dikarenakan bersifat random dan tidak terdapat pola tertentu, beberapa nilai yang hilang bukan suatu kebetulan, melainkan ada penyebabnya diantaranya kesalahan penginputan pada kolom [children], banyak nilai yang terduplikasi pada kolom [education].\n"
      ]
    }
  ],
  "metadata": {
    "ExecuteTimeLog": [
      {
        "duration": 2741,
        "start_time": "2021-10-21T01:08:49.480Z"
      },
      {
        "duration": 52,
        "start_time": "2021-10-21T01:08:53.315Z"
      },
      {
        "duration": 49,
        "start_time": "2021-10-21T01:08:57.432Z"
      },
      {
        "duration": 70,
        "start_time": "2021-10-21T01:09:07.706Z"
      }
    ],
    "kernelspec": {
      "display_name": "Python 3 (ipykernel)",
      "language": "python",
      "name": "python3"
    },
    "language_info": {
      "codemirror_mode": {
        "name": "ipython",
        "version": 3
      },
      "file_extension": ".py",
      "mimetype": "text/x-python",
      "name": "python",
      "nbconvert_exporter": "python",
      "pygments_lexer": "ipython3",
      "version": "3.9.5"
    },
    "toc": {
      "base_numbering": 1,
      "nav_menu": {},
      "number_sections": true,
      "sideBar": true,
      "skip_h1_title": true,
      "title_cell": "Table of Contents",
      "title_sidebar": "Contents",
      "toc_cell": false,
      "toc_position": {},
      "toc_section_display": true,
      "toc_window_display": false
    },
    "vscode": {
      "interpreter": {
        "hash": "ef1728426330606e01c1da091626d7dbd7604032247e9790b44969d857c4f729"
      }
    },
    "colab": {
      "provenance": [],
      "toc_visible": true
    }
  },
  "nbformat": 4,
  "nbformat_minor": 0
}