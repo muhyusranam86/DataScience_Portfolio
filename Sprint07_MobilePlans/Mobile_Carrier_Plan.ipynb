{
 "cells": [
  {
   "cell_type": "markdown",
   "metadata": {},
   "source": [
    "\n",
    "## Deskripsi Proyek\n",
    "Operator seluler Megaline merasa tidak puas karena banyak pelanggan mereka yang masih menggunakan paket lama. Perusahaan tersebut ingin mengembangkan sebuah model yang dapat menganalisis perilaku konsumen dan merekomendasikan salah satu dari kedua paket terbaru Megaline: Smart atau Ultra.\n",
    "\n",
    "* Anda memiliki akses terhadap data perilaku para pelanggan yang sudah beralih ke paket terbaru (dari proyek kursus Analisis Data Statistik). \n",
    "* Dalam tugas klasifikasi ini, Anda perlu mengembangkan sebuah model yang mampu memilih paket dengan tepat. Mengingat Anda telah menyelesaikan langkah pra-pemrosesan data, Anda bisa langsung menuju ke tahap pembuatan model.\n",
    "\n",
    "Yang harus dilakukan:\n",
    "* Kembangkanlah sebuah model yang memiliki accuracy setinggi mungkin. \n",
    "* Pada proyek ini, ambang batas untuk tingkat accuracy-nya adalah 0,75. \n",
    "* Periksalah metrik accuracy model Anda dengan menggunakan test dataset."
   ]
  },
  {
   "cell_type": "code",
   "execution_count": 1,
   "metadata": {},
   "outputs": [],
   "source": [
    "# memuat semua library\n",
    "import pandas as pd\n",
    "import numpy as np\n",
    "import seaborn as sns\n",
    "import matplotlib.pyplot as plt\n",
    "import scipy.stats as st\n",
    "import plotly.express as px\n",
    "import plotly.graph_objects as go\n",
    "from plotly.subplots import make_subplots\n",
    "from scipy.stats import levene\n",
    "\n",
    "import warnings\n",
    "warnings.filterwarnings('ignore')\n",
    "pd.set_option('display.max_rows',100)"
   ]
  },
  {
   "cell_type": "code",
   "execution_count": 2,
   "metadata": {},
   "outputs": [],
   "source": [
    "#import libraries\n",
    "from sklearn.model_selection import train_test_split\n",
    "from sklearn.tree import DecisionTreeClassifier\n",
    "from sklearn.ensemble import RandomForestClassifier\n",
    "from sklearn.linear_model import LogisticRegression\n",
    "from sklearn.metrics import accuracy_score\n",
    "from sklearn.dummy import DummyClassifier"
   ]
  },
  {
   "cell_type": "markdown",
   "metadata": {},
   "source": [
    "### Langkah 1\n",
    "Buka dan cermati file data secara teliti. File path: /datasets/users_behavior.csv. Unduh dataset"
   ]
  },
  {
   "cell_type": "code",
   "execution_count": 3,
   "metadata": {},
   "outputs": [],
   "source": [
    "df = pd.read_csv('/datasets/users_behavior.csv')"
   ]
  },
  {
   "cell_type": "code",
   "execution_count": 4,
   "metadata": {},
   "outputs": [
    {
     "data": {
      "text/html": [
       "<div>\n",
       "<style scoped>\n",
       "    .dataframe tbody tr th:only-of-type {\n",
       "        vertical-align: middle;\n",
       "    }\n",
       "\n",
       "    .dataframe tbody tr th {\n",
       "        vertical-align: top;\n",
       "    }\n",
       "\n",
       "    .dataframe thead th {\n",
       "        text-align: right;\n",
       "    }\n",
       "</style>\n",
       "<table border=\"1\" class=\"dataframe\">\n",
       "  <thead>\n",
       "    <tr style=\"text-align: right;\">\n",
       "      <th></th>\n",
       "      <th>calls</th>\n",
       "      <th>minutes</th>\n",
       "      <th>messages</th>\n",
       "      <th>mb_used</th>\n",
       "      <th>is_ultra</th>\n",
       "    </tr>\n",
       "  </thead>\n",
       "  <tbody>\n",
       "    <tr>\n",
       "      <th>0</th>\n",
       "      <td>40.0</td>\n",
       "      <td>311.90</td>\n",
       "      <td>83.0</td>\n",
       "      <td>19915.42</td>\n",
       "      <td>0</td>\n",
       "    </tr>\n",
       "    <tr>\n",
       "      <th>1</th>\n",
       "      <td>85.0</td>\n",
       "      <td>516.75</td>\n",
       "      <td>56.0</td>\n",
       "      <td>22696.96</td>\n",
       "      <td>0</td>\n",
       "    </tr>\n",
       "    <tr>\n",
       "      <th>2</th>\n",
       "      <td>77.0</td>\n",
       "      <td>467.66</td>\n",
       "      <td>86.0</td>\n",
       "      <td>21060.45</td>\n",
       "      <td>0</td>\n",
       "    </tr>\n",
       "    <tr>\n",
       "      <th>3</th>\n",
       "      <td>106.0</td>\n",
       "      <td>745.53</td>\n",
       "      <td>81.0</td>\n",
       "      <td>8437.39</td>\n",
       "      <td>1</td>\n",
       "    </tr>\n",
       "    <tr>\n",
       "      <th>4</th>\n",
       "      <td>66.0</td>\n",
       "      <td>418.74</td>\n",
       "      <td>1.0</td>\n",
       "      <td>14502.75</td>\n",
       "      <td>0</td>\n",
       "    </tr>\n",
       "  </tbody>\n",
       "</table>\n",
       "</div>"
      ],
      "text/plain": [
       "   calls  minutes  messages   mb_used  is_ultra\n",
       "0   40.0   311.90      83.0  19915.42         0\n",
       "1   85.0   516.75      56.0  22696.96         0\n",
       "2   77.0   467.66      86.0  21060.45         0\n",
       "3  106.0   745.53      81.0   8437.39         1\n",
       "4   66.0   418.74       1.0  14502.75         0"
      ]
     },
     "metadata": {},
     "output_type": "display_data"
    },
    {
     "data": {
      "text/html": [
       "<div>\n",
       "<style scoped>\n",
       "    .dataframe tbody tr th:only-of-type {\n",
       "        vertical-align: middle;\n",
       "    }\n",
       "\n",
       "    .dataframe tbody tr th {\n",
       "        vertical-align: top;\n",
       "    }\n",
       "\n",
       "    .dataframe thead th {\n",
       "        text-align: right;\n",
       "    }\n",
       "</style>\n",
       "<table border=\"1\" class=\"dataframe\">\n",
       "  <thead>\n",
       "    <tr style=\"text-align: right;\">\n",
       "      <th></th>\n",
       "      <th>calls</th>\n",
       "      <th>minutes</th>\n",
       "      <th>messages</th>\n",
       "      <th>mb_used</th>\n",
       "      <th>is_ultra</th>\n",
       "    </tr>\n",
       "  </thead>\n",
       "  <tbody>\n",
       "    <tr>\n",
       "      <th>3209</th>\n",
       "      <td>122.0</td>\n",
       "      <td>910.98</td>\n",
       "      <td>20.0</td>\n",
       "      <td>35124.90</td>\n",
       "      <td>1</td>\n",
       "    </tr>\n",
       "    <tr>\n",
       "      <th>3210</th>\n",
       "      <td>25.0</td>\n",
       "      <td>190.36</td>\n",
       "      <td>0.0</td>\n",
       "      <td>3275.61</td>\n",
       "      <td>0</td>\n",
       "    </tr>\n",
       "    <tr>\n",
       "      <th>3211</th>\n",
       "      <td>97.0</td>\n",
       "      <td>634.44</td>\n",
       "      <td>70.0</td>\n",
       "      <td>13974.06</td>\n",
       "      <td>0</td>\n",
       "    </tr>\n",
       "    <tr>\n",
       "      <th>3212</th>\n",
       "      <td>64.0</td>\n",
       "      <td>462.32</td>\n",
       "      <td>90.0</td>\n",
       "      <td>31239.78</td>\n",
       "      <td>0</td>\n",
       "    </tr>\n",
       "    <tr>\n",
       "      <th>3213</th>\n",
       "      <td>80.0</td>\n",
       "      <td>566.09</td>\n",
       "      <td>6.0</td>\n",
       "      <td>29480.52</td>\n",
       "      <td>1</td>\n",
       "    </tr>\n",
       "  </tbody>\n",
       "</table>\n",
       "</div>"
      ],
      "text/plain": [
       "      calls  minutes  messages   mb_used  is_ultra\n",
       "3209  122.0   910.98      20.0  35124.90         1\n",
       "3210   25.0   190.36       0.0   3275.61         0\n",
       "3211   97.0   634.44      70.0  13974.06         0\n",
       "3212   64.0   462.32      90.0  31239.78         0\n",
       "3213   80.0   566.09       6.0  29480.52         1"
      ]
     },
     "metadata": {},
     "output_type": "display_data"
    }
   ],
   "source": [
    "# memperoleh baris pertama\n",
    "display(df.head(), df.tail())"
   ]
  },
  {
   "cell_type": "markdown",
   "metadata": {},
   "source": [
    "**Deskripsi Data**\n",
    "\n",
    "Setiap observasi dalam dataset yang kita miliki memuat informasi perilaku bulanan tentang satu pengguna. Adapun informasi tersebut mencakup:\n",
    "* `сalls` — jumlah panggilan\n",
    "* `minutes` — total durasi panggilan dalam satuan menit\n",
    "* `messages` — jumlah pesan teks\n",
    "* `mb_used` — traffic penggunaan internet dalam satuan MB\n",
    "* `is_ultra` — paket untuk bulan yang sedang berjalan (Ultra - 1, Smart - 0)"
   ]
  },
  {
   "cell_type": "code",
   "execution_count": 5,
   "metadata": {},
   "outputs": [
    {
     "name": "stdout",
     "output_type": "stream",
     "text": [
      "<class 'pandas.core.frame.DataFrame'>\n",
      "RangeIndex: 3214 entries, 0 to 3213\n",
      "Data columns (total 5 columns):\n",
      " #   Column    Non-Null Count  Dtype  \n",
      "---  ------    --------------  -----  \n",
      " 0   calls     3214 non-null   float64\n",
      " 1   minutes   3214 non-null   float64\n",
      " 2   messages  3214 non-null   float64\n",
      " 3   mb_used   3214 non-null   float64\n",
      " 4   is_ultra  3214 non-null   int64  \n",
      "dtypes: float64(4), int64(1)\n",
      "memory usage: 125.7 KB\n"
     ]
    },
    {
     "data": {
      "text/html": [
       "<div>\n",
       "<style scoped>\n",
       "    .dataframe tbody tr th:only-of-type {\n",
       "        vertical-align: middle;\n",
       "    }\n",
       "\n",
       "    .dataframe tbody tr th {\n",
       "        vertical-align: top;\n",
       "    }\n",
       "\n",
       "    .dataframe thead th {\n",
       "        text-align: right;\n",
       "    }\n",
       "</style>\n",
       "<table border=\"1\" class=\"dataframe\">\n",
       "  <thead>\n",
       "    <tr style=\"text-align: right;\">\n",
       "      <th></th>\n",
       "      <th>calls</th>\n",
       "      <th>minutes</th>\n",
       "      <th>messages</th>\n",
       "      <th>mb_used</th>\n",
       "      <th>is_ultra</th>\n",
       "    </tr>\n",
       "  </thead>\n",
       "  <tbody>\n",
       "    <tr>\n",
       "      <th>count</th>\n",
       "      <td>3214.000000</td>\n",
       "      <td>3214.000000</td>\n",
       "      <td>3214.000000</td>\n",
       "      <td>3214.000000</td>\n",
       "      <td>3214.000000</td>\n",
       "    </tr>\n",
       "    <tr>\n",
       "      <th>mean</th>\n",
       "      <td>63.038892</td>\n",
       "      <td>438.208787</td>\n",
       "      <td>38.281269</td>\n",
       "      <td>17207.673836</td>\n",
       "      <td>0.306472</td>\n",
       "    </tr>\n",
       "    <tr>\n",
       "      <th>std</th>\n",
       "      <td>33.236368</td>\n",
       "      <td>234.569872</td>\n",
       "      <td>36.148326</td>\n",
       "      <td>7570.968246</td>\n",
       "      <td>0.461100</td>\n",
       "    </tr>\n",
       "    <tr>\n",
       "      <th>min</th>\n",
       "      <td>0.000000</td>\n",
       "      <td>0.000000</td>\n",
       "      <td>0.000000</td>\n",
       "      <td>0.000000</td>\n",
       "      <td>0.000000</td>\n",
       "    </tr>\n",
       "    <tr>\n",
       "      <th>25%</th>\n",
       "      <td>40.000000</td>\n",
       "      <td>274.575000</td>\n",
       "      <td>9.000000</td>\n",
       "      <td>12491.902500</td>\n",
       "      <td>0.000000</td>\n",
       "    </tr>\n",
       "    <tr>\n",
       "      <th>50%</th>\n",
       "      <td>62.000000</td>\n",
       "      <td>430.600000</td>\n",
       "      <td>30.000000</td>\n",
       "      <td>16943.235000</td>\n",
       "      <td>0.000000</td>\n",
       "    </tr>\n",
       "    <tr>\n",
       "      <th>75%</th>\n",
       "      <td>82.000000</td>\n",
       "      <td>571.927500</td>\n",
       "      <td>57.000000</td>\n",
       "      <td>21424.700000</td>\n",
       "      <td>1.000000</td>\n",
       "    </tr>\n",
       "    <tr>\n",
       "      <th>max</th>\n",
       "      <td>244.000000</td>\n",
       "      <td>1632.060000</td>\n",
       "      <td>224.000000</td>\n",
       "      <td>49745.730000</td>\n",
       "      <td>1.000000</td>\n",
       "    </tr>\n",
       "  </tbody>\n",
       "</table>\n",
       "</div>"
      ],
      "text/plain": [
       "             calls      minutes     messages       mb_used     is_ultra\n",
       "count  3214.000000  3214.000000  3214.000000   3214.000000  3214.000000\n",
       "mean     63.038892   438.208787    38.281269  17207.673836     0.306472\n",
       "std      33.236368   234.569872    36.148326   7570.968246     0.461100\n",
       "min       0.000000     0.000000     0.000000      0.000000     0.000000\n",
       "25%      40.000000   274.575000     9.000000  12491.902500     0.000000\n",
       "50%      62.000000   430.600000    30.000000  16943.235000     0.000000\n",
       "75%      82.000000   571.927500    57.000000  21424.700000     1.000000\n",
       "max     244.000000  1632.060000   224.000000  49745.730000     1.000000"
      ]
     },
     "execution_count": 5,
     "metadata": {},
     "output_type": "execute_result"
    }
   ],
   "source": [
    "# memperoleh informasi umum tentang data di df\n",
    "df.info()\n",
    "df.describe()"
   ]
  },
  {
   "cell_type": "code",
   "execution_count": 6,
   "metadata": {},
   "outputs": [
    {
     "data": {
      "text/html": [
       "<div>\n",
       "<style scoped>\n",
       "    .dataframe tbody tr th:only-of-type {\n",
       "        vertical-align: middle;\n",
       "    }\n",
       "\n",
       "    .dataframe tbody tr th {\n",
       "        vertical-align: top;\n",
       "    }\n",
       "\n",
       "    .dataframe thead tr th {\n",
       "        text-align: left;\n",
       "    }\n",
       "\n",
       "    .dataframe thead tr:last-of-type th {\n",
       "        text-align: right;\n",
       "    }\n",
       "</style>\n",
       "<table border=\"1\" class=\"dataframe\">\n",
       "  <thead>\n",
       "    <tr>\n",
       "      <th></th>\n",
       "      <th colspan=\"4\" halign=\"left\">mean</th>\n",
       "      <th colspan=\"4\" halign=\"left\">sum</th>\n",
       "      <th colspan=\"4\" halign=\"left\">count</th>\n",
       "    </tr>\n",
       "    <tr>\n",
       "      <th></th>\n",
       "      <th>calls</th>\n",
       "      <th>mb_used</th>\n",
       "      <th>messages</th>\n",
       "      <th>minutes</th>\n",
       "      <th>calls</th>\n",
       "      <th>mb_used</th>\n",
       "      <th>messages</th>\n",
       "      <th>minutes</th>\n",
       "      <th>calls</th>\n",
       "      <th>mb_used</th>\n",
       "      <th>messages</th>\n",
       "      <th>minutes</th>\n",
       "    </tr>\n",
       "    <tr>\n",
       "      <th>is_ultra</th>\n",
       "      <th></th>\n",
       "      <th></th>\n",
       "      <th></th>\n",
       "      <th></th>\n",
       "      <th></th>\n",
       "      <th></th>\n",
       "      <th></th>\n",
       "      <th></th>\n",
       "      <th></th>\n",
       "      <th></th>\n",
       "      <th></th>\n",
       "      <th></th>\n",
       "    </tr>\n",
       "  </thead>\n",
       "  <tbody>\n",
       "    <tr>\n",
       "      <th>0</th>\n",
       "      <td>58.463437</td>\n",
       "      <td>16208.466949</td>\n",
       "      <td>33.384029</td>\n",
       "      <td>405.942952</td>\n",
       "      <td>130315.0</td>\n",
       "      <td>36128672.83</td>\n",
       "      <td>74413.0</td>\n",
       "      <td>904846.84</td>\n",
       "      <td>2229</td>\n",
       "      <td>2229</td>\n",
       "      <td>2229</td>\n",
       "      <td>2229</td>\n",
       "    </tr>\n",
       "    <tr>\n",
       "      <th>1</th>\n",
       "      <td>73.392893</td>\n",
       "      <td>19468.823228</td>\n",
       "      <td>49.363452</td>\n",
       "      <td>511.224569</td>\n",
       "      <td>72292.0</td>\n",
       "      <td>19176790.88</td>\n",
       "      <td>48623.0</td>\n",
       "      <td>503556.20</td>\n",
       "      <td>985</td>\n",
       "      <td>985</td>\n",
       "      <td>985</td>\n",
       "      <td>985</td>\n",
       "    </tr>\n",
       "  </tbody>\n",
       "</table>\n",
       "</div>"
      ],
      "text/plain": [
       "               mean                                            sum  \\\n",
       "              calls       mb_used   messages     minutes     calls   \n",
       "is_ultra                                                             \n",
       "0         58.463437  16208.466949  33.384029  405.942952  130315.0   \n",
       "1         73.392893  19468.823228  49.363452  511.224569   72292.0   \n",
       "\n",
       "                                          count                           \n",
       "              mb_used messages    minutes calls mb_used messages minutes  \n",
       "is_ultra                                                                  \n",
       "0         36128672.83  74413.0  904846.84  2229    2229     2229    2229  \n",
       "1         19176790.88  48623.0  503556.20   985     985      985     985  "
      ]
     },
     "metadata": {},
     "output_type": "display_data"
    },
    {
     "data": {
      "text/html": [
       "<div>\n",
       "<style scoped>\n",
       "    .dataframe tbody tr th:only-of-type {\n",
       "        vertical-align: middle;\n",
       "    }\n",
       "\n",
       "    .dataframe tbody tr th {\n",
       "        vertical-align: top;\n",
       "    }\n",
       "\n",
       "    .dataframe thead tr th {\n",
       "        text-align: left;\n",
       "    }\n",
       "\n",
       "    .dataframe thead tr:last-of-type th {\n",
       "        text-align: right;\n",
       "    }\n",
       "</style>\n",
       "<table border=\"1\" class=\"dataframe\">\n",
       "  <thead>\n",
       "    <tr>\n",
       "      <th></th>\n",
       "      <th>&lt;lambda&gt;</th>\n",
       "    </tr>\n",
       "    <tr>\n",
       "      <th></th>\n",
       "      <th>calls</th>\n",
       "    </tr>\n",
       "    <tr>\n",
       "      <th>is_ultra</th>\n",
       "      <th></th>\n",
       "    </tr>\n",
       "  </thead>\n",
       "  <tbody>\n",
       "    <tr>\n",
       "      <th>0</th>\n",
       "      <td>69.0</td>\n",
       "    </tr>\n",
       "    <tr>\n",
       "      <th>1</th>\n",
       "      <td>31.0</td>\n",
       "    </tr>\n",
       "  </tbody>\n",
       "</table>\n",
       "</div>"
      ],
      "text/plain": [
       "         <lambda>\n",
       "            calls\n",
       "is_ultra         \n",
       "0            69.0\n",
       "1            31.0"
      ]
     },
     "metadata": {},
     "output_type": "display_data"
    }
   ],
   "source": [
    "# mengecek jumlah pengguna ultra dan smart plan (Ultra = 1, Smart = 0)\n",
    "func_percent = lambda x: round(100*x.count()/df.shape[0])\n",
    "display(df.pivot_table(index='is_ultra',values=['calls','minutes','messages','mb_used'],aggfunc=['mean','sum','count']))\n",
    "display(df.pivot_table(index='is_ultra',values=['calls'],aggfunc=[func_percent]))"
   ]
  },
  {
   "cell_type": "markdown",
   "metadata": {},
   "source": [
    "**Kesimpulan:**\n",
    "* Tipe data sudah sesuai\n",
    "* Data frame tidak memiliki data null\n",
    "* Terdapat 2229 (69%) pengguna smart-plan, 985 (31%) pengguna ultra-plan"
   ]
  },
  {
   "cell_type": "markdown",
   "metadata": {},
   "source": [
    "### Langkah 2\n",
    "Pisahkan data sumber menjadi training set, validation set, dan test set."
   ]
  },
  {
   "cell_type": "code",
   "execution_count": 7,
   "metadata": {},
   "outputs": [
    {
     "name": "stdout",
     "output_type": "stream",
     "text": [
      "training set  : 60% (1928, 5)\n",
      "validation set: 20% (643, 5)\n",
      "test set      : 20% (643, 5)\n"
     ]
    }
   ],
   "source": [
    "# memisahkan data set menjadi training, validation, dan test\n",
    "df_train, df_valid_test = train_test_split(df, test_size=0.40, random_state=12345)\n",
    "df_valid, df_test = train_test_split(df_valid_test, test_size=0.5, random_state=12345)\n",
    "total_size = len(df)\n",
    "\n",
    "# train\n",
    "features_train = df_train.drop(['is_ultra'], axis=1)\n",
    "target_train = df_train['is_ultra']\n",
    "# valid\n",
    "features_valid = df_valid.drop(['is_ultra'], axis=1)\n",
    "target_valid = df_valid['is_ultra']\n",
    "# test\n",
    "features_test = df_test.drop(['is_ultra'], axis=1)\n",
    "target_test = df_test['is_ultra']\n",
    "\n",
    "print('training set  : {0:.0%}'.format(len(df_train)/total_size),df_train.shape)\n",
    "print('validation set: {0:.0%}'.format(len(df_valid)/total_size),df_valid.shape)\n",
    "print('test set      : {0:.0%}'.format(len(df_test)/total_size),df_test.shape)"
   ]
  },
  {
   "cell_type": "code",
   "execution_count": 8,
   "metadata": {},
   "outputs": [
    {
     "data": {
      "text/html": [
       "<div>\n",
       "<style scoped>\n",
       "    .dataframe tbody tr th:only-of-type {\n",
       "        vertical-align: middle;\n",
       "    }\n",
       "\n",
       "    .dataframe tbody tr th {\n",
       "        vertical-align: top;\n",
       "    }\n",
       "\n",
       "    .dataframe thead tr th {\n",
       "        text-align: left;\n",
       "    }\n",
       "\n",
       "    .dataframe thead tr:last-of-type th {\n",
       "        text-align: right;\n",
       "    }\n",
       "</style>\n",
       "<table border=\"1\" class=\"dataframe\">\n",
       "  <thead>\n",
       "    <tr>\n",
       "      <th></th>\n",
       "      <th>count</th>\n",
       "      <th>&lt;lambda&gt;</th>\n",
       "    </tr>\n",
       "    <tr>\n",
       "      <th></th>\n",
       "      <th>calls</th>\n",
       "      <th>calls</th>\n",
       "    </tr>\n",
       "    <tr>\n",
       "      <th>is_ultra</th>\n",
       "      <th></th>\n",
       "      <th></th>\n",
       "    </tr>\n",
       "  </thead>\n",
       "  <tbody>\n",
       "    <tr>\n",
       "      <th>0</th>\n",
       "      <td>1335</td>\n",
       "      <td>69.0</td>\n",
       "    </tr>\n",
       "    <tr>\n",
       "      <th>1</th>\n",
       "      <td>593</td>\n",
       "      <td>31.0</td>\n",
       "    </tr>\n",
       "  </tbody>\n",
       "</table>\n",
       "</div>"
      ],
      "text/plain": [
       "         count <lambda>\n",
       "         calls    calls\n",
       "is_ultra               \n",
       "0         1335     69.0\n",
       "1          593     31.0"
      ]
     },
     "metadata": {},
     "output_type": "display_data"
    }
   ],
   "source": [
    "# Training dataset\n",
    "func_percent_train = lambda x: round(100*x.count()/df_train.shape[0])\n",
    "display(df_train.pivot_table(index='is_ultra',values=['calls'],aggfunc=['count',func_percent_train]))"
   ]
  },
  {
   "cell_type": "code",
   "execution_count": 9,
   "metadata": {},
   "outputs": [
    {
     "data": {
      "text/html": [
       "<div>\n",
       "<style scoped>\n",
       "    .dataframe tbody tr th:only-of-type {\n",
       "        vertical-align: middle;\n",
       "    }\n",
       "\n",
       "    .dataframe tbody tr th {\n",
       "        vertical-align: top;\n",
       "    }\n",
       "\n",
       "    .dataframe thead tr th {\n",
       "        text-align: left;\n",
       "    }\n",
       "\n",
       "    .dataframe thead tr:last-of-type th {\n",
       "        text-align: right;\n",
       "    }\n",
       "</style>\n",
       "<table border=\"1\" class=\"dataframe\">\n",
       "  <thead>\n",
       "    <tr>\n",
       "      <th></th>\n",
       "      <th>count</th>\n",
       "      <th>&lt;lambda&gt;</th>\n",
       "    </tr>\n",
       "    <tr>\n",
       "      <th></th>\n",
       "      <th>calls</th>\n",
       "      <th>calls</th>\n",
       "    </tr>\n",
       "    <tr>\n",
       "      <th>is_ultra</th>\n",
       "      <th></th>\n",
       "      <th></th>\n",
       "    </tr>\n",
       "  </thead>\n",
       "  <tbody>\n",
       "    <tr>\n",
       "      <th>0</th>\n",
       "      <td>454</td>\n",
       "      <td>71.0</td>\n",
       "    </tr>\n",
       "    <tr>\n",
       "      <th>1</th>\n",
       "      <td>189</td>\n",
       "      <td>29.0</td>\n",
       "    </tr>\n",
       "  </tbody>\n",
       "</table>\n",
       "</div>"
      ],
      "text/plain": [
       "         count <lambda>\n",
       "         calls    calls\n",
       "is_ultra               \n",
       "0          454     71.0\n",
       "1          189     29.0"
      ]
     },
     "metadata": {},
     "output_type": "display_data"
    }
   ],
   "source": [
    "# Validation dataset\n",
    "func_percent_valid = lambda x: round(100*x.count()/df_valid.shape[0])\n",
    "display(df_valid.pivot_table(index='is_ultra',values=['calls'],aggfunc=['count',func_percent_valid]))"
   ]
  },
  {
   "cell_type": "code",
   "execution_count": 10,
   "metadata": {},
   "outputs": [
    {
     "data": {
      "text/html": [
       "<div>\n",
       "<style scoped>\n",
       "    .dataframe tbody tr th:only-of-type {\n",
       "        vertical-align: middle;\n",
       "    }\n",
       "\n",
       "    .dataframe tbody tr th {\n",
       "        vertical-align: top;\n",
       "    }\n",
       "\n",
       "    .dataframe thead tr th {\n",
       "        text-align: left;\n",
       "    }\n",
       "\n",
       "    .dataframe thead tr:last-of-type th {\n",
       "        text-align: right;\n",
       "    }\n",
       "</style>\n",
       "<table border=\"1\" class=\"dataframe\">\n",
       "  <thead>\n",
       "    <tr>\n",
       "      <th></th>\n",
       "      <th>count</th>\n",
       "      <th>&lt;lambda&gt;</th>\n",
       "    </tr>\n",
       "    <tr>\n",
       "      <th></th>\n",
       "      <th>calls</th>\n",
       "      <th>calls</th>\n",
       "    </tr>\n",
       "    <tr>\n",
       "      <th>is_ultra</th>\n",
       "      <th></th>\n",
       "      <th></th>\n",
       "    </tr>\n",
       "  </thead>\n",
       "  <tbody>\n",
       "    <tr>\n",
       "      <th>0</th>\n",
       "      <td>440</td>\n",
       "      <td>68.0</td>\n",
       "    </tr>\n",
       "    <tr>\n",
       "      <th>1</th>\n",
       "      <td>203</td>\n",
       "      <td>32.0</td>\n",
       "    </tr>\n",
       "  </tbody>\n",
       "</table>\n",
       "</div>"
      ],
      "text/plain": [
       "         count <lambda>\n",
       "         calls    calls\n",
       "is_ultra               \n",
       "0          440     68.0\n",
       "1          203     32.0"
      ]
     },
     "metadata": {},
     "output_type": "display_data"
    }
   ],
   "source": [
    "# Test dataset\n",
    "func_percent_test = lambda x: round(100*x.count()/df_test.shape[0])\n",
    "display(df_test.pivot_table(index='is_ultra',values=['calls'],aggfunc=['count',func_percent_test]))"
   ]
  },
  {
   "cell_type": "markdown",
   "metadata": {},
   "source": [
    "**Kesimpulan**\n",
    "* Membagi dataset utama menjadi 3 set: (Training set, Validation set, Test set).\n",
    "\n",
    "Untuk pembagian antara pengguna smart dan ultra plan:\n",
    "- Dataset utama terbagi smart plan: 69%, ultra plan: 31% \n",
    "- Training dataset memiliki pembagian yang sama dengan dataset utama\n",
    "- Validasi dataset terbagi smart plan: 71%, ultra plan: 29% \n",
    "- Test dataset terbagi smart plan: 68%, ultra plan: 32%\n",
    "\n",
    "Dataset validasi memiliki lebih banyak pengguna smart plan (0) dari pada pengguna ultra plan (1)."
   ]
  },
  {
   "cell_type": "code",
   "execution_count": 11,
   "metadata": {},
   "outputs": [],
   "source": [
    "# membuat dataframe untuk menyimpan fungsi, hasil akurasi, dan jika memenuhi atau melampaui ambang batas akurasi\n",
    "column_names = [\"function\",\"hyperparameters\",\"accuracy_score validation\",\"accuracy_score test\",'above_threshold?']\n",
    "df_results = pd.DataFrame(columns = column_names)"
   ]
  },
  {
   "cell_type": "markdown",
   "metadata": {},
   "source": [
    "### Langkah 3\n",
    "Periksa kualitas model yang berbeda dengan mengubah hyperparameter-nya. Jelaskan secara singkat temuan-temuan yang Anda dapatkan dari penelitian ini."
   ]
  },
  {
   "cell_type": "code",
   "execution_count": 12,
   "metadata": {},
   "outputs": [
    {
     "name": "stdout",
     "output_type": "stream",
     "text": [
      "0.7231726283048211 0.744945567651633\n"
     ]
    }
   ],
   "source": [
    "# Decision Tree Classifier tanpa Hyperparameter\n",
    "\n",
    "model = DecisionTreeClassifier()\n",
    "model.fit(features_train, target_train)\n",
    "\n",
    "predictions_valid = model.predict(features_valid)\n",
    "predictions_test = model.predict(features_test)\n",
    "\n",
    "accuracy_valid = accuracy_score(target_valid, predictions_valid)\n",
    "accuracy_test = accuracy_score(target_test, predictions_test)\n",
    "\n",
    "print(accuracy_valid, accuracy_test)"
   ]
  },
  {
   "cell_type": "code",
   "execution_count": 13,
   "metadata": {},
   "outputs": [
    {
     "data": {
      "text/html": [
       "<div>\n",
       "<style scoped>\n",
       "    .dataframe tbody tr th:only-of-type {\n",
       "        vertical-align: middle;\n",
       "    }\n",
       "\n",
       "    .dataframe tbody tr th {\n",
       "        vertical-align: top;\n",
       "    }\n",
       "\n",
       "    .dataframe thead th {\n",
       "        text-align: right;\n",
       "    }\n",
       "</style>\n",
       "<table border=\"1\" class=\"dataframe\">\n",
       "  <thead>\n",
       "    <tr style=\"text-align: right;\">\n",
       "      <th></th>\n",
       "      <th>function</th>\n",
       "      <th>hyperparameters</th>\n",
       "      <th>accuracy_score validation</th>\n",
       "      <th>accuracy_score test</th>\n",
       "      <th>above_threshold?</th>\n",
       "    </tr>\n",
       "  </thead>\n",
       "  <tbody>\n",
       "    <tr>\n",
       "      <th>0</th>\n",
       "      <td>DecisionTree</td>\n",
       "      <td>None</td>\n",
       "      <td>0.7232</td>\n",
       "      <td>0.7449</td>\n",
       "      <td>False</td>\n",
       "    </tr>\n",
       "  </tbody>\n",
       "</table>\n",
       "</div>"
      ],
      "text/plain": [
       "       function hyperparameters  accuracy_score validation  \\\n",
       "0  DecisionTree            None                     0.7232   \n",
       "\n",
       "   accuracy_score test above_threshold?  \n",
       "0               0.7449            False  "
      ]
     },
     "execution_count": 13,
     "metadata": {},
     "output_type": "execute_result"
    }
   ],
   "source": [
    "# memeriksa kualitas model\n",
    "accuracy_threshold=0.75\n",
    "accu_threshold = np.where(accuracy_test > accuracy_threshold, True, False)\n",
    "rows = [pd.Series(['DecisionTree','None',accuracy_valid,accuracy_test,accu_threshold], index=df_results.columns)]\n",
    "\n",
    "df_results = df_results.append(rows)\n",
    "df_results.round(4)"
   ]
  },
  {
   "cell_type": "markdown",
   "metadata": {},
   "source": [
    "**Kesimpulan:**\n",
    "* Decision Tree Classifier tanpa hyperparameter menghasilkan skor akurasi 72.9% pada Test dataset.\n",
    "* Karena ambang batas untuk tingkat accuracy-nya adalah 0,75. berdasarkan hasil pemeriksaan kualitas model diatas masih belum mencapai ambang batas tingkat accuracy-nya.\n",
    "* Untuk mendapatkan tingkat accuracy tersebut perlu untuk menggunakan hyperparameter."
   ]
  },
  {
   "cell_type": "markdown",
   "metadata": {},
   "source": [
    "### Langkah 4\n",
    "Periksa kualitas model dengan menggunakan test set."
   ]
  },
  {
   "cell_type": "code",
   "execution_count": 14,
   "metadata": {},
   "outputs": [
    {
     "name": "stdout",
     "output_type": "stream",
     "text": [
      "--------------------------------------------------------\n",
      "max_depth = 1 :  accuracy score: 0.7542768273716952\n",
      "--------------------------------------------------------\n",
      "max_depth = 2 :  accuracy score: 0.7822706065318819\n",
      "--------------------------------------------------------\n",
      "max_depth = 3 :  accuracy score: 0.7853810264385692\n",
      "--------------------------------------------------------\n",
      "max_depth = 4 :  accuracy score: 0.7791601866251944\n",
      "--------------------------------------------------------\n",
      "max_depth = 5 :  accuracy score: 0.7791601866251944\n",
      "Highest depth:  3 Highest Accuracy Score 0.7853810264385692\n",
      "Test Data Accuracy Score 0.7791601866251944 Depth:  3\n"
     ]
    }
   ],
   "source": [
    "# Decision Tree Classifier dengan Hyperparameter 'max_depth'\n",
    "\n",
    "highest_score=0\n",
    "for depth in range(1,6):\n",
    "    model = DecisionTreeClassifier(random_state=12345, max_depth=depth)\n",
    "    model.fit(features_train, target_train)\n",
    "\n",
    "    accuracy_valid  = model.score(features_valid, target_valid)\n",
    "    \n",
    "    print('--------------------------------------------------------')\n",
    "    print(\"max_depth =\",depth,\": \", 'accuracy score:',accuracy_valid)\n",
    "\n",
    "    if (accuracy_valid > highest_score):\n",
    "        highest_score = accuracy_valid\n",
    "        highest_depth = depth\n",
    " \n",
    "print('Highest depth: ', highest_depth,'Highest Accuracy Score', highest_score)\n",
    "\n",
    "model = DecisionTreeClassifier(random_state=12345, max_depth=highest_depth)\n",
    "model.fit(features_train, target_train)\n",
    "\n",
    "accuracy_test = model.score(features_test, target_test)\n",
    "print('Test Data Accuracy Score', accuracy_test,'Depth: ', highest_depth)"
   ]
  },
  {
   "cell_type": "code",
   "execution_count": 15,
   "metadata": {},
   "outputs": [
    {
     "data": {
      "text/html": [
       "<div>\n",
       "<style scoped>\n",
       "    .dataframe tbody tr th:only-of-type {\n",
       "        vertical-align: middle;\n",
       "    }\n",
       "\n",
       "    .dataframe tbody tr th {\n",
       "        vertical-align: top;\n",
       "    }\n",
       "\n",
       "    .dataframe thead th {\n",
       "        text-align: right;\n",
       "    }\n",
       "</style>\n",
       "<table border=\"1\" class=\"dataframe\">\n",
       "  <thead>\n",
       "    <tr style=\"text-align: right;\">\n",
       "      <th></th>\n",
       "      <th>function</th>\n",
       "      <th>hyperparameters</th>\n",
       "      <th>accuracy_score validation</th>\n",
       "      <th>accuracy_score test</th>\n",
       "      <th>above_threshold?</th>\n",
       "    </tr>\n",
       "  </thead>\n",
       "  <tbody>\n",
       "    <tr>\n",
       "      <th>0</th>\n",
       "      <td>DecisionTree</td>\n",
       "      <td>None</td>\n",
       "      <td>0.7232</td>\n",
       "      <td>0.7449</td>\n",
       "      <td>False</td>\n",
       "    </tr>\n",
       "    <tr>\n",
       "      <th>0</th>\n",
       "      <td>DecisionTree</td>\n",
       "      <td>max_depth =3</td>\n",
       "      <td>0.7854</td>\n",
       "      <td>0.7792</td>\n",
       "      <td>True</td>\n",
       "    </tr>\n",
       "  </tbody>\n",
       "</table>\n",
       "</div>"
      ],
      "text/plain": [
       "       function hyperparameters  accuracy_score validation  \\\n",
       "0  DecisionTree            None                     0.7232   \n",
       "0  DecisionTree    max_depth =3                     0.7854   \n",
       "\n",
       "   accuracy_score test above_threshold?  \n",
       "0               0.7449            False  \n",
       "0               0.7792             True  "
      ]
     },
     "execution_count": 15,
     "metadata": {},
     "output_type": "execute_result"
    }
   ],
   "source": [
    "# memeriksa kualitas model\n",
    "accu_threshold = np.where(accuracy_test > accuracy_threshold, True, False)\n",
    "rows = [pd.Series(['DecisionTree', 'max_depth ='+ str(highest_depth),highest_score,accuracy_test,accu_threshold], index=df_results.columns)]\n",
    "\n",
    "df_results = df_results.append(rows)\n",
    "df_results.round(4)"
   ]
  },
  {
   "cell_type": "markdown",
   "metadata": {},
   "source": [
    "**Kesimpulan:**\n",
    "* Decision Tree Classifier dengan Hyperparameter max_depth = 3 dengan skor akurasi maksimum 78% pada Validasi dataset.\n",
    "* Menggunakan max_depth = 3 untuk Test dataset, dan menghasilkan skor akurasi 77,9%.\n",
    "* Pemeriksaan kualitas model dengan menggunakan test set sudah melebihi ambang batas tingkat accuracy 0,75.(0.7792)"
   ]
  },
  {
   "cell_type": "code",
   "execution_count": 16,
   "metadata": {},
   "outputs": [
    {
     "name": "stdout",
     "output_type": "stream",
     "text": [
      "--------------------------------------------------------\n",
      "Estimator:  10  Accuracy Score 0.7853810264385692\n",
      "--------------------------------------------------------\n",
      "Estimator:  50  Accuracy Score 0.7916018662519441\n",
      "--------------------------------------------------------\n",
      "Estimator:  100  Accuracy Score 0.7853810264385692\n",
      "--------------------------------------------------------\n",
      "Estimator:  200  Accuracy Score 0.7869362363919129\n",
      "--------------------------------------------------------\n",
      "Estimator:  300  Accuracy Score 0.7869362363919129\n",
      "--------------------------------------------------------\n",
      "Estimator:  400  Accuracy Score 0.7853810264385692\n",
      "Highest Estimator:  50 Highest Accuracy Score 0.7916018662519441\n",
      "Test Data Accuracy Score 0.7931570762052877 Estimator:  50\n"
     ]
    }
   ],
   "source": [
    "# Random Forest Classifier dengan Hyperparameter\n",
    "\n",
    "highest_score = 0.0\n",
    "for forest_estimator in (10, 50, 100, 200, 300, 400):\n",
    "    model = RandomForestClassifier(random_state=12345, n_estimators=forest_estimator)\n",
    "    model.fit(features_train, target_train)\n",
    "    accuracy_valid = model.score(features_valid, target_valid)\n",
    "    print('--------------------------------------------------------')\n",
    "    print('Estimator: ', forest_estimator,' Accuracy Score', accuracy_valid)\n",
    "        \n",
    "    if (accuracy_valid > highest_score):\n",
    "        highest_score = accuracy_valid\n",
    "        highest_estimator = forest_estimator\n",
    " \n",
    "print('Highest Estimator: ', highest_estimator,'Highest Accuracy Score', highest_score)\n",
    " \n",
    "model = RandomForestClassifier(random_state=12345, n_estimators=highest_estimator)\n",
    "model.fit(features_train, target_train)\n",
    "\n",
    "accuracy_test = model.score(features_test, target_test)\n",
    "print('Test Data Accuracy Score', accuracy_test,'Estimator: ', highest_estimator)"
   ]
  },
  {
   "cell_type": "code",
   "execution_count": 17,
   "metadata": {},
   "outputs": [
    {
     "data": {
      "text/html": [
       "<div>\n",
       "<style scoped>\n",
       "    .dataframe tbody tr th:only-of-type {\n",
       "        vertical-align: middle;\n",
       "    }\n",
       "\n",
       "    .dataframe tbody tr th {\n",
       "        vertical-align: top;\n",
       "    }\n",
       "\n",
       "    .dataframe thead th {\n",
       "        text-align: right;\n",
       "    }\n",
       "</style>\n",
       "<table border=\"1\" class=\"dataframe\">\n",
       "  <thead>\n",
       "    <tr style=\"text-align: right;\">\n",
       "      <th></th>\n",
       "      <th>function</th>\n",
       "      <th>hyperparameters</th>\n",
       "      <th>accuracy_score validation</th>\n",
       "      <th>accuracy_score test</th>\n",
       "      <th>above_threshold?</th>\n",
       "    </tr>\n",
       "  </thead>\n",
       "  <tbody>\n",
       "    <tr>\n",
       "      <th>0</th>\n",
       "      <td>DecisionTree</td>\n",
       "      <td>None</td>\n",
       "      <td>0.7232</td>\n",
       "      <td>0.7449</td>\n",
       "      <td>False</td>\n",
       "    </tr>\n",
       "    <tr>\n",
       "      <th>0</th>\n",
       "      <td>DecisionTree</td>\n",
       "      <td>max_depth =3</td>\n",
       "      <td>0.7854</td>\n",
       "      <td>0.7792</td>\n",
       "      <td>True</td>\n",
       "    </tr>\n",
       "    <tr>\n",
       "      <th>0</th>\n",
       "      <td>RandomForest</td>\n",
       "      <td>n_estimators =50</td>\n",
       "      <td>0.7916</td>\n",
       "      <td>0.7932</td>\n",
       "      <td>True</td>\n",
       "    </tr>\n",
       "  </tbody>\n",
       "</table>\n",
       "</div>"
      ],
      "text/plain": [
       "       function   hyperparameters  accuracy_score validation  \\\n",
       "0  DecisionTree              None                     0.7232   \n",
       "0  DecisionTree      max_depth =3                     0.7854   \n",
       "0  RandomForest  n_estimators =50                     0.7916   \n",
       "\n",
       "   accuracy_score test above_threshold?  \n",
       "0               0.7449            False  \n",
       "0               0.7792             True  \n",
       "0               0.7932             True  "
      ]
     },
     "execution_count": 17,
     "metadata": {},
     "output_type": "execute_result"
    }
   ],
   "source": [
    "# memeriksa kualitas model\n",
    "accu_threshold = np.where(accuracy_test > accuracy_threshold, True, False)\n",
    "rows = [pd.Series(['RandomForest','n_estimators ='+ str(highest_estimator),highest_score,accuracy_test,accu_threshold], index=df_results.columns)]\n",
    "\n",
    "df_results = df_results.append(rows)\n",
    "df_results.round(4)"
   ]
  },
  {
   "cell_type": "markdown",
   "metadata": {},
   "source": [
    "**Kesimpulan:**\n",
    "* Random Forest Classifier dengan Hyperparameter n_estimators = 50 dengan skor akurasi maksimum 79% pada Validasi dataset.\n",
    "* Menggunakan max_depth = 50 untuk Test dataset, dan skor akurasinya adalah 79%.\n",
    "* Hasil pada Test dataset serupa dengan validasi test dataset.\n",
    "* Pemeriksaan kualitas model dengan menggunakan test set sudah melebihi ambang batas tingkat accuracy 0,75.(0.7932)"
   ]
  },
  {
   "cell_type": "code",
   "execution_count": 18,
   "metadata": {},
   "outputs": [
    {
     "name": "stdout",
     "output_type": "stream",
     "text": [
      "0.7589424572317263 0.7402799377916018\n"
     ]
    }
   ],
   "source": [
    "# LogisticRegression tanpa Hyperparameter\n",
    "\n",
    "model = LogisticRegression(random_state=12345, solver='liblinear')\n",
    "model.fit(features_train, target_train)\n",
    "\n",
    "predictions_valid = model.predict(features_valid)\n",
    "predictions_test = model.predict(features_test)\n",
    "\n",
    "accuracy_valid = accuracy_score(target_valid, predictions_valid)\n",
    "accuracy_test = accuracy_score(target_test, predictions_test)\n",
    "\n",
    "print(accuracy_valid, accuracy_test)"
   ]
  },
  {
   "cell_type": "code",
   "execution_count": 19,
   "metadata": {},
   "outputs": [
    {
     "data": {
      "text/html": [
       "<div>\n",
       "<style scoped>\n",
       "    .dataframe tbody tr th:only-of-type {\n",
       "        vertical-align: middle;\n",
       "    }\n",
       "\n",
       "    .dataframe tbody tr th {\n",
       "        vertical-align: top;\n",
       "    }\n",
       "\n",
       "    .dataframe thead th {\n",
       "        text-align: right;\n",
       "    }\n",
       "</style>\n",
       "<table border=\"1\" class=\"dataframe\">\n",
       "  <thead>\n",
       "    <tr style=\"text-align: right;\">\n",
       "      <th></th>\n",
       "      <th>function</th>\n",
       "      <th>hyperparameters</th>\n",
       "      <th>accuracy_score validation</th>\n",
       "      <th>accuracy_score test</th>\n",
       "      <th>above_threshold?</th>\n",
       "    </tr>\n",
       "  </thead>\n",
       "  <tbody>\n",
       "    <tr>\n",
       "      <th>0</th>\n",
       "      <td>DecisionTree</td>\n",
       "      <td>None</td>\n",
       "      <td>0.7232</td>\n",
       "      <td>0.7449</td>\n",
       "      <td>False</td>\n",
       "    </tr>\n",
       "    <tr>\n",
       "      <th>0</th>\n",
       "      <td>DecisionTree</td>\n",
       "      <td>max_depth =3</td>\n",
       "      <td>0.7854</td>\n",
       "      <td>0.7792</td>\n",
       "      <td>True</td>\n",
       "    </tr>\n",
       "    <tr>\n",
       "      <th>0</th>\n",
       "      <td>RandomForest</td>\n",
       "      <td>n_estimators =50</td>\n",
       "      <td>0.7916</td>\n",
       "      <td>0.7932</td>\n",
       "      <td>True</td>\n",
       "    </tr>\n",
       "    <tr>\n",
       "      <th>0</th>\n",
       "      <td>LogisticRegression</td>\n",
       "      <td>None</td>\n",
       "      <td>0.7589</td>\n",
       "      <td>0.7403</td>\n",
       "      <td>False</td>\n",
       "    </tr>\n",
       "  </tbody>\n",
       "</table>\n",
       "</div>"
      ],
      "text/plain": [
       "             function   hyperparameters  accuracy_score validation  \\\n",
       "0        DecisionTree              None                     0.7232   \n",
       "0        DecisionTree      max_depth =3                     0.7854   \n",
       "0        RandomForest  n_estimators =50                     0.7916   \n",
       "0  LogisticRegression              None                     0.7589   \n",
       "\n",
       "   accuracy_score test above_threshold?  \n",
       "0               0.7449            False  \n",
       "0               0.7792             True  \n",
       "0               0.7932             True  \n",
       "0               0.7403            False  "
      ]
     },
     "execution_count": 19,
     "metadata": {},
     "output_type": "execute_result"
    }
   ],
   "source": [
    "# memeriksa kualitas model\n",
    "accu_threshold = np.where(accuracy_test > accuracy_threshold, True, False)\n",
    "rows = [pd.Series(['LogisticRegression','None',accuracy_valid,accuracy_test,accu_threshold], index=df_results.columns)]\n",
    "\n",
    "df_results = df_results.append(rows)\n",
    "df_results.round(4)"
   ]
  },
  {
   "cell_type": "markdown",
   "metadata": {},
   "source": [
    "**Kesimpulan:**\n",
    "* Untuk Logistic Regression, menggunakan validasi dan test dataset, hasilnya skor testnya menunjukkan skor akurasi 74%\n",
    "* Pemeriksaan kualitas model dengan menggunakan test set hampir mencapai ambang batas tingkat accuracy 0,75.(hanya 0.7403)"
   ]
  },
  {
   "cell_type": "markdown",
   "metadata": {},
   "source": [
    "### Langkah 5\n",
    "Tugas tambahan: lakukan sanity check terhadap model. Data ini lebih kompleks daripada data yang pernah Anda kerjakan sebelumnya, jadi ini memang bukanlah tugas yang mudah. Kita akan mempelajarinya lebih jauh nanti."
   ]
  },
  {
   "cell_type": "code",
   "execution_count": 20,
   "metadata": {},
   "outputs": [
    {
     "name": "stdout",
     "output_type": "stream",
     "text": [
      "0.7505186721991701\n"
     ]
    }
   ],
   "source": [
    "# Sanity check menggunakan DummyClassifier\n",
    "\n",
    "dummy_clf = DummyClassifier(strategy='most_frequent', random_state=1234)\n",
    "dummy_clf.fit(features_train, target_train)\n",
    "\n",
    "accuracy_test = model.score(features_train, target_train)\n",
    "print(accuracy_test)"
   ]
  },
  {
   "cell_type": "markdown",
   "metadata": {},
   "source": [
    "**Kesimpulan:**\n",
    "* Untuk sanity checknya, menggunakan fungsi DummyClassifier, Hasilnya skor testnya menunjukkan skor akurasi 75%\n",
    "* Skor akurasi untuk test dataset naik dari 0.7403 menjadi 0.7515 (mencapai ambang batas tingkat accuracy 0,75)"
   ]
  },
  {
   "cell_type": "code",
   "execution_count": 21,
   "metadata": {},
   "outputs": [
    {
     "name": "stdout",
     "output_type": "stream",
     "text": [
      "Laporan Analisa Klasifikasi Fungsi\n"
     ]
    },
    {
     "data": {
      "text/html": [
       "<div>\n",
       "<style scoped>\n",
       "    .dataframe tbody tr th:only-of-type {\n",
       "        vertical-align: middle;\n",
       "    }\n",
       "\n",
       "    .dataframe tbody tr th {\n",
       "        vertical-align: top;\n",
       "    }\n",
       "\n",
       "    .dataframe thead th {\n",
       "        text-align: right;\n",
       "    }\n",
       "</style>\n",
       "<table border=\"1\" class=\"dataframe\">\n",
       "  <thead>\n",
       "    <tr style=\"text-align: right;\">\n",
       "      <th></th>\n",
       "      <th>function</th>\n",
       "      <th>hyperparameters</th>\n",
       "      <th>accuracy_score validation</th>\n",
       "      <th>accuracy_score test</th>\n",
       "      <th>above_threshold?</th>\n",
       "    </tr>\n",
       "  </thead>\n",
       "  <tbody>\n",
       "    <tr>\n",
       "      <th>0</th>\n",
       "      <td>DecisionTree</td>\n",
       "      <td>None</td>\n",
       "      <td>0.7232</td>\n",
       "      <td>0.7449</td>\n",
       "      <td>False</td>\n",
       "    </tr>\n",
       "    <tr>\n",
       "      <th>0</th>\n",
       "      <td>DecisionTree</td>\n",
       "      <td>max_depth =3</td>\n",
       "      <td>0.7854</td>\n",
       "      <td>0.7792</td>\n",
       "      <td>True</td>\n",
       "    </tr>\n",
       "    <tr>\n",
       "      <th>0</th>\n",
       "      <td>RandomForest</td>\n",
       "      <td>n_estimators =50</td>\n",
       "      <td>0.7916</td>\n",
       "      <td>0.7932</td>\n",
       "      <td>True</td>\n",
       "    </tr>\n",
       "    <tr>\n",
       "      <th>0</th>\n",
       "      <td>LogisticRegression</td>\n",
       "      <td>None</td>\n",
       "      <td>0.7589</td>\n",
       "      <td>0.7403</td>\n",
       "      <td>False</td>\n",
       "    </tr>\n",
       "  </tbody>\n",
       "</table>\n",
       "</div>"
      ],
      "text/plain": [
       "             function   hyperparameters  accuracy_score validation  \\\n",
       "0        DecisionTree              None                     0.7232   \n",
       "0        DecisionTree      max_depth =3                     0.7854   \n",
       "0        RandomForest  n_estimators =50                     0.7916   \n",
       "0  LogisticRegression              None                     0.7589   \n",
       "\n",
       "   accuracy_score test above_threshold?  \n",
       "0               0.7449            False  \n",
       "0               0.7792             True  \n",
       "0               0.7932             True  \n",
       "0               0.7403            False  "
      ]
     },
     "metadata": {},
     "output_type": "display_data"
    }
   ],
   "source": [
    "print('Laporan Analisa Klasifikasi Fungsi')\n",
    "display(df_results.round(4))"
   ]
  },
  {
   "cell_type": "markdown",
   "metadata": {},
   "source": [
    "## Kesimpulan\n",
    "\n",
    "* Pemisahan dataset menjadi 3 dataset utama: (Training set, Validation set, Test set).\n",
    "    - training set  : 60% (1928, 5)\n",
    "    - validation set: 20% (643, 5)\n",
    "    - test set      : 20% (643, 5)\n",
    "* Untuk pembagian antara pengguna smart dan ultra plan:\n",
    "    - Dataset utama terbagi smart plan: 69%, ultra plan: 31%\n",
    "    - Training dataset memiliki pembagian yang sama dengan dataset utama\n",
    "    - Validasi dataset terbagi smart plan: 71%, ultra plan: 29%\n",
    "    - Test dataset terbagi smart plan: 68%, ultra plan: 32%\n",
    "* Dataset validasi memiliki lebih banyak pengguna smart plan (0) dari pada pengguna ultra plan (1).\n",
    "* Decision Tree tanpa Hyperparameters tidak memenuhi syarat karena akurasi_score adalah 73%\n",
    "* Skor akurasi tertinggi ada di RandomForest sebesar 79%\n",
    "* Skor akurasi Terendah berada di Logistic Regression sebesar 74%"
   ]
  }
 ],
 "metadata": {
  "kernelspec": {
   "display_name": "Python 3 (ipykernel)",
   "language": "python",
   "name": "python3"
  },
  "language_info": {
   "codemirror_mode": {
    "name": "ipython",
    "version": 3
   },
   "file_extension": ".py",
   "mimetype": "text/x-python",
   "name": "python",
   "nbconvert_exporter": "python",
   "pygments_lexer": "ipython3",
   "version": "3.9.5"
  },
  "toc": {
   "base_numbering": 1,
   "nav_menu": {
    "height": "52px",
    "width": "171px"
   },
   "number_sections": false,
   "sideBar": true,
   "skip_h1_title": true,
   "title_cell": "Table of Contents",
   "title_sidebar": "Contents",
   "toc_cell": false,
   "toc_position": {
    "height": "calc(100% - 180px)",
    "left": "10px",
    "top": "150px",
    "width": "255.391px"
   },
   "toc_section_display": true,
   "toc_window_display": false
  }
 },
 "nbformat": 4,
 "nbformat_minor": 2
}
