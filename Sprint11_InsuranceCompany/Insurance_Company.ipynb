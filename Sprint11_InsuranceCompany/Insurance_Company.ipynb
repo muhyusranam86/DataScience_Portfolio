{
 "cells": [
  {
   "cell_type": "markdown",
   "metadata": {},
   "source": [
    "# Deskripsi Proyek: Insurance Company\n",
    "Perusahaan asuransi bernama \"Sure Tomorrow\" ingin menyelesaikan beberapa masalah dengan bantuan *machine learning*."
   ]
  },
  {
   "cell_type": "markdown",
   "metadata": {},
   "source": [
    "## Tujuan Proyek\n",
    "- Menemukan klien yang mirip dengan kriteria klien tertentu. Tugas ini akan memudahkan perusahaan untuk melakukan pemasaran.\n",
    "- Memprediksi apakah klien baru kemungkinan akan mengambil klaim asuransi. Apakah prediksi model lebih baik daripada prediksi model *dummy*?\n",
    "- Memprediksi besaran klaim asuransi yang mungkin diterima klien baru menggunakan model regresi linear.\n",
    "- Melindungi data pribadi klien tanpa merusak model dari tugas sebelumnya. \n",
    "\n",
    "Sangatlah penting untuk mengembangkan algoritme transformasi data yang dapat mencegah penyalahgunaan informasi pribadi klien jika data tersebut jatuh ke tangan yang salah. Hal ini disebut penyembunyian data atau pengaburan data. Namun, prosedur perlindungan datanya pun perlu diperhatikan agar kualitas *model machine* learning tidak menurun. Di sini, Anda tidak perlu memilih model yang terbaik, cukup buktikan bahwa algoritme Anda bekerja secara akurat."
   ]
  },
  {
   "cell_type": "markdown",
   "metadata": {},
   "source": [
    "## Pra-pemrosesan & Eksplorasi Data\n",
    "\n",
    "### Inisialisasi"
   ]
  },
  {
   "cell_type": "code",
   "execution_count": 1,
   "metadata": {},
   "outputs": [
    {
     "name": "stdout",
     "output_type": "stream",
     "text": [
      "Requirement already satisfied: scikit-learn in /opt/conda/lib/python3.9/site-packages (0.24.1)\n",
      "Collecting scikit-learn\n",
      "  Downloading scikit_learn-1.2.2-cp39-cp39-manylinux_2_17_x86_64.manylinux2014_x86_64.whl (9.6 MB)\n",
      "\u001b[K     |████████████████████████████████| 9.6 MB 21.9 MB/s eta 0:00:01\n",
      "\u001b[?25hCollecting joblib>=1.1.1\n",
      "  Downloading joblib-1.2.0-py3-none-any.whl (297 kB)\n",
      "\u001b[K     |████████████████████████████████| 297 kB 61.8 MB/s eta 0:00:01\n",
      "\u001b[?25hRequirement already satisfied: numpy>=1.17.3 in /opt/conda/lib/python3.9/site-packages (from scikit-learn) (1.21.1)\n",
      "Requirement already satisfied: threadpoolctl>=2.0.0 in /opt/conda/lib/python3.9/site-packages (from scikit-learn) (3.1.0)\n",
      "Requirement already satisfied: scipy>=1.3.2 in /opt/conda/lib/python3.9/site-packages (from scikit-learn) (1.8.0)\n",
      "Installing collected packages: joblib, scikit-learn\n",
      "  Attempting uninstall: joblib\n",
      "    Found existing installation: joblib 1.1.0\n",
      "    Uninstalling joblib-1.1.0:\n",
      "\u001b[31mERROR: Could not install packages due to an OSError: [Errno 13] Permission denied: 'INSTALLER'\n",
      "Consider using the `--user` option or check the permissions.\n",
      "\u001b[0m\n",
      "Note: you may need to restart the kernel to use updated packages.\n"
     ]
    }
   ],
   "source": [
    "pip install scikit-learn --upgrade"
   ]
  },
  {
   "cell_type": "code",
   "execution_count": 2,
   "metadata": {},
   "outputs": [],
   "source": [
    "# memuat semua library\n",
    "\n",
    "import pandas as pd\n",
    "import numpy as np\n",
    "import seaborn as sns\n",
    "import matplotlib.pyplot as plt\n",
    "\n",
    "import sklearn.linear_model\n",
    "import sklearn.metrics\n",
    "import sklearn.neighbors\n",
    "import sklearn.preprocessing\n",
    "import math\n",
    "\n",
    "import warnings\n",
    "warnings.filterwarnings('ignore')\n",
    "pd.set_option('display.max_rows',100)"
   ]
  },
  {
   "cell_type": "code",
   "execution_count": 3,
   "metadata": {},
   "outputs": [],
   "source": [
    "#import libraries\n",
    "\n",
    "from sklearn.model_selection import train_test_split\n",
    "from sklearn.neighbors import KNeighborsClassifier, NearestNeighbors\n",
    "from sklearn import metrics\n",
    "from sklearn.preprocessing import StandardScaler\n",
    "from sklearn.linear_model import LinearRegression\n",
    "\n",
    "from sklearn.metrics import r2_score\n",
    "from sklearn.metrics import mean_squared_error\n",
    "\n",
    "from IPython.display import display"
   ]
  },
  {
   "cell_type": "markdown",
   "metadata": {},
   "source": [
    "### Memuat Data\n",
    "Muat data dan lakukan pemeriksaan untuk memastikan data bebas dari permasalahan."
   ]
  },
  {
   "cell_type": "code",
   "execution_count": 4,
   "metadata": {},
   "outputs": [],
   "source": [
    "# membaca berkas dan menyimpannya ke df\n",
    "\n",
    "df = pd.read_csv('/datasets/insurance_us.csv')"
   ]
  },
  {
   "cell_type": "code",
   "execution_count": 5,
   "metadata": {},
   "outputs": [],
   "source": [
    "# mengganti nama kolom untuk membuat kode terlihat lebih konsisten dengan gayanya.\n",
    "\n",
    "df = df.rename(columns={'Gender': 'gender', 'Age': 'age', 'Salary': 'income', 'Family members': 'family_members', 'Insurance benefits': 'insurance_benefits'})"
   ]
  },
  {
   "cell_type": "code",
   "execution_count": 6,
   "metadata": {},
   "outputs": [],
   "source": [
    "# membuat fungsi pengolahan data\n",
    "\n",
    "def display_information(df):\n",
    "    print('Head:')\n",
    "    display(df.head())\n",
    "    print ('-'*100)\n",
    "    print('Info:')\n",
    "    print()\n",
    "    display(df.info())\n",
    "    print ('-'*100)\n",
    "    print('Describe:')\n",
    "    display(df.describe())\n",
    "    print ('-'*100)\n",
    "    print('Columns with nulls:')\n",
    "    display(get_precent_of_na_df(df,4))\n",
    "    print ('-'*100)\n",
    "    print('Shape:')\n",
    "    print(df.shape)\n",
    "    print ('-'*100)\n",
    "    print('Duplicated:')\n",
    "    print('Duplicate rows:',df.duplicated().sum(),', Duplicate percentage:', (df.duplicated().sum()*100) / df.shape[0],'%')\n",
    "    \n",
    "def get_precent_of_na_df(df,num):\n",
    "    df_nulls = pd.DataFrame(df.isna().sum(),columns=['Missing Values'])\n",
    "    df_nulls['Percent of Nulls'] = round(df_nulls['Missing Values'] / df.shape[0],num) *100\n",
    "    return df_nulls\n",
    "\n",
    "print_separator = '*' * 100"
   ]
  },
  {
   "cell_type": "code",
   "execution_count": 7,
   "metadata": {},
   "outputs": [
    {
     "name": "stdout",
     "output_type": "stream",
     "text": [
      "Head:\n"
     ]
    },
    {
     "data": {
      "text/html": [
       "<div>\n",
       "<style scoped>\n",
       "    .dataframe tbody tr th:only-of-type {\n",
       "        vertical-align: middle;\n",
       "    }\n",
       "\n",
       "    .dataframe tbody tr th {\n",
       "        vertical-align: top;\n",
       "    }\n",
       "\n",
       "    .dataframe thead th {\n",
       "        text-align: right;\n",
       "    }\n",
       "</style>\n",
       "<table border=\"1\" class=\"dataframe\">\n",
       "  <thead>\n",
       "    <tr style=\"text-align: right;\">\n",
       "      <th></th>\n",
       "      <th>gender</th>\n",
       "      <th>age</th>\n",
       "      <th>income</th>\n",
       "      <th>family_members</th>\n",
       "      <th>insurance_benefits</th>\n",
       "    </tr>\n",
       "  </thead>\n",
       "  <tbody>\n",
       "    <tr>\n",
       "      <th>0</th>\n",
       "      <td>1</td>\n",
       "      <td>41.0</td>\n",
       "      <td>49600.0</td>\n",
       "      <td>1</td>\n",
       "      <td>0</td>\n",
       "    </tr>\n",
       "    <tr>\n",
       "      <th>1</th>\n",
       "      <td>0</td>\n",
       "      <td>46.0</td>\n",
       "      <td>38000.0</td>\n",
       "      <td>1</td>\n",
       "      <td>1</td>\n",
       "    </tr>\n",
       "    <tr>\n",
       "      <th>2</th>\n",
       "      <td>0</td>\n",
       "      <td>29.0</td>\n",
       "      <td>21000.0</td>\n",
       "      <td>0</td>\n",
       "      <td>0</td>\n",
       "    </tr>\n",
       "    <tr>\n",
       "      <th>3</th>\n",
       "      <td>0</td>\n",
       "      <td>21.0</td>\n",
       "      <td>41700.0</td>\n",
       "      <td>2</td>\n",
       "      <td>0</td>\n",
       "    </tr>\n",
       "    <tr>\n",
       "      <th>4</th>\n",
       "      <td>1</td>\n",
       "      <td>28.0</td>\n",
       "      <td>26100.0</td>\n",
       "      <td>0</td>\n",
       "      <td>0</td>\n",
       "    </tr>\n",
       "  </tbody>\n",
       "</table>\n",
       "</div>"
      ],
      "text/plain": [
       "   gender   age   income  family_members  insurance_benefits\n",
       "0       1  41.0  49600.0               1                   0\n",
       "1       0  46.0  38000.0               1                   1\n",
       "2       0  29.0  21000.0               0                   0\n",
       "3       0  21.0  41700.0               2                   0\n",
       "4       1  28.0  26100.0               0                   0"
      ]
     },
     "metadata": {},
     "output_type": "display_data"
    },
    {
     "name": "stdout",
     "output_type": "stream",
     "text": [
      "----------------------------------------------------------------------------------------------------\n",
      "Info:\n",
      "\n",
      "<class 'pandas.core.frame.DataFrame'>\n",
      "RangeIndex: 5000 entries, 0 to 4999\n",
      "Data columns (total 5 columns):\n",
      " #   Column              Non-Null Count  Dtype  \n",
      "---  ------              --------------  -----  \n",
      " 0   gender              5000 non-null   int64  \n",
      " 1   age                 5000 non-null   float64\n",
      " 2   income              5000 non-null   float64\n",
      " 3   family_members      5000 non-null   int64  \n",
      " 4   insurance_benefits  5000 non-null   int64  \n",
      "dtypes: float64(2), int64(3)\n",
      "memory usage: 195.4 KB\n"
     ]
    },
    {
     "data": {
      "text/plain": [
       "None"
      ]
     },
     "metadata": {},
     "output_type": "display_data"
    },
    {
     "name": "stdout",
     "output_type": "stream",
     "text": [
      "----------------------------------------------------------------------------------------------------\n",
      "Describe:\n"
     ]
    },
    {
     "data": {
      "text/html": [
       "<div>\n",
       "<style scoped>\n",
       "    .dataframe tbody tr th:only-of-type {\n",
       "        vertical-align: middle;\n",
       "    }\n",
       "\n",
       "    .dataframe tbody tr th {\n",
       "        vertical-align: top;\n",
       "    }\n",
       "\n",
       "    .dataframe thead th {\n",
       "        text-align: right;\n",
       "    }\n",
       "</style>\n",
       "<table border=\"1\" class=\"dataframe\">\n",
       "  <thead>\n",
       "    <tr style=\"text-align: right;\">\n",
       "      <th></th>\n",
       "      <th>gender</th>\n",
       "      <th>age</th>\n",
       "      <th>income</th>\n",
       "      <th>family_members</th>\n",
       "      <th>insurance_benefits</th>\n",
       "    </tr>\n",
       "  </thead>\n",
       "  <tbody>\n",
       "    <tr>\n",
       "      <th>count</th>\n",
       "      <td>5000.000000</td>\n",
       "      <td>5000.000000</td>\n",
       "      <td>5000.000000</td>\n",
       "      <td>5000.000000</td>\n",
       "      <td>5000.000000</td>\n",
       "    </tr>\n",
       "    <tr>\n",
       "      <th>mean</th>\n",
       "      <td>0.499000</td>\n",
       "      <td>30.952800</td>\n",
       "      <td>39916.360000</td>\n",
       "      <td>1.194200</td>\n",
       "      <td>0.148000</td>\n",
       "    </tr>\n",
       "    <tr>\n",
       "      <th>std</th>\n",
       "      <td>0.500049</td>\n",
       "      <td>8.440807</td>\n",
       "      <td>9900.083569</td>\n",
       "      <td>1.091387</td>\n",
       "      <td>0.463183</td>\n",
       "    </tr>\n",
       "    <tr>\n",
       "      <th>min</th>\n",
       "      <td>0.000000</td>\n",
       "      <td>18.000000</td>\n",
       "      <td>5300.000000</td>\n",
       "      <td>0.000000</td>\n",
       "      <td>0.000000</td>\n",
       "    </tr>\n",
       "    <tr>\n",
       "      <th>25%</th>\n",
       "      <td>0.000000</td>\n",
       "      <td>24.000000</td>\n",
       "      <td>33300.000000</td>\n",
       "      <td>0.000000</td>\n",
       "      <td>0.000000</td>\n",
       "    </tr>\n",
       "    <tr>\n",
       "      <th>50%</th>\n",
       "      <td>0.000000</td>\n",
       "      <td>30.000000</td>\n",
       "      <td>40200.000000</td>\n",
       "      <td>1.000000</td>\n",
       "      <td>0.000000</td>\n",
       "    </tr>\n",
       "    <tr>\n",
       "      <th>75%</th>\n",
       "      <td>1.000000</td>\n",
       "      <td>37.000000</td>\n",
       "      <td>46600.000000</td>\n",
       "      <td>2.000000</td>\n",
       "      <td>0.000000</td>\n",
       "    </tr>\n",
       "    <tr>\n",
       "      <th>max</th>\n",
       "      <td>1.000000</td>\n",
       "      <td>65.000000</td>\n",
       "      <td>79000.000000</td>\n",
       "      <td>6.000000</td>\n",
       "      <td>5.000000</td>\n",
       "    </tr>\n",
       "  </tbody>\n",
       "</table>\n",
       "</div>"
      ],
      "text/plain": [
       "            gender          age        income  family_members  \\\n",
       "count  5000.000000  5000.000000   5000.000000     5000.000000   \n",
       "mean      0.499000    30.952800  39916.360000        1.194200   \n",
       "std       0.500049     8.440807   9900.083569        1.091387   \n",
       "min       0.000000    18.000000   5300.000000        0.000000   \n",
       "25%       0.000000    24.000000  33300.000000        0.000000   \n",
       "50%       0.000000    30.000000  40200.000000        1.000000   \n",
       "75%       1.000000    37.000000  46600.000000        2.000000   \n",
       "max       1.000000    65.000000  79000.000000        6.000000   \n",
       "\n",
       "       insurance_benefits  \n",
       "count         5000.000000  \n",
       "mean             0.148000  \n",
       "std              0.463183  \n",
       "min              0.000000  \n",
       "25%              0.000000  \n",
       "50%              0.000000  \n",
       "75%              0.000000  \n",
       "max              5.000000  "
      ]
     },
     "metadata": {},
     "output_type": "display_data"
    },
    {
     "name": "stdout",
     "output_type": "stream",
     "text": [
      "----------------------------------------------------------------------------------------------------\n",
      "Columns with nulls:\n"
     ]
    },
    {
     "data": {
      "text/html": [
       "<div>\n",
       "<style scoped>\n",
       "    .dataframe tbody tr th:only-of-type {\n",
       "        vertical-align: middle;\n",
       "    }\n",
       "\n",
       "    .dataframe tbody tr th {\n",
       "        vertical-align: top;\n",
       "    }\n",
       "\n",
       "    .dataframe thead th {\n",
       "        text-align: right;\n",
       "    }\n",
       "</style>\n",
       "<table border=\"1\" class=\"dataframe\">\n",
       "  <thead>\n",
       "    <tr style=\"text-align: right;\">\n",
       "      <th></th>\n",
       "      <th>Missing Values</th>\n",
       "      <th>Percent of Nulls</th>\n",
       "    </tr>\n",
       "  </thead>\n",
       "  <tbody>\n",
       "    <tr>\n",
       "      <th>gender</th>\n",
       "      <td>0</td>\n",
       "      <td>0.0</td>\n",
       "    </tr>\n",
       "    <tr>\n",
       "      <th>age</th>\n",
       "      <td>0</td>\n",
       "      <td>0.0</td>\n",
       "    </tr>\n",
       "    <tr>\n",
       "      <th>income</th>\n",
       "      <td>0</td>\n",
       "      <td>0.0</td>\n",
       "    </tr>\n",
       "    <tr>\n",
       "      <th>family_members</th>\n",
       "      <td>0</td>\n",
       "      <td>0.0</td>\n",
       "    </tr>\n",
       "    <tr>\n",
       "      <th>insurance_benefits</th>\n",
       "      <td>0</td>\n",
       "      <td>0.0</td>\n",
       "    </tr>\n",
       "  </tbody>\n",
       "</table>\n",
       "</div>"
      ],
      "text/plain": [
       "                    Missing Values  Percent of Nulls\n",
       "gender                           0               0.0\n",
       "age                              0               0.0\n",
       "income                           0               0.0\n",
       "family_members                   0               0.0\n",
       "insurance_benefits               0               0.0"
      ]
     },
     "metadata": {},
     "output_type": "display_data"
    },
    {
     "name": "stdout",
     "output_type": "stream",
     "text": [
      "----------------------------------------------------------------------------------------------------\n",
      "Shape:\n",
      "(5000, 5)\n",
      "----------------------------------------------------------------------------------------------------\n",
      "Duplicated:\n",
      "Duplicate rows: 153 , Duplicate percentage: 3.06 %\n"
     ]
    }
   ],
   "source": [
    "display_information(df)"
   ]
  },
  {
   "cell_type": "markdown",
   "metadata": {},
   "source": [
    "**Kesimpulan:**\n",
    "- Terdapat 153 baris yang terduplikasi, yaitu 3,06% dari total dataset.\n",
    "- Hapus baris yang terduplikasi dan dilakukan pengecekan.\n",
    "- Tipe data untuk kolom `age` kurang sesuai, bertipe: float diubah ke int."
   ]
  },
  {
   "cell_type": "markdown",
   "metadata": {},
   "source": [
    "### Pra-pemrosesan data"
   ]
  },
  {
   "cell_type": "code",
   "execution_count": 8,
   "metadata": {},
   "outputs": [
    {
     "name": "stdout",
     "output_type": "stream",
     "text": [
      "(4847, 5)\n",
      "Duplicated:\n",
      "\u001b[1mWe have 0 duplicated rows.\u001b[0m\n"
     ]
    }
   ],
   "source": [
    "df = df.drop_duplicates()\n",
    "print(df.shape)\n",
    "\n",
    "print('Duplicated:')\n",
    "print(\"\\033[1m\" + 'We have {} duplicated rows.'.format(df.duplicated().sum()) + \"\\033[0m\")"
   ]
  },
  {
   "cell_type": "code",
   "execution_count": 9,
   "metadata": {},
   "outputs": [
    {
     "data": {
      "text/plain": [
       "gender                  int64\n",
       "age                     int64\n",
       "income                float64\n",
       "family_members          int64\n",
       "insurance_benefits      int64\n",
       "dtype: object"
      ]
     },
     "execution_count": 9,
     "metadata": {},
     "output_type": "execute_result"
    }
   ],
   "source": [
    "# mengganti tipe kolom yang tidak sesuai\n",
    "\n",
    "df['age'] = df['age'].astype('int')\n",
    "df.dtypes"
   ]
  },
  {
   "cell_type": "markdown",
   "metadata": {},
   "source": [
    "**Kesimpulan:**\n",
    "- Tidak terdapat lagi baris yang terduplikat, 153 baris duplikat telah dihapus, yaitu 3,06% dari total dataset.\n",
    "- Tipe data pada kolom `age` sudah diganti menjadi (int), meskipun tidak terlalu penting."
   ]
  },
  {
   "cell_type": "markdown",
   "metadata": {},
   "source": [
    "### Exploratory Data Analysis"
   ]
  },
  {
   "cell_type": "markdown",
   "metadata": {},
   "source": [
    "Mari kita periksa dengan cepat, apakah ada kelompok pelanggan tertentu dengan melihat plot pasangan?"
   ]
  },
  {
   "cell_type": "code",
   "execution_count": 10,
   "metadata": {},
   "outputs": [
    {
     "data": {
      "image/png": "[encoded data removed]",
      "text/plain": [
       "<Figure size 864x864 with 30 Axes>"
      ]
     },
     "metadata": {
      "needs_background": "light"
     },
     "output_type": "display_data"
    }
   ],
   "source": [
    "g = sns.pairplot(df, kind='hist')\n",
    "g.fig.set_size_inches(12, 12)"
   ]
  },
  {
   "cell_type": "markdown",
   "metadata": {},
   "source": [
    "Baiklah, sepertinya agak sulit untuk melihat kelompok (klaster) yang jelas mengingat sulitnya menggabungkan beberapa variabel secara bersamaan (untuk menganalisis distribusi multivariat). Namun, itulah gunanya LA dan ML di sini."
   ]
  },
  {
   "cell_type": "code",
   "execution_count": 11,
   "metadata": {},
   "outputs": [
    {
     "data": {
      "image/png": "[encoded data removed]",
      "text/plain": [
       "<Figure size 720x288 with 1 Axes>"
      ]
     },
     "metadata": {
      "needs_background": "light"
     },
     "output_type": "display_data"
    }
   ],
   "source": [
    "plt.figure(figsize=(10,4))\n",
    "ax = df.corr()['insurance_benefits'].sort_values(ascending = False).plot(kind='bar')\n",
    "ax.set(title=\"Hubungan insurance benefits dengan berbagai faktor\",ylabel='insurance_benefits');"
   ]
  },
  {
   "cell_type": "markdown",
   "metadata": {},
   "source": [
    "**Kesimpulan:**\n",
    "Berdasarkan grafik di atas, dapat diambil kesimpulan sebagai berikut;\n",
    "- `insurance benefits` memiliki korelasi positif yang kuat dengan `age`.\n",
    "- `insurance benefits` memiliki korelasi positif yang sangat lemah dengan `gender`.\n",
    "- `insurance benefits` memiliki korelasi negatif yang sangat lemah dengan `family_members` dan `income`."
   ]
  },
  {
   "cell_type": "markdown",
   "metadata": {},
   "source": [
    "# Tugas 1. Klien yang Mirip"
   ]
  },
  {
   "cell_type": "markdown",
   "metadata": {},
   "source": [
    "Dalam bahasa pemrograman ML, penting untuk mengembangkan prosedur yang bisa menentukan *k-nearest neighbors* (objek) pada objek tertentu berdasarkan jarak antar objek.\n",
    "\n",
    "Anda mungkin ingin mengulas kembali pelajaran berikut (bab -> pelajaran)\n",
    "- Jarak Antar Vektor -> Jarak Euklides\n",
    "- Jarak Antar Vektor -> Jarak Manhattan\n",
    "\n",
    "Untuk menyelesaikan tugas ini, kita bisa mencoba beberapa metrik jarak."
   ]
  },
  {
   "cell_type": "markdown",
   "metadata": {},
   "source": [
    "Buatlah sebuah fungsi yang menampilkan *k-nearest neighbors* terdekat untuk objek ke-n berdasarkan metrik jarak tertentu.  Besarnya klaim asuransi yang diterima tidak perlu diperhitungkan dalam tugas ini.\n",
    "\n",
    "Anda bisa menggunakan implementasi algoritme kNN yang sudah tersedia di Scikit-learn  (periksa [tautan](https://scikit-learn.org/stable/modules/generated/sklearn.neighbors.NearestNeighbors.html#sklearn.neighbors.NearestNeighbors) ini) atau menggunakan punya Anda sendiri.\n",
    "\n",
    "Uji algoritme tersebut untuk empat kombinasi dari dua kasus\n",
    "- Penskalaan\n",
    "  - data tidak diskalakan\n",
    "  - data diskalakan dengan [MaxAbsScaler](https://scikit-learn.org/stable/modules/generated/sklearn.preprocessing.MaxAbsScaler.html) \n",
    "- Metrik Jarak\n",
    "  - Euklides\n",
    "  - Manhattan\n",
    "\n",
    "Jawablah pertanyaan-pertanyaan berikut:\n",
    "- Apakah data yang tidak berskala memengaruhi algoritme kNN? Jika berpengaruh, lalu bagaimanakah bentuknya?\n",
    "- Seberapa mirip hasil yang Anda dapatkan dari metrik Euklides dengan saat Anda menggunakan metrik jarak Manhattan (abaikan ada atau tidaknya skala)?"
   ]
  },
  {
   "cell_type": "code",
   "execution_count": 12,
   "metadata": {},
   "outputs": [],
   "source": [
    "feature_names = ['gender', 'age', 'income', 'family_members']"
   ]
  },
  {
   "cell_type": "code",
   "execution_count": 13,
   "metadata": {},
   "outputs": [],
   "source": [
    "def get_knn(df, n, k, metric):\n",
    "    \n",
    "    \"\"\"\n",
    "    Menampilkan k nearest neighbors\n",
    "\n",
    "    :param df: DataFrame Pandas digunakan untuk menemukan objek-objek yang mirip di dalamnya\n",
    "    :param n: nomor objek yang dicari k nearest neighbors\n",
    "    :param k: jumlah k nearest neighbors yang ditampilkan\n",
    "    :param metric: nama metrik jarak\n",
    "    \"\"\"\n",
    "    np.random.seed(42)\n",
    "    nbrs = NearestNeighbors(n_neighbors=k, metric=metric).fit(df)\n",
    "    nbrs_distances, nbrs_indices = nbrs.kneighbors([df.iloc[n][feature_names]], k, return_distance=True)\n",
    "    \n",
    "    df_res = pd.concat([\n",
    "        df.iloc[nbrs_indices[0]], \n",
    "        pd.DataFrame(nbrs_distances.T, index=nbrs_indices[0], columns=['distance'])\n",
    "        ], axis=1)\n",
    "    \n",
    "    return df_res"
   ]
  },
  {
   "cell_type": "markdown",
   "metadata": {},
   "source": [
    "Mengatur skala data."
   ]
  },
  {
   "cell_type": "code",
   "execution_count": 14,
   "metadata": {},
   "outputs": [],
   "source": [
    "feature_names = ['gender', 'age', 'income', 'family_members']\n",
    "\n",
    "transformer_mas = sklearn.preprocessing.MaxAbsScaler().fit(df[feature_names].to_numpy())\n",
    "\n",
    "df_scaled = df.copy()\n",
    "df_scaled.loc[:, feature_names] = transformer_mas.transform(df[feature_names].to_numpy())"
   ]
  },
  {
   "cell_type": "code",
   "execution_count": 15,
   "metadata": {},
   "outputs": [
    {
     "data": {
      "text/html": [
       "<div>\n",
       "<style scoped>\n",
       "    .dataframe tbody tr th:only-of-type {\n",
       "        vertical-align: middle;\n",
       "    }\n",
       "\n",
       "    .dataframe tbody tr th {\n",
       "        vertical-align: top;\n",
       "    }\n",
       "\n",
       "    .dataframe thead th {\n",
       "        text-align: right;\n",
       "    }\n",
       "</style>\n",
       "<table border=\"1\" class=\"dataframe\">\n",
       "  <thead>\n",
       "    <tr style=\"text-align: right;\">\n",
       "      <th></th>\n",
       "      <th>gender</th>\n",
       "      <th>age</th>\n",
       "      <th>income</th>\n",
       "      <th>family_members</th>\n",
       "      <th>insurance_benefits</th>\n",
       "    </tr>\n",
       "  </thead>\n",
       "  <tbody>\n",
       "    <tr>\n",
       "      <th>2435</th>\n",
       "      <td>0.0</td>\n",
       "      <td>0.384615</td>\n",
       "      <td>0.594937</td>\n",
       "      <td>0.166667</td>\n",
       "      <td>0</td>\n",
       "    </tr>\n",
       "    <tr>\n",
       "      <th>2569</th>\n",
       "      <td>0.0</td>\n",
       "      <td>0.461538</td>\n",
       "      <td>0.388608</td>\n",
       "      <td>0.666667</td>\n",
       "      <td>0</td>\n",
       "    </tr>\n",
       "    <tr>\n",
       "      <th>2067</th>\n",
       "      <td>0.0</td>\n",
       "      <td>0.492308</td>\n",
       "      <td>0.275949</td>\n",
       "      <td>0.000000</td>\n",
       "      <td>0</td>\n",
       "    </tr>\n",
       "    <tr>\n",
       "      <th>4888</th>\n",
       "      <td>0.0</td>\n",
       "      <td>0.276923</td>\n",
       "      <td>0.567089</td>\n",
       "      <td>0.500000</td>\n",
       "      <td>0</td>\n",
       "    </tr>\n",
       "    <tr>\n",
       "      <th>3275</th>\n",
       "      <td>1.0</td>\n",
       "      <td>0.646154</td>\n",
       "      <td>0.651899</td>\n",
       "      <td>0.166667</td>\n",
       "      <td>1</td>\n",
       "    </tr>\n",
       "  </tbody>\n",
       "</table>\n",
       "</div>"
      ],
      "text/plain": [
       "      gender       age    income  family_members  insurance_benefits\n",
       "2435     0.0  0.384615  0.594937        0.166667                   0\n",
       "2569     0.0  0.461538  0.388608        0.666667                   0\n",
       "2067     0.0  0.492308  0.275949        0.000000                   0\n",
       "4888     0.0  0.276923  0.567089        0.500000                   0\n",
       "3275     1.0  0.646154  0.651899        0.166667                   1"
      ]
     },
     "execution_count": 15,
     "metadata": {},
     "output_type": "execute_result"
    }
   ],
   "source": [
    "df_scaled.sample(5)"
   ]
  },
  {
   "cell_type": "markdown",
   "metadata": {},
   "source": [
    "Sekarang, mari kita dapatkan catatan yang mirip untuk setiap kombinasi yang ada"
   ]
  },
  {
   "cell_type": "code",
   "execution_count": 16,
   "metadata": {},
   "outputs": [],
   "source": [
    "def check_knn_results(df, k, n, scaling='Scaled', metrics=[]):\n",
    "\n",
    "    for metric in metrics:\n",
    "        print('{} results for {}'.format(scaling, metric))\n",
    "        print('-'*50)\n",
    "        print(get_knn(df, n, k, metric))\n",
    "        print()"
   ]
  },
  {
   "cell_type": "code",
   "execution_count": 17,
   "metadata": {},
   "outputs": [],
   "source": [
    "df = df.reset_index(drop=True)"
   ]
  },
  {
   "cell_type": "code",
   "execution_count": 18,
   "metadata": {},
   "outputs": [
    {
     "name": "stdout",
     "output_type": "stream",
     "text": [
      "Unscaled results for euclidean\n",
      "--------------------------------------------------\n",
      "      gender  age   income  family_members  distance\n",
      "100        0   19  37300.0               1  0.000000\n",
      "1803       0   20  37300.0               2  1.414214\n",
      "4147       1   19  37300.0               2  1.414214\n",
      "2569       1   19  37300.0               0  1.414214\n",
      "1078       0   22  37300.0               3  3.605551\n",
      "\n",
      "Unscaled results for manhattan\n",
      "--------------------------------------------------\n",
      "      gender  age   income  family_members  distance\n",
      "100        0   19  37300.0               1       0.0\n",
      "2569       1   19  37300.0               0       2.0\n",
      "1803       0   20  37300.0               2       2.0\n",
      "4147       1   19  37300.0               2       2.0\n",
      "1078       0   22  37300.0               3       5.0\n",
      "\n"
     ]
    }
   ],
   "source": [
    "metrics = ['euclidean','manhattan']\n",
    "check_knn_results(df[feature_names], k=5, n=100, scaling='Unscaled', metrics=metrics)"
   ]
  },
  {
   "cell_type": "markdown",
   "metadata": {},
   "source": [
    "Jawab pertanyaannya"
   ]
  },
  {
   "cell_type": "markdown",
   "metadata": {},
   "source": [
    "**Apakah data yang tidak berskala memengaruhi algoritme kNN? Jika berpengaruh, lalu bagaimanakah bentuknya?** \n",
    "\n",
    "Ya, metrik jarak euclidean dan manhattan tanpa skala dipengaruhi oleh `income`, yang berada pada skala yang berbeda dibandingkan dengan fitur lainnya."
   ]
  },
  {
   "cell_type": "markdown",
   "metadata": {},
   "source": [
    "**Seberapa mirip hasil yang Anda dapatkan dari metrik Euklides dengan saat Anda menggunakan metrik jarak Manhattan (abaikan ada atau tidaknya skala)?** \n",
    "\n",
    "Ada perbedaan yang mencolok antara 2 metrik terlepas dari penskalaannya. Jarak Euclidean menghasilkan nilai yang lebih besar dari Manhattan."
   ]
  },
  {
   "cell_type": "markdown",
   "metadata": {},
   "source": [
    "# Tugas 2. Apakah klien kemungkinan menerima klaim asuransi?"
   ]
  },
  {
   "cell_type": "markdown",
   "metadata": {},
   "source": [
    "Dalam konteks *machine learning*, tugas ini sama seperti tugas klasifikasi biner."
   ]
  },
  {
   "cell_type": "markdown",
   "metadata": {},
   "source": [
    "Dengan target insurance_benefits yang lebih dari nol, coba evaluasi apakah model klasifikasi kNN merupakan pendekatan yang lebih baik daripada model *dummy*.\n",
    "\n",
    "Instruksi:\n",
    "- Buat pengklasifikasi berbasis KNN dan ukur kualitasnya dengan metrik F1 untuk k=1..10 bagi data asli dan data yang diskalakan. Akan menarik untuk melihat bagaimana k dapat memengaruhi metrik evaluasi, dan apakah penskalaan data membuat hasilnya berbeda. Gunakan implementasi algoritme klasifikasi kNN yang tersedia di Scikit-learn (periksa [tautan ini](https://scikit-learn.org/stable/modules/generated/sklearn.neighbors.KNeighborsClassifier.html)) atau gunakan milik Anda sendiri.\n",
    "- Buat model *dummy* yang acak untuk kasus ini. Model tersebut harusnya menampilkan \"1\" dengan beberapa probabilitas. Mari kita uji model dengan empat nilai probabilitas: 0, probabilitas membayar benefit asuransi apa pun; 0,5; 1.\n",
    "\n",
    "Probabilitas membayar klaim asuransi dapat didefinisikan sebagai\n",
    "\n",
    "$$\n",
    "P\\{\\text{klaim asuransi yang diterima}\\}=\\frac{\\text{jumlah klien yang menerima klaim asuransi}}{\\text{jumlah klien secara keseluruhan}}.\n",
    "$$\n",
    "\n",
    "Pisahkan keseluruhan data menjadi 70:30 untuk proporsi *training* dan *test set*."
   ]
  },
  {
   "cell_type": "code",
   "execution_count": 19,
   "metadata": {},
   "outputs": [],
   "source": [
    "# Hitung tagetnya\n",
    "\n",
    "df['insurance_benefits_received'] = (df['insurance_benefits'] > 0.5).astype(int)"
   ]
  },
  {
   "cell_type": "code",
   "execution_count": 20,
   "metadata": {},
   "outputs": [
    {
     "data": {
      "text/plain": [
       "0    4284\n",
       "1     563\n",
       "Name: insurance_benefits_received, dtype: int64"
      ]
     },
     "execution_count": 20,
     "metadata": {},
     "output_type": "execute_result"
    }
   ],
   "source": [
    "# periksa ketidakseimbangan kelas dengan value_counts()\n",
    "\n",
    "df['insurance_benefits_received'].value_counts()"
   ]
  },
  {
   "cell_type": "code",
   "execution_count": 21,
   "metadata": {},
   "outputs": [],
   "source": [
    "def eval_classifier(y_true, y_pred):\n",
    "    \n",
    "    f1_score = sklearn.metrics.f1_score(y_true, y_pred)\n",
    "    print(f'F1: {f1_score:.2f}')\n",
    "    \n",
    "# jika Anda memiliki masalah dengan baris berikut, muat ulang kernel dan jalankan notebook kembali\n",
    "    cm = sklearn.metrics.confusion_matrix(y_true, y_pred, normalize='all')\n",
    "    print('Matriks Kesalahan')\n",
    "    print(cm)"
   ]
  },
  {
   "cell_type": "code",
   "execution_count": 22,
   "metadata": {},
   "outputs": [],
   "source": [
    "# menghasilkan output dari model acak\n",
    "\n",
    "def rnd_model_predict(P, size, seed=42):\n",
    "\n",
    "    rng = np.random.default_rng(seed=seed)\n",
    "    return rng.binomial(n=1, p=P, size=size)"
   ]
  },
  {
   "cell_type": "code",
   "execution_count": 23,
   "metadata": {},
   "outputs": [
    {
     "name": "stdout",
     "output_type": "stream",
     "text": [
      "Probabilitasnya: 0.00\n",
      "F1: 0.00\n",
      "Matriks Kesalahan\n",
      "[[0.88384568 0.        ]\n",
      " [0.11615432 0.        ]]\n",
      "\n",
      "Probabilitasnya: 0.12\n",
      "F1: 0.13\n",
      "Matriks Kesalahan\n",
      "[[0.78502166 0.09882401]\n",
      " [0.1017124  0.01444192]]\n",
      "\n",
      "Probabilitasnya: 0.50\n",
      "F1: 0.19\n",
      "Matriks Kesalahan\n",
      "[[0.44873117 0.4351145 ]\n",
      " [0.05921188 0.05694244]]\n",
      "\n",
      "Probabilitasnya: 1.00\n",
      "F1: 0.21\n",
      "Matriks Kesalahan\n",
      "[[0.         0.88384568]\n",
      " [0.         0.11615432]]\n",
      "\n"
     ]
    }
   ],
   "source": [
    "for P in [0, df['insurance_benefits_received'].sum() / len(df), 0.5, 1]:\n",
    "\n",
    "    print(f'Probabilitasnya: {P:.2f}')\n",
    "    y_pred_rnd = rnd_model_predict(P, size=len(df), seed=42)\n",
    "        \n",
    "    eval_classifier(df['insurance_benefits_received'], y_pred_rnd)\n",
    "    \n",
    "    print()"
   ]
  },
  {
   "cell_type": "code",
   "execution_count": 24,
   "metadata": {},
   "outputs": [],
   "source": [
    "train, valid = (train_test_split(df, stratify=df['insurance_benefits_received'], test_size=0.3, random_state=42))\n",
    "\n",
    "features_train, target_train = train[feature_names], train['insurance_benefits_received']\n",
    "features_valid, target_valid = valid[feature_names], valid['insurance_benefits_received']"
   ]
  },
  {
   "cell_type": "code",
   "execution_count": 25,
   "metadata": {},
   "outputs": [
    {
     "data": {
      "text/plain": [
       "((3392, 4), (3392,), (1455, 4), (1455,))"
      ]
     },
     "execution_count": 25,
     "metadata": {},
     "output_type": "execute_result"
    }
   ],
   "source": [
    "features_train.shape, target_train.shape, features_valid.shape, target_valid.shape"
   ]
  },
  {
   "cell_type": "code",
   "execution_count": 26,
   "metadata": {},
   "outputs": [],
   "source": [
    "def build_model(train, target, test, n_neighbors):\n",
    "    \"\"\"\n",
    "    Sesuaikan model dan buat prediksi\n",
    "    \"\"\"\n",
    "    np.random.seed(42)\n",
    "    model = KNeighborsClassifier(n_neighbors=n_neighbors)\n",
    "    model.fit(features_train, target)\n",
    "    y_pred = model.predict(test)\n",
    "    return y_pred"
   ]
  },
  {
   "cell_type": "code",
   "execution_count": 27,
   "metadata": {},
   "outputs": [
    {
     "name": "stdout",
     "output_type": "stream",
     "text": [
      "For neighbor k=1\n",
      "F1: 0.68\n",
      "Matriks Kesalahan\n",
      "[[0.86804124 0.01580756]\n",
      " [0.04879725 0.06735395]]\n",
      "\n",
      "For neighbor k=2\n",
      "F1: 0.40\n",
      "Matriks Kesalahan\n",
      "[[0.87835052 0.00549828]\n",
      " [0.08591065 0.03024055]]\n",
      "\n",
      "For neighbor k=3\n",
      "F1: 0.41\n",
      "Matriks Kesalahan\n",
      "[[0.87353952 0.01030928]\n",
      " [0.0838488  0.03230241]]\n",
      "\n",
      "For neighbor k=4\n",
      "F1: 0.21\n",
      "Matriks Kesalahan\n",
      "[[0.88041237 0.00343643]\n",
      " [0.1024055  0.0137457 ]]\n",
      "\n",
      "For neighbor k=5\n",
      "F1: 0.22\n",
      "Matriks Kesalahan\n",
      "[[0.8790378  0.004811  ]\n",
      " [0.10103093 0.01512027]]\n",
      "\n",
      "For neighbor k=6\n",
      "F1: 0.02\n",
      "Matriks Kesalahan\n",
      "[[0.8838488  0.        ]\n",
      " [0.11477663 0.00137457]]\n",
      "\n",
      "For neighbor k=7\n",
      "F1: 0.05\n",
      "Matriks Kesalahan\n",
      "[[0.88109966 0.00274914]\n",
      " [0.11340206 0.00274914]]\n",
      "\n",
      "For neighbor k=8\n",
      "F1: 0.03\n",
      "Matriks Kesalahan\n",
      "[[8.83161512e-01 6.87285223e-04]\n",
      " [1.14089347e-01 2.06185567e-03]]\n",
      "\n",
      "For neighbor k=9\n",
      "F1: 0.03\n",
      "Matriks Kesalahan\n",
      "[[0.88247423 0.00137457]\n",
      " [0.11408935 0.00206186]]\n",
      "\n",
      "For neighbor k=10\n",
      "F1: 0.02\n",
      "Matriks Kesalahan\n",
      "[[0.8838488  0.        ]\n",
      " [0.11477663 0.00137457]]\n",
      "\n"
     ]
    }
   ],
   "source": [
    "n_neighbors = 10\n",
    "# menggunakan data yang tidak diskalakan\n",
    "\n",
    "for k in range(1, n_neighbors+1):\n",
    "    y_pred = build_model(features_train, target_train, features_valid, k)\n",
    "    print('For neighbor k={}'.format(k))\n",
    "    eval_classifier(target_valid, y_pred)\n",
    "    print()"
   ]
  },
  {
   "cell_type": "code",
   "execution_count": 28,
   "metadata": {},
   "outputs": [],
   "source": [
    "# mengurangi target menjadi menerima manfaat 1, atau tidak menerima manfaat 0\n",
    "\n",
    "df_scaled['insurance_benefits_received'] = (df_scaled['insurance_benefits'] > 0).astype(int)"
   ]
  },
  {
   "cell_type": "code",
   "execution_count": 29,
   "metadata": {},
   "outputs": [],
   "source": [
    "train, valid = (train_test_split(df_scaled, stratify=df_scaled['insurance_benefits_received'], test_size=0.3, random_state=42))\n",
    "\n",
    "features_train, target_train = train[feature_names], train['insurance_benefits_received']\n",
    "features_valid, target_valid = valid[feature_names], valid['insurance_benefits_received']"
   ]
  },
  {
   "cell_type": "code",
   "execution_count": 30,
   "metadata": {},
   "outputs": [
    {
     "data": {
      "text/plain": [
       "((3392, 4), (3392,), (1455, 4), (1455,))"
      ]
     },
     "execution_count": 30,
     "metadata": {},
     "output_type": "execute_result"
    }
   ],
   "source": [
    "features_train.shape, target_train.shape, features_valid.shape, target_valid.shape"
   ]
  },
  {
   "cell_type": "code",
   "execution_count": 31,
   "metadata": {},
   "outputs": [
    {
     "name": "stdout",
     "output_type": "stream",
     "text": [
      "For neighbor k=1\n",
      "F1: 0.94\n",
      "Matriks Kesalahan\n",
      "[[0.8790378  0.004811  ]\n",
      " [0.00824742 0.10790378]]\n",
      "\n",
      "For neighbor k=2\n",
      "F1: 0.91\n",
      "Matriks Kesalahan\n",
      "[[0.88109966 0.00274914]\n",
      " [0.01786942 0.09828179]]\n",
      "\n",
      "For neighbor k=3\n",
      "F1: 0.92\n",
      "Matriks Kesalahan\n",
      "[[0.87697595 0.00687285]\n",
      " [0.01168385 0.10446735]]\n",
      "\n",
      "For neighbor k=4\n",
      "F1: 0.89\n",
      "Matriks Kesalahan\n",
      "[[8.83161512e-01 6.87285223e-04]\n",
      " [2.33676976e-02 9.27835052e-02]]\n",
      "\n",
      "For neighbor k=5\n",
      "F1: 0.91\n",
      "Matriks Kesalahan\n",
      "[[0.87972509 0.00412371]\n",
      " [0.01580756 0.10034364]]\n",
      "\n",
      "For neighbor k=6\n",
      "F1: 0.88\n",
      "Matriks Kesalahan\n",
      "[[8.83161512e-01 6.87285223e-04]\n",
      " [2.40549828e-02 9.20962199e-02]]\n",
      "\n",
      "For neighbor k=7\n",
      "F1: 0.91\n",
      "Matriks Kesalahan\n",
      "[[0.88247423 0.00137457]\n",
      " [0.01718213 0.09896907]]\n",
      "\n",
      "For neighbor k=8\n",
      "F1: 0.89\n",
      "Matriks Kesalahan\n",
      "[[0.8838488  0.        ]\n",
      " [0.02268041 0.09347079]]\n",
      "\n",
      "For neighbor k=9\n",
      "F1: 0.91\n",
      "Matriks Kesalahan\n",
      "[[8.83161512e-01 6.87285223e-04]\n",
      " [1.92439863e-02 9.69072165e-02]]\n",
      "\n",
      "For neighbor k=10\n",
      "F1: 0.88\n",
      "Matriks Kesalahan\n",
      "[[0.8838488  0.        ]\n",
      " [0.02542955 0.09072165]]\n",
      "\n"
     ]
    }
   ],
   "source": [
    "for k in range(1, n_neighbors+1):\n",
    "    y_pred = build_model(features_train, target_train, features_valid, k)\n",
    "    print('For neighbor k={}'.format(k))\n",
    "    eval_classifier(target_valid, y_pred)\n",
    "    print()"
   ]
  },
  {
   "cell_type": "markdown",
   "metadata": {},
   "source": [
    "**Kesimpulan:**\n",
    "\n",
    "- Membandingkan KNearestNeighbors antara data yang tidak diskalakan dan yang diskalakan menunjukkan perbedaan besar dalam skor F1; skor F1 terendah yang dihasilkan oleh setiap model yang menggunakan fitur yang diskalakan adalah 88%, sedangkan untuk fitur yang tidak diskalakan adalah 0,02. Jelas, menunjukkan bagaimana penggunaan metrik jarak selama pemasangan berdampak pada prediksi oleh fitur bernilai besar - dalam hal ini pendapatan.\n",
    "- Model berskala melampaui model dummy."
   ]
  },
  {
   "cell_type": "markdown",
   "metadata": {},
   "source": [
    "# Tugas 3. Regresi (dengan Regresi Linear)"
   ]
  },
  {
   "cell_type": "markdown",
   "metadata": {},
   "source": [
    "Dengan `insurance_benefit` sebagai target, evaluasi berapa RMSE untuk model Regresi Linear."
   ]
  },
  {
   "cell_type": "markdown",
   "metadata": {},
   "source": [
    "Buat implementasi LR Anda sendiri. Untuk itu, coba ingat-ingat kembali bagaimana solusi tugas regresi linear dirumuskan dalam bentuk LA. Periksa RMSE untuk data asli maupun data yang telah diskalakan. Bisakah Anda melihat perbedaan RMSE di antara kedua kasus ini?\n",
    "\n",
    "Tunjukkan\n",
    "- $X$ — matriks fitur, satu baris merepresentasikan satu kasus, tiap kolom adalah fitur, kolom pertama terdiri dari satuan\n",
    "- $y$ — target (vektor)\n",
    "- $\\hat{y}$ — estimasi target (vektor)\n",
    "- $w$ — bobot vektor\n",
    "\n",
    "Matriks untuk regresi linear dapat dirumuskan sebagai\n",
    "\n",
    "$$\n",
    "y = Xw\n",
    "$$\n",
    "\n",
    "Tujuan pelatihan untuk menemukan $w$ yang akan meminimalkan jarak L2 (MSE) antara $Xw$ dan $y$:\n",
    "\n",
    "$$\n",
    "\\min_w d_2(Xw, y) \\quad \\text{atau} \\quad \\min_w \\text{MSE}(Xw, y)\n",
    "$$\n",
    "\n",
    "Sepertinya ada solusi analitis untuk masalah di atas:\n",
    "\n",
    "$$\n",
    "w = (X^T X)^{-1} X^T y\n",
    "$$\n",
    "\n",
    "Rumus di atas bisa digunakan untuk menemukan bobot $w$ dan yang terakhir dapat digunakan untuk menghitung nilai prediksi\n",
    "\n",
    "$$\n",
    "\\hat{y} = X_{val}w\n",
    "$$"
   ]
  },
  {
   "cell_type": "markdown",
   "metadata": {},
   "source": [
    "Pisahkan keseluruhan data menjadi *training set* dan *validation set* dengan proporsi 70:30. Gunakan metrik RMSE untuk evaluasi model."
   ]
  },
  {
   "cell_type": "code",
   "execution_count": 32,
   "metadata": {},
   "outputs": [],
   "source": [
    "class MyLinearRegression:\n",
    "    \n",
    "    def __init__(self):\n",
    "        \n",
    "        self.weights = None\n",
    "    \n",
    "    def fit(self, X, y):\n",
    "        \n",
    "        # menambahkan satuan\n",
    "        X2 = np.append(np.ones([len(X), 1]), X, axis=1)\n",
    "        self.weights = np.linalg.inv(X2.T.dot(X2)).dot(X2.T).dot(y)\n",
    "\n",
    "    def predict(self, X):\n",
    "        \n",
    "        # menambahkan satuan\n",
    "        X2 = np.append(np.ones([X.shape[0], 1]), X, axis=1)\n",
    "        y_pred = np.dot(X2, self.weights)\n",
    "        \n",
    "        return y_pred"
   ]
  },
  {
   "cell_type": "code",
   "execution_count": 33,
   "metadata": {},
   "outputs": [],
   "source": [
    "def eval_regressor(y_true, y_pred):\n",
    "    \n",
    "    rmse = math.sqrt(sklearn.metrics.mean_squared_error(y_true, y_pred))\n",
    "    print(f'RMSE: {rmse:.2f}')\n",
    "    \n",
    "    r2_score = math.sqrt(sklearn.metrics.r2_score(y_true, y_pred))\n",
    "    print(f'R2: {r2_score:.2f}')    "
   ]
  },
  {
   "cell_type": "code",
   "execution_count": 34,
   "metadata": {},
   "outputs": [
    {
     "name": "stdout",
     "output_type": "stream",
     "text": [
      "[-9.77366729e-01  3.58042291e-02  1.95594888e-02  5.85336165e-07\n",
      " -1.21618420e-02]\n",
      "RMSE: 0.36\n",
      "R2: 0.66\n"
     ]
    }
   ],
   "source": [
    "X = df[['age', 'gender', 'income', 'family_members']].to_numpy()\n",
    "y = df['insurance_benefits'].to_numpy()\n",
    "\n",
    "X_train, X_test, y_train, y_test = train_test_split(X, y, test_size=0.3, random_state=12345)\n",
    "\n",
    "linreg = MyLinearRegression()\n",
    "\n",
    "linreg.fit(X_train, y_train)\n",
    "print(linreg.weights)\n",
    "\n",
    "y_test_pred = linreg.predict(X_test)\n",
    "eval_regressor(y_test, y_test_pred)"
   ]
  },
  {
   "cell_type": "code",
   "execution_count": 35,
   "metadata": {},
   "outputs": [
    {
     "name": "stdout",
     "output_type": "stream",
     "text": [
      "[-0.97736673  2.32727489  0.01955949  0.04624156 -0.07297105]\n",
      "RMSE: 0.36\n",
      "R2: 0.66\n"
     ]
    }
   ],
   "source": [
    "X = df_scaled[['age', 'gender', 'income', 'family_members']].to_numpy()\n",
    "y = df_scaled['insurance_benefits'].to_numpy()\n",
    "\n",
    "X_train, X_test, y_train, y_test = train_test_split(X, y, test_size=0.3, random_state=12345)\n",
    "\n",
    "linreg = MyLinearRegression()\n",
    "\n",
    "linreg.fit(X_train, y_train)\n",
    "print(linreg.weights)\n",
    "\n",
    "y_test_pred = linreg.predict(X_test)\n",
    "eval_regressor(y_test, y_test_pred)"
   ]
  },
  {
   "cell_type": "markdown",
   "metadata": {},
   "source": [
    "**Kesimpulan:**\n",
    "- Hanya 66% varian yang dijelaskan oleh fitur saat data tidak diskalakan.\n",
    "- Tidak ada perbedaan setelah penskalaan skor RMSE atau R2; ini diharapkan karena Regresi Linier membuat prediksi menggunakan unit outputnya, dan membuat penyesuaian yang diperlukan pada unit fiturnya."
   ]
  },
  {
   "cell_type": "markdown",
   "metadata": {},
   "source": [
    "# Tugas 4. Pengaburan Data"
   ]
  },
  {
   "cell_type": "markdown",
   "metadata": {},
   "source": [
    "Cara terbaik untuk mengaburkan data adalah dengan mengalikan fitur-fitur numerik (ingat bahwa fitur-fitur tersebut bisa di lihat di matriks $X$) dengan matriks yang dapat dibalik (*invertible*) $P$. \n",
    "\n",
    "$$\n",
    "X' = X \\times P\n",
    "$$\n",
    "\n",
    "Coba lakukan itu dan periksa bagaimana nilai fitur akan terlihat setelah transformasi. Sifat *invertible* sangat penting pada kasus ini, jadi pastikan $P$ bahwa $P$ bersifat *invertible*.\n",
    "\n",
    "Anda mungkin ingin meninjau kembali pelajaran 'Matriks dan Operasi Matriks -> Perkalian Matriks' untuk mengingat aturan perkalian matriks dan implementasinya dengan NumPy."
   ]
  },
  {
   "cell_type": "code",
   "execution_count": 36,
   "metadata": {},
   "outputs": [],
   "source": [
    "personal_info_column_list = ['gender', 'age', 'income', 'family_members']\n",
    "df_pn = df[personal_info_column_list]"
   ]
  },
  {
   "cell_type": "code",
   "execution_count": 37,
   "metadata": {},
   "outputs": [],
   "source": [
    "X = df_pn.to_numpy()"
   ]
  },
  {
   "cell_type": "markdown",
   "metadata": {},
   "source": [
    "Membuat matriks acak $P$."
   ]
  },
  {
   "cell_type": "code",
   "execution_count": 38,
   "metadata": {},
   "outputs": [],
   "source": [
    "rng = np.random.default_rng(seed=42)\n",
    "P = rng.random(size=(X.shape[1], X.shape[1]))"
   ]
  },
  {
   "cell_type": "markdown",
   "metadata": {},
   "source": [
    "Memeriksa apakah matriks $P$ *invertible*\n",
    "$$\n",
    "PP^{-1} = P^{-1}P= I\n",
    "$$"
   ]
  },
  {
   "cell_type": "code",
   "execution_count": 39,
   "metadata": {},
   "outputs": [
    {
     "data": {
      "text/plain": [
       "array([[ 1.00000000e+00, -1.69848573e-16, -7.58122972e-17,\n",
       "        -1.13112497e-16],\n",
       "       [-6.94895396e-17,  1.00000000e+00, -7.10568689e-17,\n",
       "         3.59096970e-17],\n",
       "       [-1.21269339e-16, -8.01461326e-17,  1.00000000e+00,\n",
       "         4.30764008e-19],\n",
       "       [-3.60694539e-16, -5.55430227e-16,  3.08072404e-16,\n",
       "         1.00000000e+00]])"
      ]
     },
     "execution_count": 39,
     "metadata": {},
     "output_type": "execute_result"
    }
   ],
   "source": [
    "np.dot(P, np.linalg.inv(P))"
   ]
  },
  {
   "cell_type": "code",
   "execution_count": 40,
   "metadata": {
    "scrolled": true
   },
   "outputs": [
    {
     "data": {
      "text/plain": [
       "True"
      ]
     },
     "execution_count": 40,
     "metadata": {},
     "output_type": "execute_result"
    }
   ],
   "source": [
    "np.allclose(np.dot(P, np.linalg.inv(P)), np.dot(np.linalg.inv(P), P))"
   ]
  },
  {
   "cell_type": "code",
   "execution_count": 41,
   "metadata": {},
   "outputs": [
    {
     "data": {
      "text/plain": [
       "array([[ 6359.71527314, 22380.40467609, 18424.09074184, 46000.69669016],\n",
       "       [ 4873.29406479, 17160.36702982, 14125.78076133, 35253.45577301],\n",
       "       [ 2693.11742928,  9486.397744  ,  7808.83156024, 19484.86063067],\n",
       "       ...,\n",
       "       [ 4346.2234249 , 15289.24126492, 12586.16264392, 31433.50888552],\n",
       "       [ 4194.09324155, 14751.9910242 , 12144.02930637, 30323.88763426],\n",
       "       [ 5205.46827354, 18314.24814446, 15077.01370762, 37649.59295455]])"
      ]
     },
     "execution_count": 41,
     "metadata": {},
     "output_type": "execute_result"
    }
   ],
   "source": [
    "np.dot(X, P)"
   ]
  },
  {
   "cell_type": "markdown",
   "metadata": {},
   "source": [
    "Bisakah Anda menebak usia klien atau pendapatannya setelah dilakukan transformasi?\n",
    "- Tidak dapat diuraikan"
   ]
  },
  {
   "cell_type": "markdown",
   "metadata": {},
   "source": [
    "Bisakah Anda memulihkan data asli dari $X'$ jika $P$ sudah diketahui? Coba periksa hal tersebut melalui perhitungan dengan memindahkan $P$ dari sisi kanan rumus di atas ke sisi kiri. Aturan perkalian matriks sangat berguna di sini.\n",
    "\n",
    "$$\n",
    "X'P^{-1} = (XP)P^{-1} = X(PP^{-1})\n",
    "$$"
   ]
  },
  {
   "cell_type": "code",
   "execution_count": 42,
   "metadata": {},
   "outputs": [
    {
     "data": {
      "text/html": [
       "<div>\n",
       "<style scoped>\n",
       "    .dataframe tbody tr th:only-of-type {\n",
       "        vertical-align: middle;\n",
       "    }\n",
       "\n",
       "    .dataframe tbody tr th {\n",
       "        vertical-align: top;\n",
       "    }\n",
       "\n",
       "    .dataframe thead th {\n",
       "        text-align: right;\n",
       "    }\n",
       "</style>\n",
       "<table border=\"1\" class=\"dataframe\">\n",
       "  <thead>\n",
       "    <tr style=\"text-align: right;\">\n",
       "      <th></th>\n",
       "      <th>gender</th>\n",
       "      <th>age</th>\n",
       "      <th>income</th>\n",
       "      <th>family_members</th>\n",
       "    </tr>\n",
       "  </thead>\n",
       "  <tbody>\n",
       "    <tr>\n",
       "      <th>0</th>\n",
       "      <td>1.000000e+00</td>\n",
       "      <td>41.0</td>\n",
       "      <td>49600.0</td>\n",
       "      <td>1.000000e+00</td>\n",
       "    </tr>\n",
       "    <tr>\n",
       "      <th>1</th>\n",
       "      <td>-4.611792e-12</td>\n",
       "      <td>46.0</td>\n",
       "      <td>38000.0</td>\n",
       "      <td>1.000000e+00</td>\n",
       "    </tr>\n",
       "    <tr>\n",
       "      <th>2</th>\n",
       "      <td>-2.548671e-12</td>\n",
       "      <td>29.0</td>\n",
       "      <td>21000.0</td>\n",
       "      <td>1.008743e-14</td>\n",
       "    </tr>\n",
       "    <tr>\n",
       "      <th>3</th>\n",
       "      <td>-5.059112e-12</td>\n",
       "      <td>21.0</td>\n",
       "      <td>41700.0</td>\n",
       "      <td>2.000000e+00</td>\n",
       "    </tr>\n",
       "    <tr>\n",
       "      <th>4</th>\n",
       "      <td>1.000000e+00</td>\n",
       "      <td>28.0</td>\n",
       "      <td>26100.0</td>\n",
       "      <td>1.213530e-14</td>\n",
       "    </tr>\n",
       "  </tbody>\n",
       "</table>\n",
       "</div>"
      ],
      "text/plain": [
       "         gender   age   income  family_members\n",
       "0  1.000000e+00  41.0  49600.0    1.000000e+00\n",
       "1 -4.611792e-12  46.0  38000.0    1.000000e+00\n",
       "2 -2.548671e-12  29.0  21000.0    1.008743e-14\n",
       "3 -5.059112e-12  21.0  41700.0    2.000000e+00\n",
       "4  1.000000e+00  28.0  26100.0    1.213530e-14"
      ]
     },
     "execution_count": 42,
     "metadata": {},
     "output_type": "execute_result"
    }
   ],
   "source": [
    "pd.DataFrame(np.dot(X, np.dot(P, np.linalg.inv(P))), columns=feature_names).head()"
   ]
  },
  {
   "cell_type": "markdown",
   "metadata": {},
   "source": [
    "- Ya, kami dapat memulihkan matriks asli X setelah perkalian matriks hasil X*P dengan kebalikan dari P"
   ]
  },
  {
   "cell_type": "markdown",
   "metadata": {},
   "source": [
    "Tampilkan ketiga kasus untuk beberapa klien\n",
    "- Data asli\n",
    "- Data yang sudah ditransformasikan\n",
    "- Data yang telah dipulihkan ke semula"
   ]
  },
  {
   "cell_type": "code",
   "execution_count": 43,
   "metadata": {},
   "outputs": [
    {
     "data": {
      "text/html": [
       "<div>\n",
       "<style scoped>\n",
       "    .dataframe tbody tr th:only-of-type {\n",
       "        vertical-align: middle;\n",
       "    }\n",
       "\n",
       "    .dataframe tbody tr th {\n",
       "        vertical-align: top;\n",
       "    }\n",
       "\n",
       "    .dataframe thead th {\n",
       "        text-align: right;\n",
       "    }\n",
       "</style>\n",
       "<table border=\"1\" class=\"dataframe\">\n",
       "  <thead>\n",
       "    <tr style=\"text-align: right;\">\n",
       "      <th></th>\n",
       "      <th>gender</th>\n",
       "      <th>age</th>\n",
       "      <th>income</th>\n",
       "      <th>family_members</th>\n",
       "    </tr>\n",
       "  </thead>\n",
       "  <tbody>\n",
       "    <tr>\n",
       "      <th>0</th>\n",
       "      <td>1.0</td>\n",
       "      <td>41.0</td>\n",
       "      <td>49600.0</td>\n",
       "      <td>1.0</td>\n",
       "    </tr>\n",
       "    <tr>\n",
       "      <th>1</th>\n",
       "      <td>0.0</td>\n",
       "      <td>46.0</td>\n",
       "      <td>38000.0</td>\n",
       "      <td>1.0</td>\n",
       "    </tr>\n",
       "    <tr>\n",
       "      <th>2</th>\n",
       "      <td>0.0</td>\n",
       "      <td>29.0</td>\n",
       "      <td>21000.0</td>\n",
       "      <td>0.0</td>\n",
       "    </tr>\n",
       "    <tr>\n",
       "      <th>3</th>\n",
       "      <td>0.0</td>\n",
       "      <td>21.0</td>\n",
       "      <td>41700.0</td>\n",
       "      <td>2.0</td>\n",
       "    </tr>\n",
       "    <tr>\n",
       "      <th>4</th>\n",
       "      <td>1.0</td>\n",
       "      <td>28.0</td>\n",
       "      <td>26100.0</td>\n",
       "      <td>0.0</td>\n",
       "    </tr>\n",
       "  </tbody>\n",
       "</table>\n",
       "</div>"
      ],
      "text/plain": [
       "   gender   age   income  family_members\n",
       "0     1.0  41.0  49600.0             1.0\n",
       "1     0.0  46.0  38000.0             1.0\n",
       "2     0.0  29.0  21000.0             0.0\n",
       "3     0.0  21.0  41700.0             2.0\n",
       "4     1.0  28.0  26100.0             0.0"
      ]
     },
     "execution_count": 43,
     "metadata": {},
     "output_type": "execute_result"
    }
   ],
   "source": [
    "# data asli\n",
    "\n",
    "pd.DataFrame(X, columns=feature_names).head()"
   ]
  },
  {
   "cell_type": "code",
   "execution_count": 44,
   "metadata": {},
   "outputs": [
    {
     "data": {
      "text/html": [
       "<div>\n",
       "<style scoped>\n",
       "    .dataframe tbody tr th:only-of-type {\n",
       "        vertical-align: middle;\n",
       "    }\n",
       "\n",
       "    .dataframe tbody tr th {\n",
       "        vertical-align: top;\n",
       "    }\n",
       "\n",
       "    .dataframe thead th {\n",
       "        text-align: right;\n",
       "    }\n",
       "</style>\n",
       "<table border=\"1\" class=\"dataframe\">\n",
       "  <thead>\n",
       "    <tr style=\"text-align: right;\">\n",
       "      <th></th>\n",
       "      <th>gender</th>\n",
       "      <th>age</th>\n",
       "      <th>income</th>\n",
       "      <th>family_members</th>\n",
       "    </tr>\n",
       "  </thead>\n",
       "  <tbody>\n",
       "    <tr>\n",
       "      <th>0</th>\n",
       "      <td>6359.715273</td>\n",
       "      <td>22380.404676</td>\n",
       "      <td>18424.090742</td>\n",
       "      <td>46000.696690</td>\n",
       "    </tr>\n",
       "    <tr>\n",
       "      <th>1</th>\n",
       "      <td>4873.294065</td>\n",
       "      <td>17160.367030</td>\n",
       "      <td>14125.780761</td>\n",
       "      <td>35253.455773</td>\n",
       "    </tr>\n",
       "    <tr>\n",
       "      <th>2</th>\n",
       "      <td>2693.117429</td>\n",
       "      <td>9486.397744</td>\n",
       "      <td>7808.831560</td>\n",
       "      <td>19484.860631</td>\n",
       "    </tr>\n",
       "    <tr>\n",
       "      <th>3</th>\n",
       "      <td>5345.603937</td>\n",
       "      <td>18803.227203</td>\n",
       "      <td>15479.148373</td>\n",
       "      <td>38663.061863</td>\n",
       "    </tr>\n",
       "    <tr>\n",
       "      <th>4</th>\n",
       "      <td>3347.176735</td>\n",
       "      <td>11782.829283</td>\n",
       "      <td>9699.998942</td>\n",
       "      <td>24211.273378</td>\n",
       "    </tr>\n",
       "  </tbody>\n",
       "</table>\n",
       "</div>"
      ],
      "text/plain": [
       "        gender           age        income  family_members\n",
       "0  6359.715273  22380.404676  18424.090742    46000.696690\n",
       "1  4873.294065  17160.367030  14125.780761    35253.455773\n",
       "2  2693.117429   9486.397744   7808.831560    19484.860631\n",
       "3  5345.603937  18803.227203  15479.148373    38663.061863\n",
       "4  3347.176735  11782.829283   9699.998942    24211.273378"
      ]
     },
     "execution_count": 44,
     "metadata": {},
     "output_type": "execute_result"
    }
   ],
   "source": [
    "# data yang sudah ditransformasikan\n",
    "\n",
    "pd.DataFrame(np.dot(X, P), columns=feature_names).head()"
   ]
  },
  {
   "cell_type": "code",
   "execution_count": 45,
   "metadata": {},
   "outputs": [
    {
     "data": {
      "text/html": [
       "<div>\n",
       "<style scoped>\n",
       "    .dataframe tbody tr th:only-of-type {\n",
       "        vertical-align: middle;\n",
       "    }\n",
       "\n",
       "    .dataframe tbody tr th {\n",
       "        vertical-align: top;\n",
       "    }\n",
       "\n",
       "    .dataframe thead th {\n",
       "        text-align: right;\n",
       "    }\n",
       "</style>\n",
       "<table border=\"1\" class=\"dataframe\">\n",
       "  <thead>\n",
       "    <tr style=\"text-align: right;\">\n",
       "      <th></th>\n",
       "      <th>gender</th>\n",
       "      <th>age</th>\n",
       "      <th>income</th>\n",
       "      <th>family_members</th>\n",
       "    </tr>\n",
       "  </thead>\n",
       "  <tbody>\n",
       "    <tr>\n",
       "      <th>0</th>\n",
       "      <td>1.000000e+00</td>\n",
       "      <td>41.0</td>\n",
       "      <td>49600.0</td>\n",
       "      <td>1.000000e+00</td>\n",
       "    </tr>\n",
       "    <tr>\n",
       "      <th>1</th>\n",
       "      <td>-4.611792e-12</td>\n",
       "      <td>46.0</td>\n",
       "      <td>38000.0</td>\n",
       "      <td>1.000000e+00</td>\n",
       "    </tr>\n",
       "    <tr>\n",
       "      <th>2</th>\n",
       "      <td>-2.548671e-12</td>\n",
       "      <td>29.0</td>\n",
       "      <td>21000.0</td>\n",
       "      <td>1.008743e-14</td>\n",
       "    </tr>\n",
       "    <tr>\n",
       "      <th>3</th>\n",
       "      <td>-5.059112e-12</td>\n",
       "      <td>21.0</td>\n",
       "      <td>41700.0</td>\n",
       "      <td>2.000000e+00</td>\n",
       "    </tr>\n",
       "    <tr>\n",
       "      <th>4</th>\n",
       "      <td>1.000000e+00</td>\n",
       "      <td>28.0</td>\n",
       "      <td>26100.0</td>\n",
       "      <td>1.213530e-14</td>\n",
       "    </tr>\n",
       "  </tbody>\n",
       "</table>\n",
       "</div>"
      ],
      "text/plain": [
       "         gender   age   income  family_members\n",
       "0  1.000000e+00  41.0  49600.0    1.000000e+00\n",
       "1 -4.611792e-12  46.0  38000.0    1.000000e+00\n",
       "2 -2.548671e-12  29.0  21000.0    1.008743e-14\n",
       "3 -5.059112e-12  21.0  41700.0    2.000000e+00\n",
       "4  1.000000e+00  28.0  26100.0    1.213530e-14"
      ]
     },
     "execution_count": 45,
     "metadata": {},
     "output_type": "execute_result"
    }
   ],
   "source": [
    "# data yang telah dipulihkan ke semula\n",
    "\n",
    "pd.DataFrame(np.dot(X, np.dot(P, np.linalg.inv(P))), columns=feature_names).head()"
   ]
  },
  {
   "cell_type": "markdown",
   "metadata": {},
   "source": [
    "Mungkin Anda bisa melihat bahwa terdapat beberapa nilai yang tidak benar-benar sama dengan data sebelum ditransformasi. Kenapa bisa begitu?\n",
    "\n",
    "- Alasan matriks yang dipulihkan tidak persis sama dengan matriks asli adalah karena kesalahan floating point - hanya ada sejumlah bit yang dialokasikan untuk menyimpan bilangan aslinya."
   ]
  },
  {
   "cell_type": "markdown",
   "metadata": {},
   "source": [
    "##  Buktikan Bahwa Pengaburan Data Bisa Bekerja dengan LR"
   ]
  },
  {
   "cell_type": "markdown",
   "metadata": {},
   "source": [
    "Tugas regresi pada proyek ini telah diselesaikan dengan regresi linear. Tugas selanjutnya adalah untuk membuktikan secara analitis bahwa metode pengaburan data tertentu tidak akan memengaruhi prediksi nilai regresi linear - nilai-nilai prediksi tersebut tidak akan berubah dari hasil awalnya. Apakah Anda yakin Anda bisa melakukannya?? Anda tidak harus yakin sekarang, tetapi Anda harus membuktikannya!"
   ]
  },
  {
   "cell_type": "markdown",
   "metadata": {},
   "source": [
    "Jadi, data yang ada telah dikaburkan dan sekarang terdapat $X \\times P$ alih-alih hanya $X$. Akibatnya, ada bobot lain $w_P$ sebagai\n",
    "$$\n",
    "w = (X^T X)^{-1} X^T y \\quad \\Rightarrow \\quad w_P = [(XP)^T XP]^{-1} (XP)^T y\n",
    "$$\n",
    "\n",
    "Bagaimana menghubungkan $w$ dan $w_P$ jika Anda menyederhanakan rumus untuk $w_P$ di atas?\n",
    "\n",
    "Nilai apa yang akan $w_P$ prediksi? \n",
    "\n",
    "Apa artinya bagi kualitas regresi linier jika Anda mengukurnya dengan RMSE?\n",
    "\n",
    "Periksa lampiran B (Sifat-sifat Matriks) di bagian *notebook*. Tersedia beberapa rumus yang berguna di sana!\n",
    "\n",
    "Tidak ada kode yang begitu penting di sesi ini, hanya penjelasan analitis!"
   ]
  },
  {
   "cell_type": "markdown",
   "metadata": {},
   "source": [
    "**Bukti analitis**"
   ]
  },
  {
   "cell_type": "markdown",
   "metadata": {},
   "source": [
    "Distribusi:\n",
    "\n",
    "$$\n",
    "w_P = [(XP)^T XP]^{-1} (XP)^T y\n",
    "$$\n",
    "\n",
    "Dengan mentranspose matriks, kita dapatkan:\n",
    "\n",
    "$$\n",
    "w_P = [(XP)^T XP]^{-1} P^T X^T y\n",
    "$$\n",
    "\n",
    "Mengatur ulang ketentuan di dalam tanda kurung siku:\n",
    "\n",
    "$$\n",
    "w_P = [P^T X^T XP]^{-1} P^T X^T y\n",
    "$$\n",
    "\n",
    "Memperluas ketentuan di dalam tanda kurung siku:\n",
    "\n",
    "$$\n",
    "w_P = P^{-1} (X^T X)^{-1} (P^T)^{-1} P^T X^T y\n",
    "$$\n",
    "\n",
    "Menggunakan identitas perkalian:\n",
    "\n",
    "$$\n",
    "(P^T)^{-1}P^T = P^T(P^T)^{-1} = I\n",
    "$$\n",
    "\n",
    "Persamaan direduksi menjadi:\n",
    "\n",
    "$$\n",
    "w_P = P^{-1}(X^T X)^{-1} IX^T y\n",
    "$$\n",
    "\n",
    "Kita dapat lihat:\n",
    "\n",
    "$$\n",
    "w = (X^T X)^{-1} X^T y\n",
    "$$\n",
    "\n",
    "Ganti w dalam persamaan di atas:\n",
    "\n",
    "$$\n",
    "w_P = P^{-1} w\n",
    "$$\n",
    "\n",
    "kita mengetahui:\n",
    "\n",
    "$$\n",
    "y = Xw\n",
    "$$\n",
    "\n",
    "Prediksi dari:\n",
    "\n",
    "$$\n",
    "y_P = X_P w_P\n",
    "$$\n",
    "\n",
    "Mengganti:\n",
    "\n",
    "$$\n",
    "w_P\n",
    "$$\n",
    "\n",
    "Dalam persamaan di atas, kita dapatkan:\n",
    "\n",
    "$$\n",
    "y_P = X_p (P^{-1}w)\n",
    "$$\n",
    "\n",
    "Dari mengaburkan input X, kita punya:\n",
    "\n",
    "$$\n",
    "X_p = XP\n",
    "$$\n",
    "\n",
    "Mengganti dalam persamaan di atas:\n",
    "\n",
    "$$\n",
    "y_P = XPP^{-1}w\n",
    "$$\n",
    "\n",
    "Dari perkalian identitas, kita mengetahui:\n",
    "\n",
    "$$\n",
    "(P^T)^{-1}P^T = P^T(P^T)^{-1} = I\n",
    "$$\n",
    "\n",
    "Karena itu, kita menyisakan:\n",
    "\n",
    "$$\n",
    "y = y_P = Xw\n",
    "$$"
   ]
  },
  {
   "cell_type": "markdown",
   "metadata": {},
   "source": [
    "**Jawaban**\n",
    "\n",
    "- Bukti analitis membuktikan bahwa seharusnya tidak ada dampak terhadap kualitas nilai regresi meskipun menggunakan metode pengaburan, karena kedua nilai prediksi (sebelum dan setelah pengaburan) adalah sama.\n",
    "- Kualitas model tetap sama untuk kedua set parameter: fitur asli dan fitur setelah perkalian."
   ]
  },
  {
   "cell_type": "markdown",
   "metadata": {},
   "source": [
    "## Uji Regresi Linear dengan Pengaburan Data"
   ]
  },
  {
   "cell_type": "markdown",
   "metadata": {},
   "source": [
    "Sekarang, mari kita buktikan kalau Regresi Linear dapat bekerja secara komputasi dengan transformasi pengaburan yang dipilih.\n",
    "\n",
    "Buat prosedur atau kelas yang menjalankan regresi linear dengan pengaburan data. Anda bisa menggunakan regresi linear yang tersedia di scikit-learn atau milik Anda sendiri.\n",
    "\n",
    "Jalankan regresi linear terhadap data asli dan data yang disamarkan, bandingkan nilai prediksi dan RMSE, serta nilai metrik $R^2$. Apakah ada perbedaan?"
   ]
  },
  {
   "cell_type": "markdown",
   "metadata": {},
   "source": [
    "**Prosedur**\n",
    "\n",
    "- Buat matriks persegi $P$ dari angka acak.\n",
    "- Periksa apakah matriks tersebut *invertible*. Jika tidak, ulangi dari langkah pertama sampai kita mendapatkan matriks yang bisa dibalik (*invertible*).\n",
    "- Gambarkan $P$ dari distribusi yang diseragamkan\n",
    "- Gunakan $XP$ sebagai matriks fitur baru "
   ]
  },
  {
   "cell_type": "code",
   "execution_count": 46,
   "metadata": {},
   "outputs": [],
   "source": [
    "# membuat matriks persegi P dari angka random\n",
    "\n",
    "def generate_square_matrix(num_features, seed=42):\n",
    "    \n",
    "    rng = np.random.default_rng(seed=seed)\n",
    "    return rng.random(size=(num_features, num_features))"
   ]
  },
  {
   "cell_type": "code",
   "execution_count": 47,
   "metadata": {},
   "outputs": [],
   "source": [
    "P = generate_square_matrix(4, seed=1234)"
   ]
  },
  {
   "cell_type": "code",
   "execution_count": 48,
   "metadata": {},
   "outputs": [],
   "source": [
    "# memeriksa apakah matriks bisa dibalik (invertible)\n",
    "\n",
    "def is_invertible(P):\n",
    "    \n",
    "    return np.allclose(np.dot(P, np.linalg.inv(P)), np.dot(np.linalg.inv(P), P))"
   ]
  },
  {
   "cell_type": "code",
   "execution_count": 49,
   "metadata": {},
   "outputs": [
    {
     "data": {
      "text/plain": [
       "True"
      ]
     },
     "execution_count": 49,
     "metadata": {},
     "output_type": "execute_result"
    }
   ],
   "source": [
    "is_invertible(P)"
   ]
  },
  {
   "cell_type": "markdown",
   "metadata": {},
   "source": [
    "**Menggunakan data asli, yang dikaburkan**"
   ]
  },
  {
   "cell_type": "code",
   "execution_count": 50,
   "metadata": {},
   "outputs": [
    {
     "name": "stdout",
     "output_type": "stream",
     "text": [
      "[-0.97736747 -0.08612857 -0.09935604  0.15099254  0.06991959]\n",
      "RMSE: 0.36\n",
      "R2: 0.66\n"
     ]
    }
   ],
   "source": [
    "X = df[['age','gender','income','family_members']].to_numpy()\n",
    "y = df['insurance_benefits'].to_numpy()\n",
    "\n",
    "X_train, X_test, y_train, y_test = train_test_split(np.dot(X, P), y, test_size=0.3, random_state=12345)\n",
    "\n",
    "linreg = MyLinearRegression()\n",
    "\n",
    "linreg.fit(X_train, y_train)\n",
    "print(linreg.weights)\n",
    "\n",
    "y_test_pred = linreg.predict(X_test)\n",
    "eval_regressor(y_test, y_test_pred)"
   ]
  },
  {
   "cell_type": "markdown",
   "metadata": {},
   "source": [
    "**Menggunakan data skala, yang dikaburkan**"
   ]
  },
  {
   "cell_type": "code",
   "execution_count": 51,
   "metadata": {},
   "outputs": [
    {
     "name": "stdout",
     "output_type": "stream",
     "text": [
      "[-0.97736673  0.36150371 -1.23349037  3.3150945  -2.35958849]\n",
      "RMSE: 0.36\n",
      "R2: 0.66\n"
     ]
    }
   ],
   "source": [
    "X = df_scaled[['age','gender','income','family_members']].to_numpy()\n",
    "y = df_scaled['insurance_benefits'].to_numpy()\n",
    "\n",
    "X_train, X_test, y_train, y_test = train_test_split(np.dot(X, P), y, test_size=0.3, random_state=12345)\n",
    "\n",
    "linreg = MyLinearRegression()\n",
    "\n",
    "linreg.fit(X_train, y_train)\n",
    "print(linreg.weights)\n",
    "\n",
    "y_test_pred = linreg.predict(X_test)\n",
    "eval_regressor(y_test, y_test_pred)"
   ]
  },
  {
   "cell_type": "markdown",
   "metadata": {},
   "source": [
    "## Kesimpulan\n",
    "\n",
    "- Hasilnya menunjukkan bahwa bahkan setelah mengaburkan data, skor RMSE dan R2 dari model Regresi Linier adalah identik (sama); terlepas dari apakah data diskalakan atau tidak."
   ]
  },
  {
   "cell_type": "markdown",
   "metadata": {},
   "source": [
    "**Ringkasan**\n",
    "\n",
    "- Menggunakan KNearestNeighbhors untuk menemukan pelanggan yang dekat dengan pelanggan tertentu; solusinya ditingkatkan dengan penskalaan data, dan menggunakan metrik Euclidean untuk meningkatkan prediksi.\n",
    "\n",
    "- Membuat model untuk membantu tim pemasaran memprediksi apakah pelanggan akan menerima manfaat asuransi atau tidak. Dan, model yang dihasilkan dengan data yang diskalakan, tampil sangat baik dibandingkan dengan model dummy. Model yang dihasilkan memiliki skor F1 sebesar 92% pada set validasi.\n",
    "\n",
    "- Membuat model LinearRegression pada data yang diskalakan dan tidak diskalakan, untuk memprediksi jumlah manfaat asuransi yang akan diterima pelanggan baru; model menghasilkan skor R2 yang cukup tinggi 66%. Apa yang diamati adalah bahwa penskalaan tidak memengaruhi hasil.\n",
    "\n",
    "- Mengaburkan data, dan menunjukkan secara analitik bahwa tidak ada perbedaan antara data yang disamarkan dan data asli.\n",
    "\n",
    "- Membuktikan ini secara komputasi, dengan membangun model LinearRegression menggunakan data yang dikaburkan, dan skor RMSE dan R2 yang dihasilkan identik dengan yang diperoleh dengan memodelkan data asli."
   ]
  },
  {
   "cell_type": "markdown",
   "metadata": {},
   "source": [
    "# Daftar Periksa"
   ]
  },
  {
   "cell_type": "markdown",
   "metadata": {},
   "source": [
    "Ketik 'x' untuk memeriksa. Lalu tekan Shitf+Enter"
   ]
  },
  {
   "cell_type": "markdown",
   "metadata": {},
   "source": [
    "- [x]  Jupyter Notebook dibuka\n",
    "- [ ]  Tidak ada kesalahan kode\n",
    "- [ ]  Sel disusun sesuai urutan yang logis dan eksekusi\n",
    "- [ ]  Tugas 1 telah dikerjakan\n",
    "    - [ ]  Ada prosedur yang bisa menampilkan k klien yang mirip dengan klien tertentu\n",
    "    - [ ]  Prosedur diuji untuk keempat kombinasi yang diusulkan\n",
    "    - [ ]  Pertanyaan terkait skala/jarak sudah terjawab\n",
    "- [ ]  Tugas 2 telah dikerjakan\n",
    "    - [ ]  Telah dibuat model klasifikasi acak untuk semua level probabilitas\n",
    "    - [ ]  Model klasifikasi kNN telah dibuat dan diuji, baik untuk data asli maupun untuk data yang telah diberi skala. Metrik F1 telah diperhitungkan.\n",
    "- [ ]  Tugas 3 telah dikerjakan\n",
    "    - [ ]  Solusi regresi linear diimplementasikan menggunakan pengoperasian matriks.\n",
    "    - [ ]  RMSE telah dihitung untuk solusi yang diimplementasikan.\n",
    "- [ ]  Tugas 4 telah dikerjakan\n",
    "    - [ ]  Data dikaburkan dengan matriks P acak dan *invertible*\n",
    "    - [ ]  Data yang dikaburkan telah dipulihkan, ada beberapa contoh yang ditampilkan\n",
    "    - [ ]  Terdapat bukti analitis bahwa transformasi tidak mempengaruhi RMSE\n",
    "    - [ ]  Terdapat bukti perhitungan bahwa transformasi tidak memengaruhi RMSE\n",
    "- [ ]  Ada kesimpulan"
   ]
  },
  {
   "cell_type": "markdown",
   "metadata": {},
   "source": [
    "# Apendiks \n",
    "\n",
    "## Apendiks A: Menulis Rumus di Jupyter Notebooks"
   ]
  },
  {
   "cell_type": "markdown",
   "metadata": {},
   "source": [
    "Anda dapat menulis rumus di Jupyter Notebook dalam bahasa *markup* yang disediakan oleh sistem penerbitan berkualitas tinggi bernama $\\LaTeX$ (diucapkan \"Lah-tech\"), dan rumus tersebut akan terlihat seperti rumus yang ada di buku teks.\n",
    "\n",
    "Untuk memasukkan rumus ke dalam teks, letakkan tanda dolar (\\\\$) sebelum dan sesudah teks rumus. $\\frac{1}{2} \\times \\frac{3}{2} = \\frac{3}{4}$ or $y = x^2, x \\ge 1$.\n",
    "\n",
    "Jika rumus harus ditulis dalam satu paragraf tersendiri, letakkan dua tanda dolar (\\\\$\\\\$) sebelum dan sesudah teks.\n",
    "\n",
    "$$\n",
    "\\bar{x} = \\frac{1}{n}\\sum_{i=1}^{n} x_i.\n",
    "$$\n",
    "\n",
    "Bahasa markup [LaTeX](https://en.wikipedia.org/wiki/LaTeX) sangat populer di kalangan orang-orang yang menggunakan rumus dalam artikel, buku, dan teks. Bahasa tesebut memang tampak rumit, tetapi dasarnya sebenarnya mudah. Periksa dua halaman [cheatsheet](http://tug.ctan.org/info/undergradmath/undergradmath.pdf) berikut untuk mempelajari cara membuat rumus yang paling umum."
   ]
  },
  {
   "cell_type": "markdown",
   "metadata": {},
   "source": [
    "## Apendiks B: Properti Matriks"
   ]
  },
  {
   "cell_type": "markdown",
   "metadata": {},
   "source": [
    "Matriks memiliki banyak properti di Aljabar Linear. Beberapa di antaranya ada di daftar berikut yang dapat membantu pembuktian analitis dalam proyek ini."
   ]
  },
  {
   "cell_type": "markdown",
   "metadata": {},
   "source": [
    "<table>\n",
    "<tr>\n",
    "<td>Pendistribusian</td><td>$A(B+C)=AB+AC$</td>\n",
    "</tr>\n",
    "<tr>\n",
    "<td>Non-komutativitas</td><td>$AB \\neq BA$</td>\n",
    "</tr>\n",
    "<tr>\n",
    "<td>Properti asosiatif dari perkalian</td><td>$(AB)C = A(BC)$</td>\n",
    "</tr>\n",
    "<tr>\n",
    "<td>Properti identitas perkalian</td><td>$IA = AI = A$</td>\n",
    "</tr>\n",
    "<tr>\n",
    "<td></td><td>$A^{-1}A = AA^{-1} = I$\n",
    "</td>\n",
    "</tr>    \n",
    "<tr>\n",
    "<td></td><td>$(AB)^{-1} = B^{-1}A^{-1}$</td>\n",
    "</tr>    \n",
    "<tr>\n",
    "<td>Reversibilitas dari transposisi hasil kali matriks,</td><td>$(AB)^T = B^TA^T$</td>\n",
    "</tr>    \n",
    "</table>"
   ]
  }
 ],
 "metadata": {
  "kernelspec": {
   "display_name": "Python 3 (ipykernel)",
   "language": "python",
   "name": "python3"
  },
  "language_info": {
   "codemirror_mode": {
    "name": "ipython",
    "version": 3
   },
   "file_extension": ".py",
   "mimetype": "text/x-python",
   "name": "python",
   "nbconvert_exporter": "python",
   "pygments_lexer": "ipython3",
   "version": "3.9.5"
  },
  "toc": {
   "base_numbering": 1,
   "nav_menu": {},
   "number_sections": false,
   "sideBar": true,
   "skip_h1_title": true,
   "title_cell": "Table of Contents",
   "title_sidebar": "Contents",
   "toc_cell": false,
   "toc_position": {},
   "toc_section_display": true,
   "toc_window_display": false
  }
 },
 "nbformat": 4,
 "nbformat_minor": 4
}
